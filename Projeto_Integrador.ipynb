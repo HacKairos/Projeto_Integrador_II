{
  "cells": [
    {
      "cell_type": "code",
      "execution_count": 1,
      "metadata": {
        "id": "DkZorvH2rTjM"
      },
      "outputs": [],
      "source": [
        "#importa a biblioteca beautifulsoup e a biblioteca requests para fazer requisicoes http\n",
        "\n",
        "import requests\n",
        "from bs4 import BeautifulSoup\n",
        "import pandas as pd\n",
        "import json"
      ]
    },
    {
      "cell_type": "markdown",
      "metadata": {
        "id": "20ErUNiW1UZE"
      },
      "source": [
        "# Biblioteca Requests\n",
        "\n",
        "* Biblioteca disponivel no python para executar operações HTTP\n",
        "* Permite realizar requisições HTTP utilizando proxys\n",
        "* Pode baixar conteudos diversos como videos, arquivos, musicas disponiveis e sites\n",
        "\n",
        "https://pypi.org/project/requests/\n"
      ]
    },
    {
      "cell_type": "code",
      "execution_count": 2,
      "metadata": {
        "id": "leddF-gZsAMM"
      },
      "outputs": [],
      "source": [
        "#cria um objeto a partir de um get http da pagina do google\n",
        "r = requests.get('https://www.terra.com.br')\n"
      ]
    },
    {
      "cell_type": "code",
      "execution_count": 3,
      "metadata": {
        "colab": {
          "base_uri": "https://localhost:8080/"
        },
        "id": "Y8C6cS0s2Asb",
        "outputId": "eed1cc28-89d0-467e-bfd6-d1f9ccb00048"
      },
      "outputs": [
        {
          "name": "stdout",
          "output_type": "stream",
          "text": [
            "<Response [200]>\n"
          ]
        }
      ],
      "source": [
        "#Retorna o HTML Status Code\n",
        "print(r)"
      ]
    },
    {
      "cell_type": "code",
      "execution_count": null,
      "metadata": {
        "id": "R8ghWLMzsab9"
      },
      "outputs": [],
      "source": [
        "#Salvando paginas htlm na maquina local\n",
        "url = 'https://www.google.com/search?q=politica&source=hp&ei=tIXlY_XWHdHK1sQPl_CHuAI&iflsig=AK50M_UAAAAAY-WTxHeUA7iISN_xKMjBv1HYXO2BBTCU&ved=0ahUKEwj1gLXbz4n9AhVRpZUCHRf4AScQ4dUDCAc&uact=5&oq=politica&gs_lcp=Cgdnd3Mtd2l6EAMyCAgAEIAEELEDMggIABCABBCxAzIICAAQgAQQsQMyCAgAEIAEELEDMgUIABCABDIFCAAQgAQyBQgAEIAEMggIABCABBCxAzILCAAQgAQQsQMQgwEyBQgAEIAEOgsILhCABBCxAxCDAToICC4QgwEQsQM6CAgAELEDEIMBOggILhCABBDUAjoICC4QsQMQgwE6CwguEIAEEMcBEK8BOg4ILhCABBCxAxDHARDRAzoRCC4QgAQQsQMQgwEQxwEQrwE6EQguEIAEELEDEMcBENEDENQCOgUIABCxA1DNOVisS2CFTWgDcAB4AIABiAGIAeYJkgEEMC4xMJgBAKABAbABAA&sclient=gws-wiz'\n",
        "r = requests.get(url)"
      ]
    },
    {
      "cell_type": "code",
      "execution_count": null,
      "metadata": {
        "id": "Gm57xzIsuf9z"
      },
      "outputs": [],
      "source": [
        "#recebendo o conteudo do link em unicode\n",
        "pagina=r.text"
      ]
    },
    {
      "cell_type": "code",
      "execution_count": null,
      "metadata": {
        "colab": {
          "base_uri": "https://localhost:8080/"
        },
        "id": "CZJSY-QNuunV",
        "outputId": "7b8a1392-2f77-480d-b2c8-3c254d9fc0f8"
      },
      "outputs": [
        {
          "name": "stdout",
          "output_type": "stream",
          "text": [
            "<!doctype html><html lang=\"en\"><head><meta charset=\"UTF-8\"><meta content=\"/images/branding/googleg/1x/googleg_standard_color_128dp.png\" itemprop=\"image\"><title>politica - Google Search</title><script nonce=\"ZyZMI05JwL9itlTM6KZXgw\">(function(){\n",
            "document.documentElement.addEventListener(\"submit\",function(b){var a;if(a=b.target){var c=a.getAttribute(\"data-submitfalse\");a=\"1\"===c||\"q\"===c&&!a.elements.q.value?!0:!1}else a=!1;a&&(b.preventDefault(),b.stopPropagation())},!0);document.documentElement.addEventListener(\"click\",function(b){var a;a:{for(a=b.target;a&&a!==document.documentElement;a=a.parentElement)if(\"A\"===a.tagName){a=\"1\"===a.getAttribute(\"data-nohref\");break a}a=!1}a&&b.preventDefault()},!0);}).call(this);(function(){var a=window.performance;window.start=Date.now();a:{var b=window;if(a){var c=a.timing;if(c){var d=c.navigationStart,f=c.responseStart;if(f>d&&f<=window.start){window.start=f;b.wsrt=f-d;break a}}a.now&&(b.wsrt=Math.floor(a.now()))}}window.google=window.google||{};var h=function(g){g&&g.target.setAttribute(\"data-iml\",String(Date.now()))};document.documentElement.addEventListener(\"load\",h,!0);google.rglh=function(){document.documentElement.removeEventListener(\"load\",h,!0)};}).call(this);(function(){window._skwEvts=[];})();(function(){window.google.erd={jsr:1,bv:1739,de:true};})();(function(){var sdo=false;var mei=10;\n",
            "var h=this||self;var k,l=null!=(k=h.mei)?k:1,n,p=null!=(n=h.sdo)?n:!0,q=0,r,t=google.erd,v=t.jsr;google.ml=function(a,b,d,m,e){e=void 0===e?2:e;b&&(r=a&&a.message);if(google.dl)return google.dl(a,e,d),null;if(0>v){window.console&&console.error(a,d);if(-2===v)throw a;b=!1}else b=!a||!a.message||\"Error loading script\"===a.message||q>=l&&!m?!1:!0;if(!b)return null;q++;d=d||{};b=encodeURIComponent;var c=\"/gen_204?atyp=i&ei=\"+b(google.kEI);google.kEXPI&&(c+=\"&jexpid=\"+b(google.kEXPI));c+=\"&srcpg=\"+b(google.sn)+\"&jsr=\"+b(t.jsr)+\"&bver=\"+b(t.bv);var f=a.lineNumber;void 0!==f&&(c+=\"&line=\"+f);var g=\n",
            "a.fileName;g&&(0<g.indexOf(\"-extension:/\")&&(e=3),c+=\"&script=\"+b(g),f&&g===window.location.href&&(f=document.documentElement.outerHTML.split(\"\\n\")[f],c+=\"&cad=\"+b(f?f.substring(0,300):\"No script found.\")));c+=\"&jsel=\"+e;for(var u in d)c+=\"&\",c+=b(u),c+=\"=\",c+=b(d[u]);c=c+\"&emsg=\"+b(a.name+\": \"+a.message);c=c+\"&jsst=\"+b(a.stack||\"N/A\");12288<=c.length&&(c=c.substr(0,12288));a=c;m||google.log(0,\"\",a);return a};window.onerror=function(a,b,d,m,e){r!==a&&(a=e instanceof Error?e:Error(a),void 0===d||\"lineNumber\"in a||(a.lineNumber=d),void 0===b||\"fileName\"in a||(a.fileName=b),google.ml(a,!1,void 0,!1,\"SyntaxError\"===a.name||\"SyntaxError\"===a.message.substring(0,11)||-1!==a.message.indexOf(\"Script error\")?3:0));r=null;p&&q>=l&&(window.onerror=null)};})();(function(){var c=[],e=0;window.ping=function(b){-1==b.indexOf(\"&zx\")&&(b+=\"&zx=\"+Date.now());var a=new Image,d=e++;c[d]=a;a.onerror=a.onload=a.onabort=function(){delete c[d]};a.src=b};}).call(this);</script><style>a{color:#1a0dab;text-decoration:none;tap-highlight-color:rgba(0,0,0,.10)}a:visited{color:#4b11a8}a:hover{text-decoration:underline}img{border:0}html{font-family:arial,sans-serif;font-size:14px;line-height:20px;text-size-adjust:100%;color:#3c4043;word-wrap:break-word;background-color:#fff}.bRsWnc{background-color:#fff;border-top:1px solid #dadce0;height:39px;overflow:hidden}.N6RWV{height:51px;overflow-scrolling:touch;overflow-x:auto;overflow-y:hidden}.Uv67qb{box-pack:justify;font-size:12px;line-height:37px;justify-content:space-between;justify-content:space-between}.Uv67qb a,.Uv67qb span{color:#70757a;display:block;flex:none;padding:0 16px;text-align:center;text-transform:uppercase;}span.OXXup{border-bottom:2px solid #4285f4;color:#4285f4;font-weight:bold}a.eZt8xd:visited{color:#70757a}.FElbsf{border-left:1px solid rgba(0,0,0,.12)}header article{overflow:visible}.Pg70bf{height:39px;display:box;display:flex;display:flex;width:100%}.H0PQec{position:relative;flex:1}.sbc{display:flex;width:100%}.Pg70bf input{margin:2px 4px 2px 8px;}.x{width:26px;color:#70757a;font:27px/38px arial, sans-serif;line-height:40px;}#qdClwb{flex:0 0 auto;width:39px;height:39px;border-bottom:0;padding:0;border-top-right-radius:8px;background-color:#1a73e8;border:1px solid #1a73e8;background-image:url(data:image/gif;base64,R0lGODdhJAAjAPIHAODr/nCk+MPZ/FmV96zK+/7+/5K5+kqL9iwAAAAAJAAjAEADani63P4wykmbKcQRXDscQAEMXmmeaLQVLCukzyC09AjfeK7v/MAajACLhPMVAgwjsUcEiZa8xgAYrVqv2Kx2iwsIAAABknfBBAKrTE4IcMyot8ur8datqIbQfJdnAfo2WE6BV05wXIiJigkAOw==);}.sc{font-size:16px;position:absolute;top:39px;left:0;right:0;box-shadow:0 2px 5px rgba(0,0,0,.2);z-index:2;background-color:#fff}.sc>div{padding:10px 10px;padding-left:16px;padding-left:14px;border-top:1px solid #dfe1e5;}.scs{background-color:#fafafa;}.noHIxc{display:block;font-size:16px;padding:0 0 0 8px;flex:1;height:35px;outline:none;border:none;width:100%;-webkit-tap-highlight-color:rgba(0,0,0,0);overflow:hidden;}.sbc input[type=text]{background:none}.bz1lBb{background-color:#fff;border-radius:8px 8px 0 0;box-shadow:0 0 0 1px #dfe1e5;margin-top:24px;}.KP7LCb{border-radius:0 0 8px 8px;box-shadow:0px 1px 0px 1px #dfe1e5;margin-bottom:30px;overflow:hidden}html{background-color:#fff}body{margin:0 auto 0 156px;max-width:652px;min-width:652px;padding:0 8px}.cOl4Id{letter-spacing:-1px;text-align:center;font:22pt Futura, Arial, sans-serif;height:37px;font-smoothing:antialiased;padding:32px 28px 0 24px;position:absolute;left:0;top:0}.cOl4Id span{display:inline-block}.V6gwVd{color:#4285f4}.iWkuvd{color:#ea4335}.cDrQ7{color:#fcc934}.ntlR9{color:#34a853}.tJ3Myc{-webkit-transform:rotate(-20deg);position:relative;left:-1px;display:inline-block}footer{text-align:center;margin-top:18px}footer a,footer a:visited,.smiUbb{color:#70757a}.xeDNfc{margin:0 13px;white-space:nowrap}#EOlPnc{margin-top:36px}#EOlPnc>div{margin:20px}.Srfpq{color:#70757a}</style></head><body jsmodel=\"hspDDf\"><header id=\"hdr\"><script nonce=\"ZyZMI05JwL9itlTM6KZXgw\">(function(){\n",
            "var k=this||self,l=function(a){var b=typeof a;return\"object\"==b&&null!=a||\"function\"==b},m=function(a,b){function c(){}c.prototype=b.prototype;a.j=b.prototype;a.prototype=new c;a.prototype.constructor=a;a.l=function(d,e,f){for(var g=Array(arguments.length-2),h=2;h<arguments.length;h++)g[h-2]=arguments[h];return b.prototype[e].apply(d,g)}};var n=Array.prototype.indexOf?function(a,b){return Array.prototype.indexOf.call(a,b,void 0)}:function(a,b){if(\"string\"===typeof a)return\"string\"!==typeof b||1!=b.length?-1:a.indexOf(b,0);for(var c=0;c<a.length;c++)if(c in a&&a[c]===b)return c;return-1};var p=function(a){return\"string\"==typeof a.className?a.className:a.getAttribute&&a.getAttribute(\"class\")||\"\"},q=function(a,b){\"string\"==typeof a.className?a.className=b:a.setAttribute&&a.setAttribute(\"class\",b)},r=function(a,b){a.classList?b=a.classList.contains(b):(a=a.classList?a.classList:p(a).match(/\\S+/g)||[],b=0<=n(a,b));return b},v=function(){var a=t,b=u;a.classList?a.classList.remove(b):r(a,b)&&q(a,Array.prototype.filter.call(a.classList?a.classList:p(a).match(/\\S+/g)||[],function(c){return c!=\n",
            "b}).join(\" \"))};function w(){var a=k.navigator;return a&&(a=a.userAgent)?a:\"\"};var x=function(a){x[\" \"](a);return a};x[\" \"]=function(){};var y=-1!=w().indexOf(\"Gecko\")&&!(-1!=w().toLowerCase().indexOf(\"webkit\")&&-1==w().indexOf(\"Edge\"))&&!(-1!=w().indexOf(\"Trident\")||-1!=w().indexOf(\"MSIE\"))&&-1==w().indexOf(\"Edge\");var z=function(a,b){this.type=a;this.target=b};z.prototype.g=function(){};var A=function(){if(!k.addEventListener||!Object.defineProperty)return!1;var a=!1,b=Object.defineProperty({},\"passive\",{get:function(){a=!0}});try{k.addEventListener(\"test\",function(){},b),k.removeEventListener(\"test\",function(){},b)}catch(c){}return a}();var C=function(a){z.call(this,a?a.type:\"\");this.relatedTarget=this.target=null;this.button=this.screenY=this.screenX=this.clientY=this.clientX=0;this.key=\"\";this.keyCode=0;this.metaKey=this.shiftKey=this.altKey=this.ctrlKey=!1;this.state=null;this.pointerId=0;this.pointerType=\"\";this.h=null;if(a){var b=this.type=a.type,c=a.changedTouches&&a.changedTouches.length?a.changedTouches[0]:null;this.target=a.target||a.srcElement;var d=a.relatedTarget;if(d){if(y){a:{try{x(d.nodeName);var e=!0;break a}catch(f){}e=\n",
            "!1}e||(d=null)}}else\"mouseover\"==b?d=a.fromElement:\"mouseout\"==b&&(d=a.toElement);this.relatedTarget=d;c?(this.clientX=void 0!==c.clientX?c.clientX:c.pageX,this.clientY=void 0!==c.clientY?c.clientY:c.pageY,this.screenX=c.screenX||0,this.screenY=c.screenY||0):(this.clientX=void 0!==a.clientX?a.clientX:a.pageX,this.clientY=void 0!==a.clientY?a.clientY:a.pageY,this.screenX=a.screenX||0,this.screenY=a.screenY||0);this.button=a.button;this.keyCode=a.keyCode||0;this.key=a.key||\"\";this.ctrlKey=a.ctrlKey;this.altKey=a.altKey;this.shiftKey=a.shiftKey;this.metaKey=a.metaKey;this.pointerId=a.pointerId||0;this.pointerType=\"string\"===typeof a.pointerType?a.pointerType:B[a.pointerType]||\"\";this.state=a.state;this.h=a;a.defaultPrevented&&C.j.g.call(this)}};m(C,z);var B={2:\"touch\",3:\"pen\",4:\"mouse\"};C.prototype.g=function(){C.j.g.call(this);var a=this.h;a.preventDefault?a.preventDefault():a.returnValue=!1};var D=\"closure_listenable_\"+(1E6*Math.random()|0);var E=0;var F=function(a,b,c,d,e){this.listener=a;this.proxy=null;this.src=b;this.type=c;this.capture=!!d;this.h=e;this.key=++E;this.g=this.i=!1},G=function(a){a.g=!0;a.listener=null;a.proxy=null;a.src=null;a.h=null};var H=function(a){this.src=a;this.g={};this.h=0};H.prototype.add=function(a,b,c,d,e){var f=a.toString();a=this.g[f];a||(a=this.g[f]=[],this.h++);var g;a:{for(g=0;g<a.length;++g){var h=a[g];if(!h.g&&h.listener==b&&h.capture==!!d&&h.h==e)break a}g=-1}-1<g?(b=a[g],c||(b.i=!1)):(b=new F(b,this.src,f,!!d,e),b.i=c,a.push(b));return b};var I=\"closure_lm_\"+(1E6*Math.random()|0),J={},K=0,M=function(a,b,c,d,e){if(d&&d.once)return L(a,b,c,d,e);if(Array.isArray(b)){for(var f=0;f<b.length;f++)M(a,b[f],c,d,e);return null}c=N(c);return a&&a[D]?a.g(b,c,l(d)?!!d.capture:!!d,e):O(a,b,c,!1,d,e)},O=function(a,b,c,d,e,f){if(!b)throw Error(\"a\");var g=l(e)?!!e.capture:!!e,h=P(a);h||(a[I]=h=new H(a));c=h.add(b,c,d,g,f);if(c.proxy)return c;d=Q();c.proxy=d;d.src=a;d.listener=c;if(a.addEventListener)A||(e=g),void 0===e&&(e=!1),a.addEventListener(b.toString(),d,e);else if(a.attachEvent)a.attachEvent(R(b.toString()),d);else if(a.addListener&&a.removeListener)a.addListener(d);else throw Error(\"b\");K++;return c},Q=function(){var a=S,b=function(c){return a.call(b.src,b.listener,c)};return b},L=function(a,b,c,d,e){if(Array.isArray(b)){for(var f=0;f<b.length;f++)L(a,b[f],c,d,e);return null}c=N(c);return a&&a[D]?a.h(b,c,l(d)?!!d.capture:!!d,e):O(a,b,c,!0,d,e)},T=function(a){if(\"number\"!==typeof a&&a&&!a.g){var b=a.src;if(b&&b[D])b.o(a);else{var c=a.type,d=a.proxy;b.removeEventListener?b.removeEventListener(c,d,a.capture):b.detachEvent?b.detachEvent(R(c),d):b.addListener&&b.removeListener&&b.removeListener(d);K--;if(c=P(b)){d=a.type;if(d in c.g){var e=c.g[d],f=n(e,a),g;(g=0<=f)&&Array.prototype.splice.call(e,f,1);g&&(G(a),0==c.g[d].length&&(delete c.g[d],c.h--))}0==c.h&&(c.src=null,b[I]=null)}else G(a)}}},R=function(a){return a in J?J[a]:J[a]=\"on\"+a},S=function(a,b){if(a.g)a=!0;else{b=new C(b,this);var c=a.listener,d=a.h||a.src;a.i&&T(a);a=c.call(d,b)}return a},P=function(a){a=a[I];return a instanceof H?a:null},U=\"__closure_events_fn_\"+(1E9*Math.random()>>>0),N=function(a){if(\"function\"===typeof a)return a;a[U]||(a[U]=function(b){return a.handleEvent(b)});return a[U]};var u,t=document.documentElement,V;function W(){T(V);V=L(t,\"mousedown\",function(){v();X()},{capture:!0})}function X(){T(V);V=M(t,\"keydown\",function(a){if(9===a.keyCode){a=t;var b=u;if(a.classList)a.classList.add(b);else if(!r(a,b)){var c=p(a);q(a,c+(0<c.length?\" \"+b:b))}W()}})};u=\"zAoYTe\";X();}).call(this);</script><div class=\"cOl4Id\"><a href=\"/?sa=X&amp;ved=0ahUKEwi6yMqf0In9AhUGxosKHU_0DxwQOwgC\"><span class=\"V6gwVd\">G</span><span class=\"iWkuvd\">o</span><span class=\"cDrQ7\">o</span><span class=\"V6gwVd\">g</span><span class=\"ntlR9\">l</span><span class=\"iWkuvd tJ3Myc\">e</span></a></div><div class=\"bz1lBb\"><form class=\"Pg70bf\" id=\"sf\"><input name=\"ie\" value=\"ISO-8859-1\" type=\"hidden\"><div class=\"H0PQec\"><div class=\"sbc esbc\"><input class=\"noHIxc\" value=\"politica\" autocapitalize=\"none\" autocomplete=\"off\" name=\"q\" spellcheck=\"false\" type=\"text\"><input name=\"oq\" type=\"hidden\"><input name=\"aqs\" type=\"hidden\"><div class=\"x\">×</div><div class=\"sc\"></div></div></div><button id=\"qdClwb\" type=\"submit\"></button></form></div><noscript><meta content=\"0;url=/search?q=politica&amp;ie=UTF-8&amp;gbv=1&amp;sei=Q4blY_qaG4aMrwTP6L_gAQ\" http-equiv=\"refresh\"><style>table,div,span,p{display:none}</style><div style=\"display:block\">Please click <a href=\"/search?q=politica&amp;ie=UTF-8&amp;gbv=1&amp;sei=Q4blY_qaG4aMrwTP6L_gAQ\">here</a> if you are not redirected within a few seconds.</div></noscript></header><div id=\"main\"><div><div class=\"KP7LCb\"> <div class=\"bRsWnc\"> <div class=\"N6RWV\"> <div class=\"Pg70bf Uv67qb\"> <span class=\"OXXup\">All</span><a class=\"eZt8xd\" href=\"/search?q=politica&amp;ie=UTF-8&amp;source=lnms&amp;tbm=nws&amp;sa=X&amp;ved=0ahUKEwi6yMqf0In9AhUGxosKHU_0DxwQ_AUIBigB\">News</a><a class=\"eZt8xd\" href=\"/search?q=politica&amp;ie=UTF-8&amp;source=lnms&amp;tbm=isch&amp;sa=X&amp;ved=0ahUKEwi6yMqf0In9AhUGxosKHU_0DxwQ_AUIBygC\">Images</a><a class=\"eZt8xd\" href=\"/search?q=politica&amp;ie=UTF-8&amp;source=lnms&amp;tbm=vid&amp;sa=X&amp;ved=0ahUKEwi6yMqf0In9AhUGxosKHU_0DxwQ_AUICCgD\">Videos</a>  <a href=\"https://maps.google.com/maps?q=politica&amp;iflsig=AK50M_UAAAAAY-WTxHeUA7iISN_xKMjBv1HYXO2BBTCU&amp;uact=5&amp;gs_lcp=Cgdnd3Mtd2l6EAMyCAgAEIAEELEDMggIABCABBCxAzIICAAQgAQQsQMyCAgAEIAEELEDMgUIABCABDIFCAAQgAQyBQgAEIAEMggIABCABBCxAzILCAAQgAQQsQMQgwEyBQgAEIAEOgsILhCABBCxAxCDAToICC4QgwEQsQM6CAgAELEDEIMBOggILhCABBDUAjoICC4QsQMQgwE6CwguEIAEEMcBEK8BOg4ILhCABBCxAxDHARDRAzoRCC4QgAQQsQMQgwEQxwEQrwE6EQguEIAEELEDEMcBENEDENQCOgUIABCxA1DNOVisS2CFTWgDcAB4AIABiAGIAeYJkgEEMC4xMJgBAKABAbABAA&amp;um=1&amp;ie=UTF-8&amp;sa=X&amp;ved=0ahUKEwi6yMqf0In9AhUGxosKHU_0DxwQ_AUICSgE\">Maps</a>  <a href=\"/search?q=politica&amp;ie=UTF-8&amp;source=lnms&amp;tbm=shop&amp;sa=X&amp;ved=0ahUKEwi6yMqf0In9AhUGxosKHU_0DxwQ_AUICigF\">Shopping</a>  <a href=\"/search?q=politica&amp;ie=UTF-8&amp;source=lnms&amp;tbm=bks&amp;sa=X&amp;ved=0ahUKEwi6yMqf0In9AhUGxosKHU_0DxwQ_AUICygG\">Books</a>  <div class=\"FElbsf\"><a href=\"/advanced_search\" style=\"white-space:nowrap\" id=\"st-toggle\" role=\"button\">Search tools</a></div> </div> </div> </div> </div><div class=\"Pg70bf wEsjbd Gx5Zad xpd EtOod pkphOe\" style=\"display:none\" id=\"st-card\"><style>.wEsjbd{background-color:#fff;height:44px;white-space:nowrap}.coPU8c{height:60px;overflow-scrolling:touch;overflow-x:auto;overflow-y:hidden}.Xj2aue{height:44px;overflow:hidden}.RnNGze{margin:11px 16px}.wEsjbd div,.wEsjbd a,.wEsjbd li{outline-width:0;outline:none}</style><div class=\"Xj2aue\"><div class=\"coPU8c\"><div class=\"RnNGze\"><style>.PA9J5{display:inline-block}.RXaOfd{display:inline-block;height:22px;position:relative;padding-top:0;padding-bottom:0;padding-right:16px;padding-left:0;line-height:22px;cursor:pointer;text-transform:uppercase;font-size:12px;color:#70757a}.sa1toc{background:#fff;display:none;position:absolute;border:1px solid #dadce0;box-shadow:0 2px 4px rgba(0,0,0,.3);margin:0;white-space:nowrap;z-index:103;line-height:17px;padding-top:5px;padding-bottom:5px;padding-left:0}.PA9J5:hover .sa1toc{display:block}.mGSy8d a:active,.RXaOfd:active{color:#4285f4}</style><div class=\"PA9J5\"><div class=\"RXaOfd\" role=\"button\" tabindex=\"0\"><style>.TWMOUc{display:inline-block;padding-right:14px;white-space:nowrap}.vQYuGf{font-weight:bold}.OmTIzf{border-color:#909090 transparent;border-style:solid;border-width:4px 4px 0 4px;width:0;height:0;margin-left:-10px;top:50%;margin-top:-2px;position:absolute}.RXaOfd:active .OmTIzf{border-color:#4285f4 transparent}</style><div class=\"TWMOUc\">Any time</div><span class=\"OmTIzf\"></span></div><ul class=\"sa1toc ozatM\"><style>.ozatM{font-size:12px;text-transform:uppercase}.ozatM .yNFsl,.ozatM li{list-style-type:none;list-style-position:outside;list-style-image:none}.yNFsl.SkUj4c,.yNFsl a{color:#70757a;text-decoration:none;padding:6px 44px 6px 14px;line-height:17px;display:block}.SkUj4c{background-image:url(//ssl.gstatic.com/ui/v1/menu/checkmark2.png);background-position:right center;background-repeat:no-repeat}.SkUj4c:active{background-color:#f8f9fa}</style><li class=\"yNFsl SkUj4c\">Any time</li><li class=\"yNFsl\"><a href=\"/search?q=politica&amp;ie=UTF-8&amp;source=lnt&amp;tbs=qdr:h&amp;sa=X&amp;ved=0ahUKEwi6yMqf0In9AhUGxosKHU_0DxwQpwUIDQ\">Past hour</a></li><li class=\"yNFsl\"><a href=\"/search?q=politica&amp;ie=UTF-8&amp;source=lnt&amp;tbs=qdr:d&amp;sa=X&amp;ved=0ahUKEwi6yMqf0In9AhUGxosKHU_0DxwQpwUIDg\">Past 24 hours</a></li><li class=\"yNFsl\"><a href=\"/search?q=politica&amp;ie=UTF-8&amp;source=lnt&amp;tbs=qdr:w&amp;sa=X&amp;ved=0ahUKEwi6yMqf0In9AhUGxosKHU_0DxwQpwUIDw\">Past week</a></li><li class=\"yNFsl\"><a href=\"/search?q=politica&amp;ie=UTF-8&amp;source=lnt&amp;tbs=qdr:m&amp;sa=X&amp;ved=0ahUKEwi6yMqf0In9AhUGxosKHU_0DxwQpwUIEA\">Past month</a></li><li class=\"yNFsl\"><a href=\"/search?q=politica&amp;ie=UTF-8&amp;source=lnt&amp;tbs=qdr:y&amp;sa=X&amp;ved=0ahUKEwi6yMqf0In9AhUGxosKHU_0DxwQpwUIEQ\">Past year</a></li></ul></div><div class=\"PA9J5\"><div class=\"RXaOfd\" role=\"button\" tabindex=\"0\"><div class=\"TWMOUc\">All results</div><span class=\"OmTIzf\"></span></div><ul class=\"sa1toc ozatM\"><li class=\"yNFsl SkUj4c\">All results</li><li class=\"yNFsl\"><a href=\"/search?q=politica&amp;ie=UTF-8&amp;source=lnt&amp;tbs=li:1&amp;sa=X&amp;ved=0ahUKEwi6yMqf0In9AhUGxosKHU_0DxwQpwUIEw\">Verbatim</a></li></ul></div></div></div></div><script nonce=\"ZyZMI05JwL9itlTM6KZXgw\">(function(){var a=document.getElementById(\"st-toggle\"),b=document.getElementById(\"st-card\");a&&b&&a.addEventListener(\"click\",function(c){b.style.display=b.style.display?\"\":\"none\";c.preventDefault()},!1);}).call(this);</script></div></div><style>.Gx5Zad{background-color:#fff;margin-bottom:30px;box-shadow:0 0 0 1px #dfe1e5;border-radius:8px}.pkphOe{font-size:14px;line-height:22px;}.EtOod>*:first-child{border-top-left-radius:8px;border-top-right-radius:8px}.EtOod>*:last-child{border-bottom-left-radius:8px;border-bottom-right-radius:8px}.EtOod>.qxDOhb>*:first-child{border-top-left-radius:8px;border-top-right-radius:8px}.EtOod>.qxDOhb>*:last-child{border-bottom-left-radius:8px;border-bottom-right-radius:8px}.fP1Qef{background:transparent !important;box-shadow:none !important;border:none !important}.Gx5Zad.fP1Qef{margin-top:-12px;margin-bottom:18px}.rl7ilb{display:block;clear:both}.egMi0{margin-bottom:-19px}.kCrYT{padding:12px 16px 12px}a.fdYsqf{color:#4b11a8}.sCuL3{position:absolute;width:100%;top:0;left:0;padding-top:1px;margin-bottom:-1px}.j039Wc{padding-top:28px;margin-bottom:-1px}.DnJfK{position:relative}.l97dzf{font-weight:400}.zBAuLc{line-height:normal;margin:0;padding:0}.BNeawe{white-space:pre-line;word-wrap:break-word}.vvjwJb{color:#1a0dab;font-size:20px;line-height:26px}a:visited .vvjwJb,.vvjwJb a:visited{color:#4b11a8}.vvjwJb.HrGdeb{color:#fff}a:visited .vvjwJb.HrGdeb,.vvjwJb.HrGdeb a:visited{color:rgba(255,255,255,.70)}.UPmit{font-size:14px;line-height:22px}.UPmit.HrGdeb{color:rgba(255,255,255,.70)}.UPmit.AP7Wnd{color:#202124}.lRVwie{text-overflow:ellipsis;white-space:nowrap;overflow:hidden}.Ap5OSd{padding-bottom:12px}.s3v9rd{font-size:14px;line-height:22px}.s3v9rd.HrGdeb{color:#fff}.s3v9rd.AP7Wnd{color:#202124}.mSx1Ee{padding-left:48px;margin:0}.v9i61e{padding-bottom:8px}.XLloXe{color:#1a0dab;font-size:14px;line-height:20px}a:visited .XLloXe,.XLloXe a:visited{color:#4b11a8}.XLloXe.HrGdeb{color:#fff}a:visited .XLloXe.HrGdeb,.XLloXe.HrGdeb a:visited{color:rgba(255,255,255,.70)}.K8tyEc{padding-bottom:12px}.mEUgP{font-weight:bold;font-size:16px;color:#000;margin:0;padding:12px 16px 0 16px}.FCUp0c{font-weight:bold}.x54gtf{height:1px;background-color:#dadce0;margin:0 16px}.Q0HXG{height:1px;background-color:#dadce0}.C7GS5b{margin-left:12px;display:table-cell;vertical-align:middle}.rkGIWe{padding:14px}.xpc .hwc,.xpx .hwx{display:none}.iIWm4b{box-sizing:border-box;min-height:48px}.fLtXsc{padding:14px;position:relative}.NtmAdb{width:40px;height:40px;overflow:hidden;margin-top:-10px;margin-bottom:-16px;margin-right:8px;border-radius:4px}.xpc .NtmAdb{display:inline-block}.xpx .NtmAdb{display:none}.Lt3Tzc{display:inline-block;padding-right:26px}.Lym8W{width:14px;height:20px;position:relative;margin:0 auto}.xCgLUe{position:absolute;right:16px;margin-top:-10px;top:50%}.Lym8W div{position:absolute;border-left:7px solid transparent;border-right:7px solid transparent;width:0;height:0;left:0}.IyYaEd{top:7px;border-top:7px solid #70757a}.ECUHQe{top:4px;border-top:7px solid #fff}.AeQQub{bottom:7px;border-bottom:7px solid #70757a}.YCU7eb{bottom:4px;border-bottom:7px solid #fff}.qxDOhb{border-radius:0}.yStFkb .xpd{border-radius:8px;box-shadow:none;border:1px solid #dadce0;margin-bottom:0}.oTWEpb{padding-top:12px}.n1Qedd{overflow:hidden;text-align:center}.KMAGC{margin:0 auto;display:block}.ho0sdc{margin:0 -50%;display:inline-block}.Xb5VRe{color:#1a0dab}a:visited .Xb5VRe{color:#4b11a8}.Xb5VRe.tr0dw{color:#fff}a:visited .Xb5VRe.tr0dw{color:rgba(255,255,255,.70)}.P1NWSe{display:table;width:100%;padding-top:16px;padding-bottom:16px;margin-bottom:-12px}.wOMIed{display:table-cell;vertical-align:top}.nkPlDb{vertical-align:middle}.JhFlyf{color:#3c4043;font-size:14px;text-align:center}.VQFmSd{display:block;white-space:pre-line;word-wrap:break-word}.JhFlyf.VQFmSd{line-height:22px}.f4J0H{padding:18px}.deIvCb{font-size:16px;line-height:20px;font-weight:400}.deIvCb.HrGdeb{color:#fff}.deIvCb.AP7Wnd{color:#202124}.tAd8D{font-size:14px;line-height:20px}.tAd8D.HrGdeb{color:rgba(255,255,255,.70)}.tAd8D.AP7Wnd{color:#70757a}.Xdlr0d{overflow-x:auto;-webkit-overflow-scrolling:touch;margin:0 -8px;padding:2px 0 16px 24px;margin-top:-2px;transform:translate3d(0,0,0)}.idg8be{display:table;border-collapse:separate;border-spacing:8px 0;margin:0 -8px;padding-right:16px}.BVG0Nb{display:table-cell;vertical-align:top;background-color:#fff;border-radius:8px;box-shadow:0 0 0 1px #dfe1e5;overflow:hidden}.WddBJd{display:block;margin:0 auto}.RJI4s{vertical-align:middle}.mHhylf{display:table-cell;vertical-align:middle}.WZ5GJf{align-items:center;padding:0 20px;min-width:112px}.qN9Ked,.DXk5Me{margin:0 auto}.DXk5Me{cursor:pointer;margin-bottom:12px}.Dk7jOe{display:block;margin:0 auto}.Qi9Fd{background:#fff;border:0;border-radius:999px;display:block;height:56px;justify-content:center;width:56px;z-index:0}.Qi9Fd{box-shadow:0 0 0 1px #dfe1e5,inset 0 0 0 0 rgba(0,0,0,.1),inset 0 0 0 0 rgba(255,255,255,.5)}.Qi9Fd:focus{outline:none}.Qi9Fd .hWHuJ{display:block;margin:0 auto}.ji5jpf{text-align:center}.gGQDvd{padding:14px;position:relative}.Q71vJc{display:block;position:relative;width:100%}.kjGX2{position:absolute;left:48px;right:0;vertical-align:bottom;display:inline-block;color:#3c4043}.ieB2Dd{overflow:hidden;margin-top:-10px;margin-bottom:-16px;margin-right:8px;border-radius:4px;display:inline-block;border-radius:50%;padding:10px}.OEaqif{width:20px;height:20px;display:block}.rLshyf,.BmP5tf{padding-top:12px;padding-bottom:12px}.YOx3Ab{padding-left:16px;}.w1C3Le,.BmP5tf,.G5NbBd,.CS4w5b{padding-left:16px;padding-right:16px;}.G5NbBd{padding-bottom:12px}.CS4w5b{padding-top:12px}.nMymef{display:flex}.G5eFlf{flex:1;display:block}.nMymef span{text-align:center}.EYqSq{margin:6px 4px 9px 0;border-radius:100%;display:inline-block;height:10px;vertical-align:middle;width:10px}.dfB0uf{color:#3c4043;font-weight:bold}</style><div><!--SW_C_X--></div><div></div><div><div class=\"Gx5Zad fP1Qef xpd EtOod pkphOe\"><div class=\"egMi0 kCrYT\"><a href=\"/url?q=https://www.politico.com/&amp;sa=U&amp;ved=2ahUKEwi6yMqf0In9AhUGxosKHU_0DxwQFnoECAcQAg&amp;usg=AOvVaw2RVEFYySBWuYCWM9XlZ1qq\"><div class=\"DnJfK\"><div class=\"j039Wc\"><h3 class=\"zBAuLc l97dzf\"><div class=\"BNeawe vvjwJb AP7Wnd\">Politics, Policy, Political News - POLITICO</div></h3></div><div class=\"sCuL3\"><div class=\"BNeawe UPmit AP7Wnd lRVwie\">www.politico.com</div></div></div></a></div><div class=\"kCrYT\"><div><div class=\"BNeawe s3v9rd AP7Wnd\"><div><div class=\"v9i61e\"><div class=\"BNeawe s3v9rd AP7Wnd\">Nobody knows politics like POLITICO.</div></div><div><div class=\"BNeawe s3v9rd AP7Wnd\"><span class=\"BNeawe\"><a href=\"/url?q=https://www.politico.com/politics&amp;sa=U&amp;ved=2ahUKEwi6yMqf0In9AhUGxosKHU_0DxwQ0gJ6BAgHEAU&amp;usg=AOvVaw0cVXzLa9reDE8UUJSUKmDb\"><span class=\"XLloXe AP7Wnd\">Politico Logo</span></a></span> · <span class=\"BNeawe\"><a href=\"/url?q=https://www.politico.com/section/magazine&amp;sa=U&amp;ved=2ahUKEwi6yMqf0In9AhUGxosKHU_0DxwQ0gJ6BAgHEAY&amp;usg=AOvVaw3S3S6R9quLgrO4aTsI9NLU\"><span class=\"XLloXe AP7Wnd\">Magazine</span></a></span> · <span class=\"BNeawe\"><a href=\"/url?q=https://www.politico.com/tag/agriculture&amp;sa=U&amp;ved=2ahUKEwi6yMqf0In9AhUGxosKHU_0DxwQ0gJ6BAgHEAc&amp;usg=AOvVaw2aBmm04HssskCYfEe1bPDY\"><span class=\"XLloXe AP7Wnd\">Agriculture</span></a></span> · <span class=\"BNeawe\"><a href=\"/url?q=https://www.politico.com/cannabis&amp;sa=U&amp;ved=2ahUKEwi6yMqf0In9AhUGxosKHU_0DxwQ0gJ6BAgHEAg&amp;usg=AOvVaw1oXrcG4GMS4pqGRZXjDztm\"><span class=\"XLloXe AP7Wnd\">Cannabis</span></a></span></div></div></div></div></div></div></div></div><div><div class=\"Gx5Zad xpd EtOod pkphOe\"><div class=\"K8tyEc\"><div class=\"mEUgP\"><span><div class=\"BNeawe\"><span class=\"FCUp0c rQMQod\">People also ask</span></div></span></div></div><div class=\"x54gtf\"></div><div><div class=\"xpc\"><div class=\"duf-h\"><div class=\"fLtXsc iIWm4b\" aria-expanded=\"false\" id=\"tsuid_1\" role=\"button\" tabindex=\"0\" data-ved=\"2ahUKEwi6yMqf0In9AhUGxosKHU_0DxwQuk56BAgAEAI\"><div class=\"Lt3Tzc\">What means politica?</div><div class=\"Lym8W xCgLUe\"><div class=\"AeQQub hwc\"></div><div class=\"YCU7eb hwc\"></div><div class=\"IyYaEd hwx\"></div><div class=\"ECUHQe hwx\"></div></div></div></div><div class=\"qxDOhb\" id=\"accdef_1\"></div></div></div><div class=\"x54gtf\"></div><div><div class=\"xpc\"><div class=\"duf-h\"><div class=\"fLtXsc iIWm4b\" aria-expanded=\"false\" id=\"tsuid_2\" role=\"button\" tabindex=\"0\" data-ved=\"2ahUKEwi6yMqf0In9AhUGxosKHU_0DxwQuk56BAgAEAk\"><div class=\"Lt3Tzc\">What type of word is political?</div><div class=\"Lym8W xCgLUe\"><div class=\"AeQQub hwc\"></div><div class=\"YCU7eb hwc\"></div><div class=\"IyYaEd hwx\"></div><div class=\"ECUHQe hwx\"></div></div></div></div><div class=\"qxDOhb\" id=\"accdef_3\"></div></div></div></div></div><div><div class=\"Gx5Zad fP1Qef xpd EtOod pkphOe\"><div class=\"egMi0 kCrYT\"><a href=\"/url?q=https://en.wiktionary.org/wiki/pol%25C3%25ADtica&amp;sa=U&amp;ved=2ahUKEwi6yMqf0In9AhUGxosKHU_0DxwQFnoECAoQAg&amp;usg=AOvVaw0l0wC8oUxui5zb6UalYAxb\"><div class=\"DnJfK\"><div class=\"j039Wc\"><h3 class=\"zBAuLc l97dzf\"><div class=\"BNeawe vvjwJb AP7Wnd\">política - Wiktionary</div></h3></div><div class=\"sCuL3\"><div class=\"BNeawe UPmit AP7Wnd lRVwie\">en.wiktionary.org &#8250; wiki &#8250; política</div></div></div></a></div><div class=\"kCrYT\"><div><div class=\"BNeawe s3v9rd AP7Wnd\"><div><div class=\"v9i61e\"><div class=\"BNeawe s3v9rd AP7Wnd\">NounEdit · politics (activities associated with running a government or organisation) · policy (a formal principle or protocol of conduct) · female equivalent of ...</div></div><div><div class=\"BNeawe s3v9rd AP7Wnd\"><span class=\"BNeawe\"><a href=\"/url?q=https://en.wiktionary.org/wiki/pol%25C3%25ADtica%23Catalan&amp;sa=U&amp;ved=2ahUKEwi6yMqf0In9AhUGxosKHU_0DxwQ0gJ6BAgKEAU&amp;usg=AOvVaw1FgZJfB6aibbkJqFGglXwH\"><span class=\"XLloXe AP7Wnd\">Catalan</span></a></span> · <span class=\"BNeawe\"><a href=\"/url?q=https://en.wiktionary.org/wiki/pol%25C3%25ADtica%23Galician&amp;sa=U&amp;ved=2ahUKEwi6yMqf0In9AhUGxosKHU_0DxwQ0gJ6BAgKEAY&amp;usg=AOvVaw1mZm0ds7eblXavyx3viZUj\"><span class=\"XLloXe AP7Wnd\">Galician</span></a></span> · <span class=\"BNeawe\"><a href=\"/url?q=https://en.wiktionary.org/wiki/pol%25C3%25ADtica%23Portuguese&amp;sa=U&amp;ved=2ahUKEwi6yMqf0In9AhUGxosKHU_0DxwQ0gJ6BAgKEAc&amp;usg=AOvVaw26_xAzwdcyBRKeo5_9IuEw\"><span class=\"XLloXe AP7Wnd\">Portuguese</span></a></span> · <span class=\"BNeawe\"><a href=\"/url?q=https://en.wiktionary.org/wiki/pol%25C3%25ADtica%23Spanish&amp;sa=U&amp;ved=2ahUKEwi6yMqf0In9AhUGxosKHU_0DxwQ0gJ6BAgKEAg&amp;usg=AOvVaw2Il06ezcHchklSLKrpTo2J\"><span class=\"XLloXe AP7Wnd\">Spanish</span></a></span></div></div></div></div></div></div></div></div><div><div class=\"Gx5Zad fP1Qef xpd EtOod pkphOe\"><div class=\"egMi0 kCrYT\"><a href=\"/url?q=https://en.wiktionary.org/wiki/politica&amp;sa=U&amp;ved=2ahUKEwi6yMqf0In9AhUGxosKHU_0DxwQFnoECAkQAg&amp;usg=AOvVaw2OVAL9BxR6DfPi-azEY0I9\"><div class=\"DnJfK\"><div class=\"j039Wc\"><h3 class=\"zBAuLc l97dzf\"><div class=\"BNeawe vvjwJb AP7Wnd\">politica - Wiktionary</div></h3></div><div class=\"sCuL3\"><div class=\"BNeawe UPmit AP7Wnd lRVwie\">en.wiktionary.org &#8250; wiki &#8250; politica</div></div></div></a></div><div class=\"kCrYT\"><div><div class=\"BNeawe s3v9rd AP7Wnd\"><div><div><div class=\"BNeawe s3v9rd AP7Wnd\">NounEdit · (uncountable) politics. la politica di Obama &#8213; the politics of Obama. è facile diventare cinici sulla politica · policy. politica estera &#8213; foreign ...</div></div></div></div></div></div></div></div><div><div class=\"Gx5Zad fP1Qef xpd EtOod pkphOe\"><div class=\"egMi0 kCrYT\"><a href=\"/url?q=https://www.collinsdictionary.com/us/dictionary/italian-english/politica&amp;sa=U&amp;ved=2ahUKEwi6yMqf0In9AhUGxosKHU_0DxwQFnoECAIQAg&amp;usg=AOvVaw1JVpCwcdMIM6nsTgHiAr2l\"><div class=\"DnJfK\"><div class=\"j039Wc\"><h3 class=\"zBAuLc l97dzf\"><div class=\"BNeawe vvjwJb AP7Wnd\">English Translation of &#8220;politica&#8221; | Collins Italian-English Dictionary</div></h3></div><div class=\"sCuL3\"><div class=\"BNeawe UPmit AP7Wnd lRVwie\">www.collinsdictionary.com &#8250; dictionary &#8250; italian-english &#8250; politica</div></div></div></a></div><div class=\"kCrYT\"><div><div class=\"BNeawe s3v9rd AP7Wnd\"><div><div><div class=\"BNeawe s3v9rd AP7Wnd\">Politics is the actions or activities concerned with achieving and using power in a country or organization. He was involved in local politics. ... A policy is a ...</div></div></div></div></div></div></div></div><div><div class=\"Gx5Zad fP1Qef xpd EtOod pkphOe\"><div class=\"egMi0 kCrYT\"><a href=\"/url?q=https://dictionary.cambridge.org/dictionary/italian-english/politica&amp;sa=U&amp;ved=2ahUKEwi6yMqf0In9AhUGxosKHU_0DxwQFnoECAQQAg&amp;usg=AOvVaw0LqCoQ5DMkPqU2wz3q_zUG\"><div class=\"DnJfK\"><div class=\"j039Wc\"><h3 class=\"zBAuLc l97dzf\"><div class=\"BNeawe vvjwJb AP7Wnd\">politica in English - Cambridge Dictionary</div></h3></div><div class=\"sCuL3\"><div class=\"BNeawe UPmit AP7Wnd lRVwie\">dictionary.cambridge.org &#8250; dictionary &#8250; italian-english &#8250; politica</div></div></div></a></div><div class=\"kCrYT\"><div><div class=\"BNeawe s3v9rd AP7Wnd\"><div><div><div class=\"BNeawe s3v9rd AP7Wnd\">politica. noun. policy [noun] a planned or agreed course of action usually based on particular principles. politics [noun singular or plural] the science or ...</div></div></div></div></div></div></div></div><div><div class=\"Gx5Zad xpd EtOod pkphOe\"><div class=\"kCrYT\"><div class=\"BNeawe deIvCb AP7Wnd\"><span class=\"BNeawe\"><a href=\"https://www.google.com/search?ie=UTF-8&amp;ei=Q4blY_qaG4aMrwTP6L_gAQ&amp;q=politica&amp;tbm=isch&amp;sa=X&amp;ved=2ahUKEwi6yMqf0In9AhUGxosKHU_0DxwQsAR6BAgLEAE\"><span class=\"deIvCb AP7Wnd\"><span class=\"FCUp0c rQMQod\">Images</span></span></a></span></div><div class=\"BNeawe tAd8D AP7Wnd\"><span class=\"BNeawe\"><a href=\"https://www.google.com/search?ie=UTF-8&amp;ei=Q4blY_qaG4aMrwTP6L_gAQ&amp;q=politica&amp;tbm=isch&amp;sa=X&amp;ved=2ahUKEwi6yMqf0In9AhUGxosKHU_0DxwQ7Al6BAgLEAI\"><span class=\"tAd8D AP7Wnd\"><span class=\"rQMQod Xb5VRe\">View all</span></span></a></span></div></div><div><div><div><div class=\"Xdlr0d\"><div class=\"idg8be\"><a class=\"BVG0Nb\" href=\"https://www.google.com/imgres?imgurl=https://images.squarespace-cdn.com/content/v1/5efb88803e2328745c7b3c39/5566acf8-15d9-4e11-8f75-8bb8ba237076/Transparent_Logo.png&amp;imgrefurl=https://londonpolitica.com/&amp;h=264&amp;w=184&amp;tbnid=Wazsg3zvQv6KPM&amp;q=politica&amp;tbnh=112&amp;tbnw=78&amp;usg=AI4_-kTtW5AG3Bo8zqBmiK-jRYe0KsjiiA&amp;vet=1&amp;docid=tY65cvR98VwI3M&amp;sa=X&amp;ved=2ahUKEwi6yMqf0In9AhUGxosKHU_0DxwQ9QF6BAgLEAQ\"><div><img class=\"WddBJd\" style=\"max-width:none;height:128px;max-height:128px\" alt=\"London Politica\" src=\"data:image/gif;base64,R0lGODlhAQABAIAAAP///////yH5BAEKAAEALAAAAAABAAEAAAICTAEAOw==\" id=\"dimg_17\" data-deferred=\"1\"></div></a><a class=\"BVG0Nb\" href=\"https://www.google.com/imgres?imgurl=https://oll-resources.s3.us-east-2.amazonaws.com/oll3/store/titles/692/lf0002_figure_004.jpg&amp;imgrefurl=https://oll.libertyfund.org/title/althusius-politica&amp;h=609&amp;w=400&amp;tbnid=W4Stx2Ax2aFO0M&amp;q=politica&amp;tbnh=136&amp;tbnw=89&amp;usg=AI4_-kTusWqb-KRYv29e5_mW0WPXyU-ZBg&amp;vet=1&amp;docid=Ax6f0WW2qnZSDM&amp;sa=X&amp;ved=2ahUKEwi6yMqf0In9AhUGxosKHU_0DxwQ9QF6BAgLEAY\"><div><img class=\"WddBJd\" style=\"max-width:none;height:128px;max-height:128px\" alt=\"Politica | Online Library of Liberty\" src=\"data:image/gif;base64,R0lGODlhAQABAIAAAP///////yH5BAEKAAEALAAAAAABAAEAAAICTAEAOw==\" id=\"dimg_19\" data-deferred=\"1\"></div></a><a class=\"BVG0Nb\" href=\"https://www.google.com/imgres?imgurl=https://static.cambridge.org/covers/IPO_0_0_0/italian_political%2520science%2520review%2520_%2520rivista%2520italiana%2520di%2520scienza%2520politica.jpg?send-full-size-image%3Dtrue&amp;imgrefurl=https://www.cambridge.org/core/journals/italian-political-science-review-rivista-italiana-di-scienza-politica&amp;h=2560&amp;w=1803&amp;tbnid=saFrCpsRspnyIM&amp;q=politica&amp;tbnh=150&amp;tbnw=106&amp;usg=AI4_-kQEsoC4z2OiEkXmCIl725IRVO21oA&amp;vet=1&amp;docid=FUNpZU9BcaFDxM&amp;sa=X&amp;ved=2ahUKEwi6yMqf0In9AhUGxosKHU_0DxwQ9QF6BAgLEAg\"><div><img class=\"WddBJd\" style=\"max-width:none;height:128px;max-height:128px\" alt=\"Italian Political Science Review / Rivista Italiana di Scienza ...\" src=\"data:image/gif;base64,R0lGODlhAQABAIAAAP///////yH5BAEKAAEALAAAAAABAAEAAAICTAEAOw==\" id=\"dimg_21\" data-deferred=\"1\"></div></a><a class=\"BVG0Nb\" href=\"https://www.google.com/imgres?imgurl=https://www.cinemapolitica.org/wp-content/uploads/2021/05/cp_web_image.jpeg&amp;imgrefurl=https://www.cinemapolitica.org/&amp;h=385&amp;w=639&amp;tbnid=hnij46S3l8MX7M&amp;q=politica&amp;tbnh=83&amp;tbnw=137&amp;usg=AI4_-kS2_LLVKJ7H7A1juaHriANp7jb7fQ&amp;vet=1&amp;docid=ZLp3yUcf16OCzM&amp;sa=X&amp;ved=2ahUKEwi6yMqf0In9AhUGxosKHU_0DxwQ9QF6BAgLEAo\"><div><img class=\"WddBJd\" style=\"max-width:none;height:128px;max-height:128px\" alt=\"Home - Cinema Politica\" src=\"data:image/gif;base64,R0lGODlhAQABAIAAAP///////yH5BAEKAAEALAAAAAABAAEAAAICTAEAOw==\" id=\"dimg_23\" data-deferred=\"1\"></div></a><a class=\"BVG0Nb\" href=\"https://www.google.com/imgres?imgurl=https://oll-resources.s3.us-east-2.amazonaws.com/oll3/store/titles/692/Althusius_9780865971158_800h_72.jpg&amp;imgrefurl=https://oll.libertyfund.org/title/althusius-politica&amp;h=800&amp;w=504&amp;tbnid=vH5s5EKWHPyP8M&amp;q=politica&amp;tbnh=143&amp;tbnw=90&amp;usg=AI4_-kQWGAZS47cqm_4gaVhgIfQFc6rzPQ&amp;vet=1&amp;docid=Ax6f0WW2qnZSDM&amp;sa=X&amp;ved=2ahUKEwi6yMqf0In9AhUGxosKHU_0DxwQ9QF6BAgLEAw\"><div><img class=\"WddBJd\" style=\"max-width:none;height:128px;max-height:128px\" alt=\"Politica | Online Library of Liberty\" src=\"data:image/gif;base64,R0lGODlhAQABAIAAAP///////yH5BAEKAAEALAAAAAABAAEAAAICTAEAOw==\" id=\"dimg_25\" data-deferred=\"1\"></div></a><a class=\"BVG0Nb\" href=\"https://www.google.com/imgres?imgurl=https://www.lavanguardia.com/files/image_449_464/files/fp/uploads/2023/02/06/63e1713f395da.r_d.2736-1824.jpeg&amp;imgrefurl=https://www.lavanguardia.com/politica&amp;h=464&amp;w=449&amp;tbnid=UqEPd3ecsb6a9M&amp;q=politica&amp;tbnh=128&amp;tbnw=124&amp;usg=AI4_-kTuTEzCZutPXuKKcFChuKTeZ_aFTw&amp;vet=1&amp;docid=FxjeXrM0CCFzUM&amp;sa=X&amp;ved=2ahUKEwi6yMqf0In9AhUGxosKHU_0DxwQ9QF6BAgLEA4\"><div><img class=\"WddBJd\" style=\"max-width:none;height:128px;max-height:128px\" alt=\"Política\" src=\"data:image/gif;base64,R0lGODlhAQABAIAAAP///////yH5BAEKAAEALAAAAAABAAEAAAICTAEAOw==\" id=\"dimg_27\" data-deferred=\"1\"></div></a><div class=\"mHhylf\"><div class=\"WZ5GJf\"><a class=\"qN9Ked\" href=\"https://www.google.com/search?ie=UTF-8&amp;ei=Q4blY_qaG4aMrwTP6L_gAQ&amp;q=politica&amp;tbm=isch&amp;sa=X&amp;ved=2ahUKEwi6yMqf0In9AhUGxosKHU_0DxwQ7Al6BAgLEA8\"><button class=\"DXk5Me Qi9Fd\" tabindex=\"-1\"><span class=\"hWHuJ\"><img class=\"Dk7jOe\" alt=\"\" src=\"data:image/gif;base64,R0lGODlhAQABAIAAAP///////yH5BAEKAAEALAAAAAABAAEAAAICTAEAOw==\" style=\"max-width:24px;max-height:24px\" id=\"dimg_29\" data-deferred=\"1\"></span></button><div class=\"BNeawe ji5jpf tAd8D AP7Wnd\">View all</div></a></div></div></div></div></div></div></div></div></div><div><div class=\"Gx5Zad fP1Qef xpd EtOod pkphOe\"><div class=\"egMi0 kCrYT\"><a href=\"/url?q=https://oll.libertyfund.org/title/althusius-politica&amp;sa=U&amp;ved=2ahUKEwi6yMqf0In9AhUGxosKHU_0DxwQFnoECAMQAg&amp;usg=AOvVaw3qwoD47SGewg0iPW1VpVhd\"><div class=\"DnJfK\"><div class=\"j039Wc\"><h3 class=\"zBAuLc l97dzf\"><div class=\"BNeawe vvjwJb AP7Wnd\">Politica | Online Library of Liberty</div></h3></div><div class=\"sCuL3\"><div class=\"BNeawe UPmit AP7Wnd lRVwie\">oll.libertyfund.org &#8250; title &#8250; althusius-politica</div></div></div></a></div><div class=\"kCrYT\"><div><div class=\"BNeawe s3v9rd AP7Wnd\"><div><div><div class=\"BNeawe s3v9rd AP7Wnd\">Drawing deeply from Aristotle and biblical teaching, Politica presents a unique vision of the commonwealth as a harmonious ordering of natural associations.</div></div></div></div></div></div></div></div><div><div class=\"Gx5Zad fP1Qef xpd EtOod pkphOe\"><div class=\"egMi0 kCrYT\"><a href=\"/url?q=https://www.thefreedictionary.com/Politica&amp;sa=U&amp;ved=2ahUKEwi6yMqf0In9AhUGxosKHU_0DxwQFnoECAUQAg&amp;usg=AOvVaw0NdnjEtvFsTwS5VVXUiQSv\"><div class=\"DnJfK\"><div class=\"j039Wc\"><h3 class=\"zBAuLc l97dzf\"><div class=\"BNeawe vvjwJb AP7Wnd\">definition of Politica by The Free Dictionary</div></h3></div><div class=\"sCuL3\"><div class=\"BNeawe UPmit AP7Wnd lRVwie\">www.thefreedictionary.com &#8250; Politica</div></div></div></a></div><div class=\"kCrYT\"><div><div class=\"BNeawe s3v9rd AP7Wnd\"><div><div><div class=\"BNeawe s3v9rd AP7Wnd\">pol&#8226;i&#8226;ti&#8226;cian · 1. a person who is active in politics, esp. as a career. · 2. a seeker or holder of public office. · 3. a person who uses public office to advance ...</div></div></div></div></div></div></div></div><div><div class=\"Gx5Zad fP1Qef xpd EtOod pkphOe\"><div class=\"egMi0 kCrYT\"><a href=\"/url?q=https://www.politico.eu/&amp;sa=U&amp;ved=2ahUKEwi6yMqf0In9AhUGxosKHU_0DxwQFnoECAEQAg&amp;usg=AOvVaw3kEPvTj8jhLyspWIDvxPm_\"><div class=\"DnJfK\"><div class=\"j039Wc\"><h3 class=\"zBAuLc l97dzf\"><div class=\"BNeawe vvjwJb AP7Wnd\">POLITICO &#8211; European Politics, Policy, Government News</div></h3></div><div class=\"sCuL3\"><div class=\"BNeawe UPmit AP7Wnd lRVwie\">www.politico.eu</div></div></div></a></div><div class=\"kCrYT\"><div><div class=\"BNeawe s3v9rd AP7Wnd\"><div><div><div class=\"BNeawe s3v9rd AP7Wnd\">POLITICO Europe covers the politics, policy and personalities of the European Union. Our coverage includes breaking news, opinion pieces, and features.</div></div></div></div></div></div></div></div><div><div class=\"Gx5Zad fP1Qef xpd EtOod pkphOe\"><div class=\"egMi0 kCrYT\"><a href=\"/url?q=https://es.wikipedia.org/wiki/Pol%25C3%25ADtica&amp;sa=U&amp;ved=2ahUKEwi6yMqf0In9AhUGxosKHU_0DxwQFnoECAYQAg&amp;usg=AOvVaw11Ai7Pq5mAGgQVfYzCYpoy\"><div class=\"DnJfK\"><div class=\"j039Wc\"><h3 class=\"zBAuLc l97dzf\"><div class=\"BNeawe vvjwJb AP7Wnd\">Política - Wikipedia, la enciclopedia libre</div></h3></div><div class=\"sCuL3\"><div class=\"BNeawe UPmit AP7Wnd lRVwie\">es.wikipedia.org &#8250; wiki &#8250; Política</div></div></div></a></div><div class=\"kCrYT\"><div><div class=\"BNeawe s3v9rd AP7Wnd\"><div><div><div class=\"BNeawe s3v9rd AP7Wnd\">La política es la ciencia del poder y la capacidad de una persona o un grupo de personas de influir sobre la voluntad de los demás aun estando en contra de su ...</div></div></div></div></div></div></div></div><div><div class=\"Gx5Zad xpd EtOod pkphOe\"><div class=\"K8tyEc\"><div class=\"mEUgP\"><span><div class=\"BNeawe\">Related searches</div></span></div></div><div class=\"x54gtf\"></div><div><div class=\"gGQDvd iIWm4b\"><a class=\"Q71vJc\" href=\"/search?ie=UTF-8&amp;q=Politica+meaning&amp;sa=X&amp;ved=2ahUKEwi6yMqf0In9AhUGxosKHU_0DxwQ1QJ6BAgIEAI\"><accordion-entry-search-icon><span class=\"ieB2Dd\"><img class=\"OEaqif\" alt=\"\" src=\"data:image/gif;base64,R0lGODlhAQABAIAAAP///////yH5BAEKAAEALAAAAAABAAEAAAICTAEAOw==\" style=\"max-width:20px;max-height:20px\" id=\"dimg_1\" data-deferred=\"1\"></span></accordion-entry-search-icon><div class=\"kjGX2\"><span><div class=\"BNeawe s3v9rd AP7Wnd lRVwie\">Politica meaning</div></span></div></a></div></div><div class=\"x54gtf\"></div><div><div class=\"gGQDvd iIWm4b\"><a class=\"Q71vJc\" href=\"/search?ie=UTF-8&amp;q=Political&amp;sa=X&amp;ved=2ahUKEwi6yMqf0In9AhUGxosKHU_0DxwQ1QJ6BAgIEAQ\"><accordion-entry-search-icon><span class=\"ieB2Dd\"><img class=\"OEaqif\" alt=\"\" src=\"data:image/gif;base64,R0lGODlhAQABAIAAAP///////yH5BAEKAAEALAAAAAABAAEAAAICTAEAOw==\" style=\"max-width:20px;max-height:20px\" id=\"dimg_3\" data-deferred=\"1\"></span></accordion-entry-search-icon><div class=\"kjGX2\"><span><div class=\"BNeawe s3v9rd AP7Wnd lRVwie\">Political</div></span></div></a></div></div><div class=\"x54gtf\"></div><div><div class=\"gGQDvd iIWm4b\"><a class=\"Q71vJc\" href=\"/search?ie=UTF-8&amp;q=Pol%C3%ADtica+Brasil&amp;sa=X&amp;ved=2ahUKEwi6yMqf0In9AhUGxosKHU_0DxwQ1QJ6BAgIEAY\"><accordion-entry-search-icon><span class=\"ieB2Dd\"><img class=\"OEaqif\" alt=\"\" src=\"data:image/gif;base64,R0lGODlhAQABAIAAAP///////yH5BAEKAAEALAAAAAABAAEAAAICTAEAOw==\" style=\"max-width:20px;max-height:20px\" id=\"dimg_5\" data-deferred=\"1\"></span></accordion-entry-search-icon><div class=\"kjGX2\"><span><div class=\"BNeawe s3v9rd AP7Wnd lRVwie\">Política Brasil</div></span></div></a></div></div><div class=\"x54gtf\"></div><div><div class=\"gGQDvd iIWm4b\"><a class=\"Q71vJc\" href=\"/search?ie=UTF-8&amp;q=Politics&amp;sa=X&amp;ved=2ahUKEwi6yMqf0In9AhUGxosKHU_0DxwQ1QJ6BAgIEAg\"><accordion-entry-search-icon><span class=\"ieB2Dd\"><img class=\"OEaqif\" alt=\"\" src=\"data:image/gif;base64,R0lGODlhAQABAIAAAP///////yH5BAEKAAEALAAAAAABAAEAAAICTAEAOw==\" style=\"max-width:20px;max-height:20px\" id=\"dimg_7\" data-deferred=\"1\"></span></accordion-entry-search-icon><div class=\"kjGX2\"><span><div class=\"BNeawe s3v9rd AP7Wnd lRVwie\">Politics</div></span></div></a></div></div><div class=\"x54gtf\"></div><div><div class=\"gGQDvd iIWm4b\"><a class=\"Q71vJc\" href=\"/search?ie=UTF-8&amp;q=Politica+font&amp;sa=X&amp;ved=2ahUKEwi6yMqf0In9AhUGxosKHU_0DxwQ1QJ6BAgIEAo\"><accordion-entry-search-icon><span class=\"ieB2Dd\"><img class=\"OEaqif\" alt=\"\" src=\"data:image/gif;base64,R0lGODlhAQABAIAAAP///////yH5BAEKAAEALAAAAAABAAEAAAICTAEAOw==\" style=\"max-width:20px;max-height:20px\" id=\"dimg_9\" data-deferred=\"1\"></span></accordion-entry-search-icon><div class=\"kjGX2\"><span><div class=\"BNeawe s3v9rd AP7Wnd lRVwie\">Politica font</div></span></div></a></div></div><div class=\"x54gtf\"></div><div><div class=\"gGQDvd iIWm4b\"><a class=\"Q71vJc\" href=\"/search?ie=UTF-8&amp;q=Pol%C3%ADtica+en+lat%C3%ADn&amp;sa=X&amp;ved=2ahUKEwi6yMqf0In9AhUGxosKHU_0DxwQ1QJ6BAgIEAw\"><accordion-entry-search-icon><span class=\"ieB2Dd\"><img class=\"OEaqif\" alt=\"\" src=\"data:image/gif;base64,R0lGODlhAQABAIAAAP///////yH5BAEKAAEALAAAAAABAAEAAAICTAEAOw==\" style=\"max-width:20px;max-height:20px\" id=\"dimg_11\" data-deferred=\"1\"></span></accordion-entry-search-icon><div class=\"kjGX2\"><span><div class=\"BNeawe s3v9rd AP7Wnd lRVwie\">Política en latín</div></span></div></a></div></div><div class=\"x54gtf\"></div><div><div class=\"gGQDvd iIWm4b\"><a class=\"Q71vJc\" href=\"/search?ie=UTF-8&amp;q=London+Politica&amp;sa=X&amp;ved=2ahUKEwi6yMqf0In9AhUGxosKHU_0DxwQ1QJ6BAgIEA4\"><accordion-entry-search-icon><span class=\"ieB2Dd\"><img class=\"OEaqif\" alt=\"\" src=\"data:image/gif;base64,R0lGODlhAQABAIAAAP///////yH5BAEKAAEALAAAAAABAAEAAAICTAEAOw==\" style=\"max-width:20px;max-height:20px\" id=\"dimg_13\" data-deferred=\"1\"></span></accordion-entry-search-icon><div class=\"kjGX2\"><span><div class=\"BNeawe s3v9rd AP7Wnd lRVwie\">London Politica</div></span></div></a></div></div><div class=\"x54gtf\"></div><div><div class=\"gGQDvd iIWm4b\"><a class=\"Q71vJc\" href=\"/search?ie=UTF-8&amp;q=The+Hill&amp;sa=X&amp;ved=2ahUKEwi6yMqf0In9AhUGxosKHU_0DxwQ1QJ6BAgIEBA\"><accordion-entry-search-icon><span class=\"ieB2Dd\"><img class=\"OEaqif\" alt=\"\" src=\"data:image/gif;base64,R0lGODlhAQABAIAAAP///////yH5BAEKAAEALAAAAAABAAEAAAICTAEAOw==\" style=\"max-width:20px;max-height:20px\" id=\"dimg_15\" data-deferred=\"1\"></span></accordion-entry-search-icon><div class=\"kjGX2\"><span><div class=\"BNeawe s3v9rd AP7Wnd lRVwie\">The Hill</div></span></div></a></div></div></div></div><footer> <div>  <div class=\"Gx5Zad xpd EtOod pkphOe BmP5tf\"><div class=\"nMymef MUxGbd lyLwlc\"><a class=\"nBDE1b G5eFlf\" href=\"/search?q=politica&amp;ie=UTF-8&amp;ei=Q4blY_qaG4aMrwTP6L_gAQ&amp;start=10&amp;sa=N\" aria-label=\"Next page\">Next &gt;</a></div></div> </div>  <div id=\"EOlPnc\"><div class=\"Srfpq\"><div><span class=\"EYqSq unknown_loc\"></span><span class=\"dfB0uf\">United States</span></div><span>From your IP address</span><span>&nbsp;-&nbsp;</span><a href=\"/url?q=https://support.google.com/websearch%3Fp%3Dws_settings_location%26hl%3Den&amp;sa=U&amp;ved=0ahUKEwi6yMqf0In9AhUGxosKHU_0DxwQty4IdQ&amp;usg=AOvVaw1IXoOqlcxd9WpRualH9rxh\">Learn more</a></div><div><a href=\"/url?q=https://accounts.google.com/ServiceLogin%3Fcontinue%3Dhttps://www.google.com/search%253Fq%253Dpolitica%2526source%253Dhp%2526ei%253DtIXlY_XWHdHK1sQPl_CHuAI%2526iflsig%253DAK50M_UAAAAAY-WTxHeUA7iISN_xKMjBv1HYXO2BBTCU%2526ved%253D0ahUKEwj1gLXbz4n9AhVRpZUCHRf4AScQ4dUDCAc%2526uact%253D5%2526oq%253Dpolitica%2526gs_lcp%253DCgdnd3Mtd2l6EAMyCAgAEIAEELEDMggIABCABBCxAzIICAAQgAQQsQMyCAgAEIAEELEDMgUIABCABDIFCAAQgAQyBQgAEIAEMggIABCABBCxAzILCAAQgAQQsQMQgwEyBQgAEIAEOgsILhCABBCxAxCDAToICC4QgwEQsQM6CAgAELEDEIMBOggILhCABBDUAjoICC4QsQMQgwE6CwguEIAEEMcBEK8BOg4ILhCABBCxAxDHARDRAzoRCC4QgAQQsQMQgwEQxwEQrwE6EQguEIAEELEDEMcBENEDENQCOgUIABCxA1DNOVisS2CFTWgDcAB4AIABiAGIAeYJkgEEMC4xMJgBAKABAbABAA%2526sclient%253Dgws-wiz%26hl%3Den&amp;sa=U&amp;ved=0ahUKEwi6yMqf0In9AhUGxosKHU_0DxwQxs8CCHY&amp;usg=AOvVaw00YN8plhfYJKFOEvaAx0E-\">Sign in</a></div><div><a class=\"xeDNfc\" href=\"https://www.google.com/preferences?hl=en&amp;fg=1&amp;sa=X&amp;ved=0ahUKEwi6yMqf0In9AhUGxosKHU_0DxwQ5fUCCHc\">Settings</a><a class=\"xeDNfc\" href=\"https://policies.google.com/privacy?hl=en&amp;fg=1\">Privacy</a><a class=\"xeDNfc\" href=\"https://policies.google.com/terms?hl=en&amp;fg=1\">Terms</a></div></div> </footer><script nonce=\"ZyZMI05JwL9itlTM6KZXgw\">(function(){var hl='en';(function(){\n",
            "var f=this||self,g=function(a){return a};var h,k=function(){if(void 0===h){var a=null,b=f.trustedTypes;if(b&&b.createPolicy){try{a=b.createPolicy(\"goog#html\",{createHTML:g,createScript:g,createScriptURL:g})}catch(c){f.console&&f.console.error(c.message)}h=a}else h=a}return h};var p=function(a,b){this.h=a===l&&b||\"\";this.g=m},q=function(a){return a instanceof p&&a.constructor===p&&a.g===m?a.h:\"type_error:Const\"},m={},l={};var t=function(a,b){this.g=b===r?a:\"\"};t.prototype.toString=function(){return this.g+\"\"};var u=function(a){return a instanceof t&&a.constructor===t?a.g:\"type_error:TrustedResourceUrl\"},y=function(){var a={},b=q(new p(l,\"/complete/search\"));if(!v.test(b))throw Error(\"d`\"+b);var c=b.replace(w,function(e,d){if(!Object.prototype.hasOwnProperty.call(a,d))throw Error(\"e`\"+d+\"`\"+b+\"`\"+JSON.stringify(a));e=a[d];return e instanceof p?q(e):encodeURIComponent(String(e))});return x(c)},w=/%{(\\w+)}/g,v=RegExp(\"^((https:)?//[0-9a-z.:[\\\\]-]+/|/[^/\\\\\\\\]|[^:/\\\\\\\\%]+/|[^:/\\\\\\\\%]*[?#]|about:blank#)\",\"i\"),z=/^([^?#]*)(\\?[^#]*)?(#[\\s\\S]*)?/,r={},x=function(a){var b=k();a=b?b.createScriptURL(a):a;return new t(a,r)},A=function(a,b,c){if(null==c)return b;if(\"string\"===typeof c)return c?a+encodeURIComponent(c):\"\";for(var e in c)if(Object.prototype.hasOwnProperty.call(c,e)){var d=c[e];d=Array.isArray(d)?d:[d];for(var n=0;n<d.length;n++){var P=d[n];null!=P&&(b||(b=a),b+=(b.length>a.length?\"&\":\"\")+encodeURIComponent(e)+\"=\"+encodeURIComponent(String(P)))}}return b};var B={},C=function(a,b){this.g=b===B?a:\"\"};C.prototype.toString=function(){return this.g.toString()};\n",
            "function D(a,b){if(void 0!==a.tagName){if(\"script\"===a.tagName.toLowerCase())throw Error(\"f\");if(\"style\"===a.tagName.toLowerCase())throw Error(\"f\");}a.innerHTML=b instanceof C&&b.constructor===C?b.g:\"type_error:SafeHtml\"};function E(a){a=null===a?\"null\":void 0===a?\"undefined\":a;var b=k();a=b?b.createHTML(a):a;return new C(a,B)};var F=document.querySelector(\".l\"),G=document.querySelector(\"#sf\"),H=G.querySelector(\".sbc\"),I=G.querySelector(\"[type=text]\"),J=G.querySelector(\"[type=submit]\"),K=G.querySelector(\".sc\"),L=G.querySelector(\".x\"),M=I.value,N=[],O=-1,Q=M,R,S,T;M||(L&&(L.style.display=\"none\"),U(!1));function U(a){if(H.classList.contains(\"esbc\")){var b=H.classList.contains(\"chsbc\"),c=H.classList.contains(\"rtlsbc\");a&&(K.style.display=\"block\",b?(G.style.borderRadius=\"20px 20px 0 0\",K.style.borderBottom=\"1px solid #DFE1E5\",J.style.borderRadius=c?\"20px 0 0 0\":\"0 20px 0 0\"):H.style.borderRadius=c?\"0 8px 0 0\":\"8px 0 0 0\");a||(K.style.display=\"none\",b?(G.style.borderRadius=\"20px\",K.style.borderBottom=\"none\",J.style.borderRadius=c?\"20px 0 0 20px\":\"0 20px 20px 0\"):H.style.borderRadius=c?\"0 8px 8px 0\":\"8px 0 0 8px\")}}function V(){G.querySelector(\"[name=oq]\").value=Q;G.querySelector(\"[name=aqs]\").value=\"heirloom-srp.\"+(0<=O?O:\"\")+\".\"+(0<N.length?\"0l\"+N.length:\"\")}\n",
            "function W(){R=null;if(S){var a={client:\"heirloom-srp\",hl:hl,json:\"t\",callback:\"hS\",q:S};\"undefined\"!==typeof ds&&ds&&(a.ds=ds);var b=document;var c=\"SCRIPT\";\"application/xhtml+xml\"===b.contentType&&(c=c.toLowerCase());c=b.createElement(c);b=y();b=z.exec(u(b).toString());var e=b[3]||\"\";a=x(b[1]+A(\"?\",b[2]||\"\",a)+A(\"#\",e));c.src=u(a);var d,n;(d=(a=null==(n=(d=(c.ownerDocument&&c.ownerDocument.defaultView||window).document).querySelector)?void 0:n.call(d,\"script[nonce]\"))?a.nonce||a.getAttribute(\"nonce\")||\n",
            "\"\":\"\")&&c.setAttribute(\"nonce\",d);document.body.appendChild(c);S=null;R=setTimeout(W,500)}}function X(){for(;K.firstChild;)K.removeChild(K.firstChild);N=[];O=-1;U(!1)}function Y(){var a=K.querySelector(\".scs\");a&&(a.className=\"\");0<=O?(a=K.childNodes[O],a.className=\"scs\",M=a.textContent):M=Q;I.value=M}I.addEventListener(\"focus\",function(){F&&(F.style.display=\"none\")},!1);I.addEventListener(\"blur\",function(){X();F&&(F.style.display=\"\")},!1);I.addEventListener(\"keyup\",function(a){M=I.value;T=!1;13===a.which?V():27===a.which?(X(),F&&(F.style.display=\"\"),M=Q,I.value=M):40===a.which?(O++,O>=N.length&&(O=-1),Y()):38===a.which?(O--,-1>O&&(O=N.length-1),Y()):(a=M)?(L&&(L.style.display=\"\"),S=a,R||W(),Q=a):(L&&(L.style.display=\"none\"),U(!1),X(),Q=\"\",T=!0)},!1);J.addEventListener(\"click\",V,!1);L.addEventListener(\"click\",function(){I.value=\"\";L.style.display=\"none\";U(!1)},!1);H.addEventListener(\"click\",function(){I.focus()},!1);window.hS=function(a){if(!T){X();0===a[1].length&&U(!1);for(var b=0;b<a[1].length;b++){var c=a[1][b][0],e=document.createElement(\"div\");D(e,E(c));e.addEventListener(\"mousedown\",function(d){d.preventDefault();return!1},!1);c=c.replace(/<\\/?b>/g,\"\");e.addEventListener(\"click\",function(d){return function(){O=d;V();Y();X();G.submit()}}(b),!1);e.addEventListener(\"mouseover\",function(d){return function(){O!==d&&(O=d,Y())}}(b),!1);K.appendChild(e);U(!0);N.push(c)}}};}).call(this);})();(function(){function b(a){for(a=a.target||a.srcElement;a&&\"A\"!==a.nodeName;)a=a.parentElement;a&&(a.href||\"\").match(/\\/search.*[?&]tbm=isch/)&&(a.href+=\"&biw=\"+document.documentElement.clientWidth,a.href+=\"&bih=\"+document.documentElement.clientHeight)}document.addEventListener(\"click\",b,!1);document.addEventListener(\"touchStart\",b,!1);}).call(this);</script></div><!-- cctlcm 5 cctlcm --><textarea class=\"csi\" name=\"csi\" style=\"display:none\"></textarea><script nonce=\"ZyZMI05JwL9itlTM6KZXgw\">(function(){var e='Q4blY_qaG4aMrwTP6L_gAQ';var sn='web';var timl=false;(function(){function B(a){if(!a||C(a))return 0;if(!a.getBoundingClientRect)return 1;var c=function(b){return b.getBoundingClientRect()};return D(a,c)?0:J(a,c)}function D(a,c){var b;a:{for(b=a;b&&null!==b;b=b.parentElement)if(\"hidden\"===b.style.overflow||\"G-EXPANDABLE-CONTENT\"===b.tagName&&\"hidden\"===getComputedStyle(b).getPropertyValue(\"overflow\"))break a;b=null}if(!b)return!1;a=c(a);c=c(b);return a.bottom<c.top||a.top>=c.bottom||a.right<c.left||a.left>=c.right}\n",
            "function C(a){return\"none\"===a.style.display?!0:document.defaultView&&document.defaultView.getComputedStyle?(a=document.defaultView.getComputedStyle(a),!!a&&(\"hidden\"===a.visibility||\"0px\"===a.height&&\"0px\"===a.width)):!1}\n",
            "function J(a,c){var b=c(a);a=b.left+window.pageXOffset;c=b.top+window.pageYOffset;var f=b.width;b=b.height;var g=0;if(0>=b&&0>=f)return g;var q=window.innerHeight||document.documentElement.clientHeight;0>c+b?g=2:c>=q&&(g=4);if(0>a+f||a>=(window.innerWidth||document.documentElement.clientWidth))g|=8;g||(g=1,c+b>q&&(g|=4));return g};var K=e,L=sn,M=\"undefined\"===typeof de?!0:!1!==de,N=[];function O(a,c,b){a=\"/gen_204?atyp=csi&s=\"+L+\"&t=\"+a+(\"&lite=1&ei=\"+K+\"&conn=\"+(window.navigator&&window.navigator.connection?window.navigator.connection.type:-1)+c);c=\"&rt=\";for(var f in b)a+=\"\"+c+f+\".\"+b[f],c=\",\";return a}function P(a){a={prt:a};window.wsrt&&(a.wsrt=window.wsrt);return a}function Q(a){window.ping?window.ping(a):(new Image).src=a}\n",
            "(function(){for(var a=(new Date).getTime()-window.start,c=P(a),b=0,f=0,g=0,q=document.getElementsByTagName(\"img\"),r=M?\"&biw=\"+window.innerWidth+\"&bih=\"+window.innerHeight:\"\",E=function(){r+=\"&ima=\"+g;c.aft=b;Q(O(\"aft\",r,c))},x=0,R=function(h,t,u){var n=h.src;h.onload=function(){u&&n&&n===h.src||(f=(new Date).getTime()-window.start,t&&++x===g&&(b=f,E()),h.onload=null)}},S=0,d=void 0;d=q[S++];){var v=B(d),p=!!(v&1);p&&++g;var l=d.hasAttribute(\"data-ilite\"),w=d.hasAttribute(\"data-deferred\"),F=d.hasAttribute(\"data-src\")||\n",
            "d.hasAttribute(\"data-lzysrc\"),y=!w&&!l&&F;N.push([v,w||l,y,!!(google.ldi&&d.id&&google.ldi[d.id])||l&&F]);l=(v=d.complete&&!w&&!(p&&y))&&Number(d.getAttribute(\"data-iml\"))||0;v&&l?(p&&++x,l&&(d=l-window.start,p&&(b=Math.max(b,d)),f=Math.max(f,d))):R(d,p,w||y)}b||(b=a);f||(f=b);x===g&&E();google.rglh&&google.rglh();window.addEventListener(\"load\",function(){window.setTimeout(function(){c.ol=(new Date).getTime()-window.start;timl&&(c.iml=f);var h=window.performance&&window.performance.timing;h&&(c.rqst=\n",
            "h.responseEnd-h.requestStart,c.rspt=h.responseEnd-h.responseStart);for(var t=h=0,u=0,n=0,G=0,H=0,T=0,k;k=N[T++];){var m=k[0],z=k[1],I=k[2];k=k[3];var U=0==m,V=m&8,A=m&1;m=!A&&m&4;A&&(z&&!k||++u,I&&++H);z&&(A&&k&&++h,m&&!k&&++t);U||V?I||++G:z||++n}r+=\"&ime=\"+u+\"&imel=\"+H+(\"&imex=\"+n+\"&imeh=\"+G)+(\"&imea=\"+h+\"&imeb=\"+t);Q(O(\"all\",r,c))},0)},!1)})();}).call(this);})();</script><script nonce=\"ZyZMI05JwL9itlTM6KZXgw\">window._setImagesSrc=function(e,f){function g(b){b.onerror=function(){b.style.display=\"none\"};b.setAttribute(\"data-deferred\",\"2\");b.src=f}for(var c=0;c<e.length;++c){var a=e[c],d=document.getElementById(a)||document.querySelector('img[data-iid=\"'+a+'\"]');d?(a=void 0,(null==(a=google.c)?0:a.setup)&&google.c.setup(d),g(d)):(google.iir=google.iir||{},google.iir[a]=f)}};\"undefined\"===typeof window.google&&(window.google={});</script><script nonce=\"ZyZMI05JwL9itlTM6KZXgw\">(function(){var s='data:image/jpeg;base64,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\\x3d';var i=['dimg_17'];_setImagesSrc(i,s);})();</script><script nonce=\"ZyZMI05JwL9itlTM6KZXgw\">(function(){var s='data:image/jpeg;base64,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\\x3d';var i=['dimg_19'];_setImagesSrc(i,s);})();</script><script nonce=\"ZyZMI05JwL9itlTM6KZXgw\">(function(){var s='data:image/jpeg;base64,/9j/4AAQSkZJRgABAQAAAQABAAD/2wCEAAkGBwgHBgkIBwgKCgkLDRYPDQwMDRsUFRAWIB0iIiAdHx8kKDQsJCYxJx8fLT0tMTU3Ojo6Iys/RD84QzQ5OjcBCgoKDQwNGg8PGjclHyU3Nzc3Nzc3Nzc3Nzc3Nzc3Nzc3Nzc3Nzc3Nzc3Nzc3Nzc3Nzc3Nzc3Nzc3Nzc3Nzc3N//AABEIAIAAWgMBIgACEQEDEQH/xAAbAAEAAwEBAQEAAAAAAAAAAAAAAQIDBAUHBv/EADQQAAEEAAUBBgMGBwAAAAAAAAEAAgMRBAUSITETIjJBUWFxM4GRBhQjocHRNFJigrHh8f/EABgBAQEBAQEAAAAAAAAAAAAAAAABAgMF/8QAHREBAQEAAgMBAQAAAAAAAAAAAAERIUECEiJhA//aAAwDAQACEQMRAD8A+ZIiL1XkC1ig6jC7rQso1pe+isl1YXFugj0CSVvavsBtfmFKs/VThAHV96wp9RKKVJoekPixP47j78/2/MLsfmTnAXNOSN221mx+nquCWR8ry+Q248mqUmrcVREWmRERAREQF72WZTlOPwkPWzePBYgtBl6rm6W2+YcWDdMiNf1eoXgr9FHm2TdKDr5c980eGZC5zWNaHU14NAO2PaYS42TR2asee5w6fzztviskyBxM0GfQxwi/w7EjzQcdtxzTQPf68seW5JJho4XZqYsYDIXzU0xFokLBsXCiW6X1ZJAIFkhaYjMvs0/qDD5PJETZjeSTpOlw3br3F6DVjgn0WkOc/Z+HEYxjcmecFiDHpjJBexrQ7UA4kkE2NwRxexWfrO3T43prisl+zjnyDDZ01g1SaLexwoPZoAsjcgv3PZFWa8fMzfLsuwOXQPwuZRYzFSOa57Y3AiNpBtpo82Bv616rtizX7MteQ/JZTG7Vrp3PatlAu2oci9/NcGZS5bjcNE3KMsfh5Yxc73S2HADwBO25d8mt9Um7zqeXrnGPIRaNgmcabE9xuqaLKNgmdq0xPOmtQDTtfC6uGVmi0OHmABMbt9uPkobBK6RsbY3l7uG6TZQyqIhBaaKICIiAiIgLry7ra5G4d4D3trT/ADDxC5FLXObelxF7GjypVlyvVAx0jGuEkLmu2BJq+OP39VVoxbnsc7pBjy1labA2JAo+lrzTLIeZHne93HlDJI4U57yB4FxKz6te72B9+eHVLCQ59B1eY1c+VaT4+CwkdjI/xD0yIQHHbzcKJ+bQfl7rztb6A1uocb8J1Hlukvdp8r2T1L5oe8yPL3cuNlQiLbCWtLnBo5KmSN0ZAdW6th/jM91pje832UXOFBh3kXt9VV8T2C3DbzC6ZHFuHsGjQ3+iREyQ9vfkWi5HIxheaaFo7Dva0k1t6rbCioiRyTusHTSW4OPpSGcIjidJemtvNXOGkA8D7FXwfD1Mb3Gd7bsWUJI5SCDRRbYoAS7eIWKrNEREGmH+Mz3WmN7zfZZ4f4zPdaY3vN9lGumxDTCA/u0LWUkzGs0Rf8V5v4Y+w/RcaFrSGUxHzB5C6HNZPHbd/IrGKDqM1aq+S3aBBHub8UIzwfD1qws1P0VqB7SywnD0iNYp48yUWMJNXUdq5tVW2KFS35hYqsUREQEJJ5JKIgnUa5P1Vo2BwJJVFrD3T7qAGV3XEKlEvpxKtEDrJ8EJuYe6Kh40VpJ39VLWXuSRaTeCs8ambIKSCqNk+6lsYIBJKzquVqfhf2oKuj2sFUW0Vhu6yRKhERUFrD3T7rJaROAaQT4qCzXa7HCzaKkA9VLHAON8FCR1AQdkEzeCqx5bt4KZHA0rfh87IEoBbakGowT5KkjwdhwpLh06vekVDpCRQ2VERVBERAREQFt90n0B/TOki7sVVX/gLFdLcdO2NjAW0zjs+hH6qVZnaW5bjncYWT6Kr8BimAl8DgBd3XhytRmeIANaBfkP9qpzGcxlh0EG7NblT6a+XIiItMCIiD//2Q\\x3d\\x3d';var i=['dimg_21'];_setImagesSrc(i,s);})();</script><script nonce=\"ZyZMI05JwL9itlTM6KZXgw\">(function(){var s='data:image/png;base64,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\\x3d\\x3d';var i=['dimg_23'];_setImagesSrc(i,s);})();</script><script nonce=\"ZyZMI05JwL9itlTM6KZXgw\">(function(){var s='data:image/jpeg;base64,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\\x3d';var i=['dimg_25'];_setImagesSrc(i,s);})();</script><script nonce=\"ZyZMI05JwL9itlTM6KZXgw\">(function(){var s='data:image/jpeg;base64,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\\x3d\\x3d';var i=['dimg_27'];_setImagesSrc(i,s);})();</script><script nonce=\"ZyZMI05JwL9itlTM6KZXgw\">(function(){var s='data:image/png;base64,iVBORw0KGgoAAAANSUhEUgAAABgAAAAYAgMAAACdGdVrAAAADFBMVEVMaXFChfRChfRChfT0tCPZAAAAA3RSTlMAgFJEkGxNAAAAL0lEQVR4AWPADxgdwBT3BTDF9AUiuhdC6WNK/v///y+UggrClSA07EWVglmEFwAA5eYSExeCwigAAAAASUVORK5CYII\\x3d';var i=['dimg_29'];_setImagesSrc(i,s);})();</script><script nonce=\"ZyZMI05JwL9itlTM6KZXgw\">(function(){var s='data:image/png;base64,iVBORw0KGgoAAAANSUhEUgAAABQAAAAUCAYAAACNiR0NAAABAUlEQVR4AWMYesChoYElLjkzPj4lY3d8csZjIL4MxPNjUzPcSTYsISFLAqj5NBD/h+LPQPwbiT87NCuLh2gDgRr2QzXuT0jNMoBYksARn5zuHJ+UcR0kB6RXE2VYXHJGOlTDZmzyIJcB5e+D1CSkZDgQNBAaZv+jU1JkcKpJygiGeZ0I76a/Byq8jU9NZFqaCNTA48SE33/iDcw8TIyBt0GKQTFN0Msp6f2EIyUpo57YSIlLSrMhIg0WCIBcCfXSdlzJBsheTHQ6jEnOUgEFOLaEDbMIlhZBOYrorAdJk+nroVnvPsSgdGdoOF7HZyhZ2XPoGQoqjbCpIbt0AiejIQMArVLI7k/DXFkAAAAASUVORK5CYII\\x3d';var i=['dimg_1','dimg_3','dimg_5','dimg_7','dimg_9','dimg_11','dimg_13','dimg_15'];_setImagesSrc(i,s);})();</script><script nonce=\"ZyZMI05JwL9itlTM6KZXgw\">(function(){var e='Q4blY_qaG4aMrwTP6L_gAQ';(function(){var a=e;2===(window.performance&&window.performance.navigation&&window.performance.navigation.type)&&window.ping(\"/gen_204?ct=backbutton&ei=\"+a);}).call(this);})();(function(){var b=[function(){google.tick&&google.tick(\"load\",\"dcl\")}];google.dclc=function(a){b.length?b.push(a):a()};function c(){for(var a=b.shift();a;)a(),a=b.shift()}window.addEventListener?(document.addEventListener(\"DOMContentLoaded\",c,!1),window.addEventListener(\"load\",c,!1)):window.attachEvent&&window.attachEvent(\"onload\",c);}).call(this);window.jsl=window.jsl||{};window.jsl.dh=function(a,b,f){try{var g=document.getElementById(a);if(g)g.innerHTML=b,f&&f();else{var c={id:a,script:String(!!f),milestone:String(google.jslm||0)};google.jsla&&(c.async=google.jsla);var h=a.indexOf(\"_\"),d=0<h?a.substring(0,h):\"\",k=document.createElement(\"div\");k.innerHTML=b;var e=k.children[0];if(e&&(c.tag=e.tagName,c[\"class\"]=String(e.className||null),c.name=String(e.getAttribute(\"jsname\")),d)){a=[];var l=document.querySelectorAll('[id^=\"'+d+'_\"]');for(b=0;b<l.length;++b)a.push(l[b].id);c.ids=a.join(\",\")}google.ml(Error(d?\"Missing ID with prefix \"+d:\"Missing ID\"),!1,c)}}catch(m){google.ml(m,!0,{\"jsl.dh\":!0})}};(function(){var x=false;google.jslm=x?2:1;})();(function(){(function(){google.csct={};google.csct.ps='AOvVaw3aGSUYsBjEHpOCcT4_i60t\\x26ust\\x3d1676072899484036';})();})();(function(){(function(){google.csct.rd=true;})();})();(function(){(function(){google.csct.rl=true;})();})();(function(){window.xp=function(b){function f(k,g,h){return\"xp\"+(\"x\"==g?\"c\":\"x\")+h}for(var c=/\\bxp(x|c)(\\d?)\\b/,a=b;a;){var e=a.className,d=e.match(c);if(d){d=\"c\"==d[1];a.className=e.replace(c,f);b&&b.setAttribute(\"aria-expanded\",d);if(d)for(b=a.getElementsByTagName(\"img\"),c=0;c<b.length;++c)if(a=b[c],e=a.getAttribute(\"data-ll\"))a.src=e,a.removeAttribute(\"data-ll\");break}a=a.parentElement}};})();(function(){(function(){window.logVe=function(a){a&&a.attributes[\"data-ved\"]&&window.ping(\"/gen_204?ved=\"+a.attributes[\"data-ved\"].value)};}).call(this);})();(function(){(function(){var id='tsuid_1';var lve=true;(function(){\n",
            "var e=\"undefined\"!=typeof navigator&&!/Opera/.test(navigator.userAgent)&&/WebKit/.test(navigator.userAgent),f={A:1,INPUT:1,TEXTAREA:1,SELECT:1,BUTTON:1},g={Enter:13,\" \":32},h={A:13,BUTTON:0,CHECKBOX:32,COMBOBOX:13,FILE:0,GRIDCELL:13,LINK:13,LISTBOX:13,MENU:0,MENUBAR:0,MENUITEM:0,MENUITEMCHECKBOX:0,MENUITEMRADIO:0,OPTION:0,RADIO:32,RADIOGROUP:32,RESET:0,SUBMIT:0,SWITCH:32,TAB:0,TREE:13,TREEITEM:13},k={CHECKBOX:!0,FILE:!0,OPTION:!0,RADIO:!0},l={COLOR:!0,DATE:!0,DATETIME:!0,\"DATETIME-LOCAL\":!0,EMAIL:!0,MONTH:!0,NUMBER:!0,PASSWORD:!0,RANGE:!0,SEARCH:!0,TEL:!0,TEXT:!0,TEXTAREA:!0,TIME:!0,URL:!0,WEEK:!0};document.getElementById(id).onclick=function(){window.xp(this);lve&&window.logVe(this)};document.getElementById(id).onkeydown=function(d){var c=d.which||d.keyCode;!c&&d.key&&(c=g[d.key]);e&&3==c&&(c=13);if(13!=c&&32!=c)c=!1;else{var a=d.target||d.srcElement;!a.getAttribute&&a.parentNode&&(a=a.parentNode);var b;if(!(b=\"keydown\"!=d.type)){if(b=\"getAttribute\"in a)b=!((a.getAttribute(\"type\")||a.tagName).toUpperCase()in l);b=!(b&&!(\"BUTTON\"==a.tagName.toUpperCase()||a.type&&\"FILE\"==a.type.toUpperCase())&&!a.isContentEditable)}(b=b||d.ctrlKey||d.shiftKey||d.altKey||d.metaKey||(a.getAttribute(\"type\")||\n",
            "a.tagName).toUpperCase()in k&&32==c)||((b=a.tagName in f)||(b=a.getAttributeNode(\"tabindex\"),b=null!=b&&b.specified),b=!(b&&!a.disabled));if(b)c=!1;else{b=(a.getAttribute(\"role\")||a.type||a.tagName).toUpperCase();var m=!(b in h)&&13==c;a=\"INPUT\"!=a.tagName.toUpperCase()||!!a.type;c=(0==h[b]%c||m)&&a}}c&&(d.preventDefault(),window.xp(this),lve&&window.logVe(this))};}).call(this);})();})();(function(){window.jsl=window.jsl||{};window.jsl.dh=window.jsl.dh||function(i,c,d){try{var e=document.getElementById(i);if(e){e.innerHTML=c;if(d){d();}}else{if(window.jsl.el){window.jsl.el(new Error('Missing ID.'),{'id':i});}}}catch(e){if(window.jsl.el){window.jsl.el(new Error('jsl.dh'));}}};})();(function(){window.jsl.dh('accdef_1','\\x3cdiv\\x3e\\x3cdiv style\\x3d\\x22padding-bottom:12px;padding-top:0px\\x22 class\\x3d\\x22hwc kCrYT\\x22\\x3e\\x3cdiv class\\x3d\\x22yStFkb\\x22\\x3e\\x3cdiv class\\x3d\\x22Gx5Zad xpd EtOod pkphOe\\x22\\x3e\\x3cdiv class\\x3d\\x22kCrYT\\x22\\x3e\\x3cdiv\\x3e\\x3cdiv class\\x3d\\x22BNeawe s3v9rd AP7Wnd\\x22\\x3e\\x3cdiv\\x3e\\x3cdiv class\\x3d\\x22BNeawe s3v9rd AP7Wnd\\x22\\x3enoun. policy [noun] \\x3cspan class\\x3d\\x22FCUp0c rQMQod\\x22\\x3ea planned or agreed course of action usually based on particular principles\\x3c/span\\x3e. politics [noun singular or plural] the science or business of, or ideas about, or affairs concerning, government. (Translation of politica from the PASSWORD Italian\\u2013English Dictionary \\xa9 2014 K Dictionaries Ltd)\\x3c/div\\x3e\\x3c/div\\x3e\\x3c/div\\x3e\\x3c/div\\x3e\\x3c/div\\x3e\\x3cdiv class\\x3d\\x22x54gtf\\x22\\x3e\\x3c/div\\x3e\\x3cdiv class\\x3d\\x22kCrYT\\x22\\x3e\\x3ca href\\x3d\\x22/url?q\\x3dhttps://dictionary.cambridge.org/dictionary/italian-english/politica\\x26amp;sa\\x3dU\\x26amp;ved\\x3d2ahUKEwi6yMqf0In9AhUGxosKHU_0DxwQFnoECAAQBg\\x26amp;usg\\x3dAOvVaw3VTHeJ9vWVsJyYWelsaqKx\\x22\\x3e\\x3cspan\\x3e\\x3cdiv class\\x3d\\x22BNeawe vvjwJb AP7Wnd\\x22\\x3e\\x3cspan class\\x3d\\x22rQMQod Xb5VRe\\x22\\x3epolitica in English - Cambridge Dictionary\\x3c/span\\x3e\\x3c/div\\x3e\\x3c/span\\x3e\\x3cspan\\x3e\\x3cdiv class\\x3d\\x22BNeawe UPmit AP7Wnd\\x22\\x3edictionary.cambridge.org \\u203a dictionary \\u203a italian-english \\u203a politica\\x3c/div\\x3e\\x3c/span\\x3e\\x3c/a\\x3e\\x3c/div\\x3e\\x3c/div\\x3e\\x3c/div\\x3e\\x3cdiv\\x3e\\x3cdiv class\\x3d\\x22P1NWSe\\x22\\x3e\\x3cdiv class\\x3d\\x22wOMIed nkPlDb\\x22\\x3e\\x3cspan class\\x3d\\x22JhFlyf VQFmSd\\x22\\x3e\\x3ca class\\x3d\\x22f4J0H\\x22 href\\x3d\\x22https://www.google.com/search?ie\\x3dUTF-8\\x26amp;ei\\x3dQ4blY_qaG4aMrwTP6L_gAQ\\x26amp;q\\x3dWhat+means+politica?\\x26amp;sa\\x3dX\\x26amp;ved\\x3d2ahUKEwi6yMqf0In9AhUGxosKHU_0DxwQzmd6BAgAEAc\\x22\\x3eMore results\\x3c/a\\x3e\\x3c/span\\x3e\\x3c/div\\x3e\\x3c/div\\x3e\\x3c/div\\x3e\\x3c/div\\x3e\\x3c/div\\x3e');})();(function(){(function(){var id='tsuid_2';var lve=true;(function(){\n",
            "var e=\"undefined\"!=typeof navigator&&!/Opera/.test(navigator.userAgent)&&/WebKit/.test(navigator.userAgent),f={A:1,INPUT:1,TEXTAREA:1,SELECT:1,BUTTON:1},g={Enter:13,\" \":32},h={A:13,BUTTON:0,CHECKBOX:32,COMBOBOX:13,FILE:0,GRIDCELL:13,LINK:13,LISTBOX:13,MENU:0,MENUBAR:0,MENUITEM:0,MENUITEMCHECKBOX:0,MENUITEMRADIO:0,OPTION:0,RADIO:32,RADIOGROUP:32,RESET:0,SUBMIT:0,SWITCH:32,TAB:0,TREE:13,TREEITEM:13},k={CHECKBOX:!0,FILE:!0,OPTION:!0,RADIO:!0},l={COLOR:!0,DATE:!0,DATETIME:!0,\"DATETIME-LOCAL\":!0,EMAIL:!0,MONTH:!0,NUMBER:!0,PASSWORD:!0,RANGE:!0,SEARCH:!0,TEL:!0,TEXT:!0,TEXTAREA:!0,TIME:!0,URL:!0,WEEK:!0};document.getElementById(id).onclick=function(){window.xp(this);lve&&window.logVe(this)};document.getElementById(id).onkeydown=function(d){var c=d.which||d.keyCode;!c&&d.key&&(c=g[d.key]);e&&3==c&&(c=13);if(13!=c&&32!=c)c=!1;else{var a=d.target||d.srcElement;!a.getAttribute&&a.parentNode&&(a=a.parentNode);var b;if(!(b=\"keydown\"!=d.type)){if(b=\"getAttribute\"in a)b=!((a.getAttribute(\"type\")||a.tagName).toUpperCase()in l);b=!(b&&!(\"BUTTON\"==a.tagName.toUpperCase()||a.type&&\"FILE\"==a.type.toUpperCase())&&!a.isContentEditable)}(b=b||d.ctrlKey||d.shiftKey||d.altKey||d.metaKey||(a.getAttribute(\"type\")||\n",
            "a.tagName).toUpperCase()in k&&32==c)||((b=a.tagName in f)||(b=a.getAttributeNode(\"tabindex\"),b=null!=b&&b.specified),b=!(b&&!a.disabled));if(b)c=!1;else{b=(a.getAttribute(\"role\")||a.type||a.tagName).toUpperCase();var m=!(b in h)&&13==c;a=\"INPUT\"!=a.tagName.toUpperCase()||!!a.type;c=(0==h[b]%c||m)&&a}}c&&(d.preventDefault(),window.xp(this),lve&&window.logVe(this))};}).call(this);})();})();(function(){window.jsl.dh('accdef_3','\\x3cdiv\\x3e\\x3cdiv style\\x3d\\x22padding-bottom:12px;padding-top:0px\\x22 class\\x3d\\x22hwc kCrYT\\x22\\x3e\\x3cdiv class\\x3d\\x22yStFkb\\x22\\x3e\\x3cdiv class\\x3d\\x22Gx5Zad xpd EtOod pkphOe\\x22\\x3e\\x3cdiv class\\x3d\\x22kCrYT\\x22\\x3e\\x3cdiv\\x3e\\x3cdiv class\\x3d\\x22BNeawe s3v9rd AP7Wnd\\x22\\x3e\\x3cdiv\\x3e\\x3cdiv class\\x3d\\x22BNeawe s3v9rd AP7Wnd\\x22\\x3eThe \\x3cspan class\\x3d\\x22FCUp0c rQMQod\\x22\\x3eadjective\\x3c/span\\x3e form related to the noun politics is political: My friends and I are always having political discussions late into the night.\\x3c/div\\x3e\\x3c/div\\x3e\\x3c/div\\x3e\\x3c/div\\x3e\\x3c/div\\x3e\\x3cdiv class\\x3d\\x22x54gtf\\x22\\x3e\\x3c/div\\x3e\\x3cdiv class\\x3d\\x22kCrYT\\x22\\x3e\\x3ca href\\x3d\\x22/url?q\\x3dhttps://dictionary.cambridge.org/grammar/british-grammar/politics-political-politician-or-policy\\x26amp;sa\\x3dU\\x26amp;ved\\x3d2ahUKEwi6yMqf0In9AhUGxosKHU_0DxwQFnoECAAQDQ\\x26amp;usg\\x3dAOvVaw2vmlEpT8wx2eb_rDgtTAsv\\x22\\x3e\\x3cspan\\x3e\\x3cdiv class\\x3d\\x22BNeawe vvjwJb AP7Wnd\\x22\\x3e\\x3cspan class\\x3d\\x22rQMQod Xb5VRe\\x22\\x3ePolitics, political, politician or policy - Cambridge Dictionary\\x3c/span\\x3e\\x3c/div\\x3e\\x3c/span\\x3e\\x3cspan\\x3e\\x3cdiv class\\x3d\\x22BNeawe UPmit AP7Wnd\\x22\\x3edictionary.cambridge.org \\u203a grammar \\u203a british-grammar \\u203a politics-political-...\\x3c/div\\x3e\\x3c/span\\x3e\\x3c/a\\x3e\\x3c/div\\x3e\\x3c/div\\x3e\\x3c/div\\x3e\\x3cdiv\\x3e\\x3cdiv class\\x3d\\x22P1NWSe\\x22\\x3e\\x3cdiv class\\x3d\\x22wOMIed nkPlDb\\x22\\x3e\\x3cspan class\\x3d\\x22JhFlyf VQFmSd\\x22\\x3e\\x3ca class\\x3d\\x22f4J0H\\x22 href\\x3d\\x22https://www.google.com/search?ie\\x3dUTF-8\\x26amp;ei\\x3dQ4blY_qaG4aMrwTP6L_gAQ\\x26amp;q\\x3dWhat+type+of+word+is+political?\\x26amp;sa\\x3dX\\x26amp;ved\\x3d2ahUKEwi6yMqf0In9AhUGxosKHU_0DxwQzmd6BAgAEA4\\x22\\x3eMore results\\x3c/a\\x3e\\x3c/span\\x3e\\x3c/div\\x3e\\x3c/div\\x3e\\x3c/div\\x3e\\x3c/div\\x3e\\x3c/div\\x3e');})();google.drty&&google.drty(undefined,true);</script></body></html>\n"
          ]
        }
      ],
      "source": [
        "print(pagina)"
      ]
    },
    {
      "cell_type": "code",
      "execution_count": null,
      "metadata": {
        "colab": {
          "base_uri": "https://localhost:8080/"
        },
        "id": "lTD8YSXQvxJA",
        "outputId": "c44095e1-642c-4545-e235-48c093e3055e"
      },
      "outputs": [
        {
          "data": {
            "text/plain": [
              "200"
            ]
          },
          "execution_count": 18,
          "metadata": {},
          "output_type": "execute_result"
        }
      ],
      "source": [
        "#Verificando o status da página\n",
        "r.status_code"
      ]
    },
    {
      "cell_type": "markdown",
      "metadata": {
        "id": "m3FVq1roxn2d"
      },
      "source": [
        "Tabela de Status HTTP\n",
        "\n",
        "\n",
        "\n",
        "\n",
        "<img src='https://bryanavery.co.uk/wp-content/uploads/2018/11/statuscode.png'>"
      ]
    },
    {
      "cell_type": "code",
      "execution_count": null,
      "metadata": {
        "colab": {
          "base_uri": "https://localhost:8080/",
          "height": 35
        },
        "id": "lVVSnH14ypA8",
        "outputId": "33035dbd-5bc5-4eee-9551-8190adc031c3"
      },
      "outputs": [
        {
          "data": {
            "application/vnd.google.colaboratory.intrinsic+json": {
              "type": "string"
            },
            "text/plain": [
              "'https://www.terra.com.br/'"
            ]
          },
          "execution_count": 6,
          "metadata": {},
          "output_type": "execute_result"
        }
      ],
      "source": [
        "#Verificando a URL Utilizada\n",
        "r.url"
      ]
    },
    {
      "cell_type": "code",
      "execution_count": null,
      "metadata": {
        "colab": {
          "base_uri": "https://localhost:8080/"
        },
        "id": "4lTsfNZJypJ5",
        "outputId": "ef306c02-7257-495f-a306-53aac28bf235"
      },
      "outputs": [
        {
          "name": "stdout",
          "output_type": "stream",
          "text": [
            "Pagina acessada com sucesso. Código: 200\n"
          ]
        }
      ],
      "source": [
        "#Validando se o site foi acessado com sucesso\n",
        "if r.status_code != 200:\n",
        "  print(\"Falha no acesso a pagina\")\n",
        "else:\n",
        "  print(\"Pagina acessada com sucesso. Código: {}\".format(r.status_code))"
      ]
    },
    {
      "cell_type": "code",
      "execution_count": null,
      "metadata": {
        "id": "rseXH9vMvTDh"
      },
      "outputs": [],
      "source": [
        "#Fazendo download da pagina para o ambiente do colab, preservando imagens, videos e todos os objetos\n",
        "with open(\"arquivo.html\",\"wb\") as arquivo:\n",
        "    for chunk in r.iter_content(chunk_size=1024):\n",
        "\n",
        "\n",
        "         if chunk:\n",
        "             arquivo.write(chunk)"
      ]
    },
    {
      "cell_type": "code",
      "execution_count": null,
      "metadata": {
        "id": "6sXBU6ubvoB2"
      },
      "outputs": [],
      "source": [
        "#Fazendo download dos arquivos do Colab para o seu PC\n",
        "from google.colab import files\n",
        "files.download('arquivo.html')"
      ]
    },
    {
      "cell_type": "markdown",
      "metadata": {
        "id": "c0-XkNbK5RQy"
      },
      "source": [
        "# Utilizando APIs\n",
        "\n",
        "Utilizando o complemento RESTClient vamos estudar o funcionamento da API exchangerate, que permite obter a conversão de moedas\n",
        "\n",
        "https://api.exchangerate-api.com/v4/latest/"
      ]
    },
    {
      "cell_type": "code",
      "execution_count": null,
      "metadata": {
        "id": "YY1t2Fy25P6m"
      },
      "outputs": [],
      "source": [
        "#Verificando a cotação de moedas baseadas no dolar americano\n",
        "\n",
        "url = 'https://api.exchangerate-api.com/v4/latest/USD'"
      ]
    },
    {
      "cell_type": "code",
      "execution_count": null,
      "metadata": {
        "id": "tePCNatD6JPw"
      },
      "outputs": [],
      "source": [
        "#Obtendo os dados das cotações por JSON\n",
        "dados = requests.get(url).json()"
      ]
    },
    {
      "cell_type": "code",
      "execution_count": null,
      "metadata": {
        "colab": {
          "base_uri": "https://localhost:8080/"
        },
        "id": "CtHWWCDL6UVp",
        "outputId": "d5f76646-13ca-4c75-8949-d355945cdeff"
      },
      "outputs": [
        {
          "name": "stdout",
          "output_type": "stream",
          "text": [
            "{'provider': 'https://www.exchangerate-api.com', 'WARNING_UPGRADE_TO_V6': 'https://www.exchangerate-api.com/docs/free', 'terms': 'https://www.exchangerate-api.com/terms', 'base': 'USD', 'date': '2023-02-01', 'time_last_updated': 1675209602, 'rates': {'USD': 1, 'AED': 3.67, 'AFN': 89.55, 'ALL': 107.38, 'AMD': 395.53, 'ANG': 1.79, 'AOA': 509.79, 'ARS': 186.28, 'AUD': 1.42, 'AWG': 1.79, 'AZN': 1.7, 'BAM': 1.8, 'BBD': 2, 'BDT': 105.97, 'BGN': 1.8, 'BHD': 0.376, 'BIF': 2064.77, 'BMD': 1, 'BND': 1.32, 'BOB': 6.92, 'BRL': 5.12, 'BSD': 1, 'BTN': 81.8, 'BWP': 12.79, 'BYN': 2.56, 'BZD': 2, 'CAD': 1.33, 'CDF': 2072.37, 'CHF': 0.919, 'CLP': 807.45, 'CNY': 6.76, 'COP': 4638.29, 'CRC': 554.46, 'CUP': 24, 'CVE': 101.62, 'CZK': 21.95, 'DJF': 177.72, 'DKK': 6.88, 'DOP': 56.84, 'DZD': 135.86, 'EGP': 30.18, 'ERN': 15, 'ETB': 53.69, 'EUR': 0.922, 'FJD': 2.16, 'FKP': 0.812, 'FOK': 6.88, 'GBP': 0.812, 'GEL': 2.65, 'GGP': 0.812, 'GHS': 12.35, 'GIP': 0.812, 'GMD': 63.2, 'GNF': 8722.72, 'GTQ': 7.86, 'GYD': 211.03, 'HKD': 7.84, 'HNL': 24.68, 'HRK': 6.94, 'HTG': 149.27, 'HUF': 359.95, 'IDR': 15009.61, 'ILS': 3.46, 'IMP': 0.812, 'INR': 81.8, 'IQD': 1461.04, 'IRR': 42045.94, 'ISK': 141.35, 'JEP': 0.812, 'JMD': 153.9, 'JOD': 0.709, 'JPY': 130.15, 'KES': 124.45, 'KGS': 86.14, 'KHR': 4126.25, 'KID': 1.42, 'KMF': 453.39, 'KRW': 1233.29, 'KWD': 0.305, 'KYD': 0.833, 'KZT': 460.52, 'LAK': 16917.06, 'LBP': 1507.5, 'LKR': 365.87, 'LRD': 156.79, 'LSL': 17.43, 'LYD': 4.76, 'MAD': 10.21, 'MDL': 18.75, 'MGA': 4270.63, 'MKD': 56.59, 'MMK': 2104.53, 'MNT': 3470.03, 'MOP': 8.07, 'MRU': 36.33, 'MUR': 44.46, 'MVR': 15.43, 'MWK': 1029.85, 'MXN': 18.83, 'MYR': 4.26, 'MZN': 64.11, 'NAD': 17.43, 'NGN': 460.45, 'NIO': 36.58, 'NOK': 10.01, 'NPR': 130.89, 'NZD': 1.55, 'OMR': 0.384, 'PAB': 1, 'PEN': 3.85, 'PGK': 3.52, 'PHP': 54.7, 'PKR': 265.09, 'PLN': 4.34, 'PYG': 7331.08, 'QAR': 3.64, 'RON': 4.54, 'RSD': 108.18, 'RUB': 70.54, 'RWF': 1099.81, 'SAR': 3.75, 'SBD': 8.37, 'SCR': 14.16, 'SDG': 524.64, 'SEK': 10.46, 'SGD': 1.32, 'SHP': 0.812, 'SLE': 19.75, 'SLL': 19746.11, 'SOS': 568.64, 'SRD': 32.49, 'SSP': 740.04, 'STN': 22.58, 'SYP': 2507.26, 'SZL': 17.43, 'THB': 32.86, 'TJS': 10.26, 'TMT': 3.5, 'TND': 3.06, 'TOP': 2.29, 'TRY': 18.81, 'TTD': 6.76, 'TVD': 1.42, 'TWD': 29.99, 'TZS': 2336.26, 'UAH': 36.85, 'UGX': 3684.5, 'UYU': 38.86, 'UZS': 11306.7, 'VES': 22.37, 'VND': 23445.34, 'VUV': 115.58, 'WST': 2.65, 'XAF': 604.52, 'XCD': 2.7, 'XDR': 0.743, 'XOF': 604.52, 'XPF': 109.98, 'YER': 250.3, 'ZAR': 17.43, 'ZMW': 19.05, 'ZWL': 796.33}}\n"
          ]
        }
      ],
      "source": [
        "#Visualizando o conteudo de dados\n",
        "print(dados)"
      ]
    },
    {
      "cell_type": "code",
      "execution_count": null,
      "metadata": {
        "colab": {
          "base_uri": "https://localhost:8080/"
        },
        "id": "ir95xNO76dAE",
        "outputId": "7d54d07a-820f-49fc-d69e-ae0139ab6199"
      },
      "outputs": [
        {
          "data": {
            "text/plain": [
              "dict"
            ]
          },
          "execution_count": 37,
          "metadata": {},
          "output_type": "execute_result"
        }
      ],
      "source": [
        "#Verificando o tipo de dados\n",
        "type(dados)"
      ]
    },
    {
      "cell_type": "code",
      "execution_count": null,
      "metadata": {
        "colab": {
          "base_uri": "https://localhost:8080/"
        },
        "id": "4KsCCW9m6hIn",
        "outputId": "e354e893-f5fa-4f0b-dc01-10144aa0a421"
      },
      "outputs": [
        {
          "data": {
            "text/plain": [
              "dict_keys(['provider', 'WARNING_UPGRADE_TO_V6', 'terms', 'base', 'date', 'time_last_updated', 'rates'])"
            ]
          },
          "execution_count": 38,
          "metadata": {},
          "output_type": "execute_result"
        }
      ],
      "source": [
        "#visualizando o conteudo de dados\n",
        "dados.keys()"
      ]
    },
    {
      "cell_type": "code",
      "execution_count": null,
      "metadata": {
        "colab": {
          "base_uri": "https://localhost:8080/"
        },
        "id": "8kvqNToi6rjV",
        "outputId": "840bdb0e-aaaa-4a1f-d2a8-7692852fbacf"
      },
      "outputs": [
        {
          "data": {
            "text/plain": [
              "5.12"
            ]
          },
          "execution_count": 39,
          "metadata": {},
          "output_type": "execute_result"
        }
      ],
      "source": [
        "#Acessando os dados da taxa de conversão\n",
        "dados['rates']['BRL']"
      ]
    },
    {
      "cell_type": "code",
      "execution_count": null,
      "metadata": {
        "colab": {
          "base_uri": "https://localhost:8080/"
        },
        "id": "VFHa6xOo60GC",
        "outputId": "84ca5aef-8ee8-4893-dd07-bf4cc8c56f1f"
      },
      "outputs": [
        {
          "data": {
            "text/plain": [
              "162"
            ]
          },
          "execution_count": 40,
          "metadata": {},
          "output_type": "execute_result"
        }
      ],
      "source": [
        "#Verificando quantos cambios foram obtidos pela API\n",
        "len(dados['rates'])"
      ]
    },
    {
      "cell_type": "code",
      "execution_count": null,
      "metadata": {
        "colab": {
          "base_uri": "https://localhost:8080/"
        },
        "id": "GOgFVrOn7NZ7",
        "outputId": "e9450605-da68-435a-8879-a5e6776b5bec"
      },
      "outputs": [
        {
          "data": {
            "text/plain": [
              "5.12"
            ]
          },
          "execution_count": 45,
          "metadata": {},
          "output_type": "execute_result"
        }
      ],
      "source": [
        "#Verificando a cotação do Dolar em relação ao Real\n",
        "dados['rates']['BRL']"
      ]
    },
    {
      "cell_type": "code",
      "execution_count": null,
      "metadata": {
        "colab": {
          "base_uri": "https://localhost:8080/",
          "height": 35
        },
        "id": "eVAYzYBp7UMx",
        "outputId": "45546f9b-a68a-49fe-aa2d-ac6ea48b6a3c"
      },
      "outputs": [
        {
          "data": {
            "application/vnd.google.colaboratory.intrinsic+json": {
              "type": "string"
            },
            "text/plain": [
              "'2023-02-01'"
            ]
          },
          "execution_count": 46,
          "metadata": {},
          "output_type": "execute_result"
        }
      ],
      "source": [
        "#Verificando a data da cotação\n",
        "dados['date']"
      ]
    },
    {
      "cell_type": "code",
      "execution_count": null,
      "metadata": {
        "colab": {
          "base_uri": "https://localhost:8080/"
        },
        "id": "voyuWnC_6_ia",
        "outputId": "b5ce5b7c-e6f4-43cb-b686-0062f3cec5fb"
      },
      "outputs": [
        {
          "name": "stdout",
          "output_type": "stream",
          "text": [
            "Insira algo8.9\n",
            "17.8\n"
          ]
        }
      ],
      "source": [
        "dados = float(input(\"Insira algo\"))\n",
        "print(dados*2)"
      ]
    },
    {
      "cell_type": "markdown",
      "metadata": {
        "id": "HIXMGUto9eJY"
      },
      "source": [
        "# Vamos desenvolver ?\n",
        "* Desenvolva um programa que mostra a cotação online de Reais em Euros\n",
        "* Desenvolva um programa que recebe um valor em Reais e faz a conversão para Francos Suiços"
      ]
    },
    {
      "cell_type": "markdown",
      "metadata": {
        "id": "PkwhdLqo_Wq6"
      },
      "source": []
    },
    {
      "cell_type": "code",
      "execution_count": null,
      "metadata": {
        "colab": {
          "base_uri": "https://localhost:8080/"
        },
        "id": "TANfGHk58-VR",
        "outputId": "9c2d5e80-c762-4725-d9c3-8b3c44466ade"
      },
      "outputs": [
        {
          "name": "stdout",
          "output_type": "stream",
          "text": [
            "Informe a quantidade de Euros a serem convertidos:20\n",
            "20.0 Euros equivalem a a 110.8 Reais\n"
          ]
        }
      ],
      "source": [
        "import requests\n",
        "url = 'https://api.exchangerate-api.com/v4/latest/EUR'\n",
        "r = requests.get(url).json()\n",
        "#Solicitar ao usuario a quantidade de Euros que serão convertidos\n",
        "euros = float(input(\"Informe a quantidade de Euros a serem convertidos:\"))\n",
        "total = euros * r['rates']['BRL']\n",
        "print(\"{} Euros equivalem a a {} Reais\".format(euros, total))\n",
        "\n"
      ]
    },
    {
      "cell_type": "code",
      "execution_count": null,
      "metadata": {
        "id": "Gqt0XmEobtxS"
      },
      "outputs": [],
      "source": []
    },
    {
      "cell_type": "code",
      "execution_count": null,
      "metadata": {
        "colab": {
          "base_uri": "https://localhost:8080/"
        },
        "id": "1Si3luOFGsqz",
        "outputId": "67b53ee1-1afc-43d5-d4d8-b46e68abd1b6"
      },
      "outputs": [
        {
          "name": "stdout",
          "output_type": "stream",
          "text": [
            "Digite o valor em Reais que quer converter:10\n",
            "R$ 10.0 CHF 1.7399999999999998\n"
          ]
        }
      ],
      "source": [
        "url = 'https://api.exchangerate-api.com/v4/latest/BRL'\n",
        "r = requests.get(url).json()\n",
        "reais = float(input(\"Digite o valor em Reais que quer converter:\"))\n",
        "franco = r['rates']['CHF']\n",
        "print(\"R$ {} CHF {}\".format(reais,reais*franco))\n"
      ]
    },
    {
      "cell_type": "markdown",
      "metadata": {
        "id": "h87TUTTfrjLv"
      },
      "source": [
        "# API Rest\n",
        "\n",
        "API REST, também chamada de API RESTful, é uma interface de programação de aplicações (API ou API web) que está em conformidade com as restrições do estilo de arquitetura REST, permitindo a interação com serviços web RESTful. REST é a sigla em inglês para transferência representacional de estado. Essa arquitetura foi criada pelo cientista da computação Roy Fielding.\n",
        "\n",
        "fonte:https://www.redhat.com/pt-br/topics/api/what-is-a-rest-api"
      ]
    },
    {
      "cell_type": "markdown",
      "metadata": {
        "id": "PJzNuZuDtDFf"
      },
      "source": [
        "# IU Swagger\n",
        "\n",
        "A IU Swagger permite que qualquer pessoa - seja sua equipe de desenvolvimento ou seus consumidores finais - visualize e interaja com os recursos da API sem ter nenhuma lógica de implementação em vigor. Ele é gerado automaticamente a partir de sua especificação OpenAPI (anteriormente conhecido como Swagger), com a documentação visual facilitando a implementação de back-end e o consumo do lado do cliente.\n",
        "\n",
        "fonte:https://www.redhat.com/pt-br/topics/api/what-is-a-rest-api"
      ]
    },
    {
      "cell_type": "markdown",
      "metadata": {
        "id": "G4EfTZFVtcmS"
      },
      "source": [
        "# Utilizando dados abertos da Camara Legislativa\n",
        "\n",
        "https://dadosabertos.camara.leg.br/swagger/api.html\n"
      ]
    },
    {
      "cell_type": "markdown",
      "metadata": {
        "id": "5vtbRNkHuVts"
      },
      "source": [
        "Obtendo informações sobre blocos partidários via link\n",
        "\n",
        "https://dadosabertos.camara.leg.br/api/v2/blocos?ordem=ASC&ordenarPor=nome"
      ]
    },
    {
      "cell_type": "code",
      "execution_count": null,
      "metadata": {
        "id": "88hUHtdauUq5"
      },
      "outputs": [],
      "source": [
        "#Convertendo a chamada informada no swagger para utilizar a biblioteca requests\n",
        "url = 'https://dadosabertos.camara.leg.br/api/v2/blocos'\n",
        "params = {'ordem':'ASC','ordenarPor':'nome'}"
      ]
    },
    {
      "cell_type": "code",
      "execution_count": null,
      "metadata": {
        "colab": {
          "base_uri": "https://localhost:8080/"
        },
        "id": "ImgaSwvjvqSq",
        "outputId": "5c79ea98-d440-447c-8f83-eb9870bda887"
      },
      "outputs": [
        {
          "name": "stdout",
          "output_type": "stream",
          "text": [
            "<Response [200]>\n"
          ]
        }
      ],
      "source": [
        "#Gerando a consulta utilizando python\n",
        "resultado = requests.get(url,params=params)\n",
        "print(resultado)"
      ]
    },
    {
      "cell_type": "code",
      "execution_count": null,
      "metadata": {
        "id": "QKPWZYVmv_DQ"
      },
      "outputs": [],
      "source": [
        "#Visualizando a URL utilizada\n",
        "resultado.url"
      ]
    },
    {
      "cell_type": "code",
      "execution_count": null,
      "metadata": {
        "id": "3ccmWXiyxKHq"
      },
      "outputs": [],
      "source": [
        "#Visualizando o resultado da consulta em JSON\n",
        "resultado.json()"
      ]
    },
    {
      "cell_type": "code",
      "execution_count": null,
      "metadata": {
        "colab": {
          "base_uri": "https://localhost:8080/"
        },
        "id": "vaGRNR2staVj",
        "outputId": "dddd6948-38de-4b41-9ff5-ff69db0bb52d"
      },
      "outputs": [
        {
          "name": "stdout",
          "output_type": "stream",
          "text": [
            "<Response [200]>\n"
          ]
        }
      ],
      "source": [
        "#Aplicando filtros de acordo com os campos JSON\n",
        "params = {'ordem':'ASC','ordenarPor':'nome','idLegislatura':'56'}\n",
        "resultado = requests.get(url,params=params)\n",
        "print(resultado)\n"
      ]
    },
    {
      "cell_type": "code",
      "execution_count": null,
      "metadata": {
        "colab": {
          "base_uri": "https://localhost:8080/",
          "height": 35
        },
        "id": "SPyQfzVxKmZI",
        "outputId": "5f4853e1-1610-4e22-d736-658f0ac767a3"
      },
      "outputs": [
        {
          "data": {
            "application/vnd.google.colaboratory.intrinsic+json": {
              "type": "string"
            },
            "text/plain": [
              "'https://dadosabertos.camara.leg.br/api/v2/blocos?ordem=ASC&ordenarPor=nome&idLegislatura=56'"
            ]
          },
          "execution_count": 6,
          "metadata": {},
          "output_type": "execute_result"
        }
      ],
      "source": [
        "resultado.url"
      ]
    },
    {
      "cell_type": "code",
      "execution_count": null,
      "metadata": {
        "id": "81E7eETEzMVT"
      },
      "outputs": [],
      "source": [
        "resultado.json()"
      ]
    },
    {
      "cell_type": "code",
      "execution_count": null,
      "metadata": {
        "colab": {
          "base_uri": "https://localhost:8080/"
        },
        "id": "tOSpXzxk7dyT",
        "outputId": "10699a5c-2566-4a43-9e90-216d1ecff8a8"
      },
      "outputs": [
        {
          "name": "stdout",
          "output_type": "stream",
          "text": [
            "<Response [200]>\n"
          ]
        }
      ],
      "source": [
        "#Fazendo uma busca por deputados do DF\n",
        "url = 'https://dadosabertos.camara.leg.br/api/v2/deputados'\n",
        "params = {'siglaUf':'DF','ordem':'ASC','ordenarPor':'nome'}\n",
        "resultado = requests.get(url,params=params)\n",
        "print(resultado)"
      ]
    },
    {
      "cell_type": "code",
      "execution_count": null,
      "metadata": {
        "colab": {
          "base_uri": "https://localhost:8080/"
        },
        "id": "QFkm9iVGLczZ",
        "outputId": "fe2a5a9f-5c6b-43d7-8beb-1d837f817b12"
      },
      "outputs": [
        {
          "name": "stdout",
          "output_type": "stream",
          "text": [
            "<Response [200]>\n"
          ]
        }
      ],
      "source": [
        "#Fazendo uma busca por Partido PSL\n",
        "url = 'https://dadosabertos.camara.leg.br/api/v2/deputados'\n",
        "params = {'siglaPartido':'PSL','ordem':'ASC','ordenarPor':'nome'}\n",
        "resultado = requests.get(url,params=params)\n",
        "print(resultado)"
      ]
    },
    {
      "cell_type": "code",
      "execution_count": null,
      "metadata": {
        "id": "8K3K-spqMBJT"
      },
      "outputs": [],
      "source": []
    },
    {
      "cell_type": "code",
      "execution_count": null,
      "metadata": {
        "colab": {
          "base_uri": "https://localhost:8080/"
        },
        "id": "Ebd8lUzczy6e",
        "outputId": "df33eac7-a0c0-4ce6-c49e-ff7bbad38374"
      },
      "outputs": [
        {
          "data": {
            "text/plain": [
              "{'dados': [],\n",
              " 'links': [{'rel': 'self',\n",
              "   'href': 'https://dadosabertos.camara.leg.br/api/v2/deputados?siglaPartido=PSL&ordem=ASC&ordenarPor=nome'}]}"
            ]
          },
          "execution_count": 9,
          "metadata": {},
          "output_type": "execute_result"
        }
      ],
      "source": [
        "resultado.json()"
      ]
    },
    {
      "cell_type": "code",
      "execution_count": null,
      "metadata": {
        "id": "CUbO-ixtz7HI"
      },
      "outputs": [],
      "source": [
        "#Convertendo JSON para Dataframe Pandas\n",
        "from pandas import json_normalize\n",
        "response = requests.get(url,params=params)\n"
      ]
    },
    {
      "cell_type": "code",
      "execution_count": null,
      "metadata": {
        "colab": {
          "base_uri": "https://localhost:8080/"
        },
        "id": "5gLQUB1U2Zjf",
        "outputId": "1e5bc962-617f-464d-a813-1fbf6e4a6cbf"
      },
      "outputs": [
        {
          "name": "stdout",
          "output_type": "stream",
          "text": [
            "dict_keys(['dados', 'links'])\n",
            "Empty DataFrame\n",
            "Columns: []\n",
            "Index: []\n"
          ]
        }
      ],
      "source": [
        "#Salvando o resultados do JSON em um dicionario\n",
        "dictr = response.json()\n",
        "#Verificando as chaves disponiveis no dicionario\n",
        "print(dictr.keys())\n",
        "#Utilizando a chave dados para obter as informações\n",
        "recs = dictr['dados']\n",
        "#Convertendo os dados em Dataframe Pandas\n",
        "df = json_normalize(recs)\n",
        "print(df)"
      ]
    },
    {
      "cell_type": "code",
      "execution_count": null,
      "metadata": {
        "id": "wFgnW2cu058H"
      },
      "outputs": [],
      "source": [
        "df.head()"
      ]
    },
    {
      "cell_type": "code",
      "execution_count": null,
      "metadata": {
        "id": "1hrTj9eLNZJY"
      },
      "outputs": [],
      "source": [
        "df['siglaUf'].value_counts()"
      ]
    },
    {
      "cell_type": "markdown",
      "metadata": {
        "id": "mTW0NNTi3C6y"
      },
      "source": [
        "Com os conhecimentos obtidos até aqui faça as seguintes tarefas:\n",
        "\n",
        "* Identifique qual Estado da Federação possui um maior numero de Deputados\n",
        "* Monte um gráfico de barras com a quantidade de deputados por partido"
      ]
    },
    {
      "cell_type": "code",
      "execution_count": null,
      "metadata": {
        "id": "Yr_C5-tRSgo9"
      },
      "outputs": [],
      "source": [
        "url = 'https://dadosabertos.camara.leg.br/api/v2/deputados'\n",
        "params = {'idLegislatura':'56'}\n",
        "resultado1 = requests.get(url,params=params)"
      ]
    },
    {
      "cell_type": "code",
      "execution_count": null,
      "metadata": {
        "id": "khf2bah0UDEs"
      },
      "outputs": [],
      "source": [
        "url = 'https://dadosabertos.camara.leg.br/api/v2/deputados'\n",
        "params = {'dataInicio':'2021-09-09','dataFim':'2021-09-10'}\n",
        "resultado2 = requests.get(url,params=params)\n"
      ]
    },
    {
      "cell_type": "code",
      "execution_count": null,
      "metadata": {
        "id": "BkYuIMd7S1JK"
      },
      "outputs": [],
      "source": [
        "df = json_normalize(resultado1.json()['dados'])\n",
        "d0 = df['siglaUf'].value_counts()"
      ]
    },
    {
      "cell_type": "code",
      "execution_count": null,
      "metadata": {
        "id": "Y8hz5hMXUngh"
      },
      "outputs": [],
      "source": [
        "df2 = json_normalize(resultado2.json()['dados'])\n",
        "d1 = df2['siglaUf'].value_counts()"
      ]
    },
    {
      "cell_type": "code",
      "execution_count": null,
      "metadata": {
        "colab": {
          "base_uri": "https://localhost:8080/",
          "height": 661
        },
        "id": "V4vAxC7QiEDQ",
        "outputId": "625dd4f3-871a-459d-d984-9d6c677a551c"
      },
      "outputs": [
        {
          "data": {
            "text/html": [
              "\n",
              "  <div id=\"df-d35c4cce-fe9a-42a3-bc7c-7d687cc2f8f4\">\n",
              "    <div class=\"colab-df-container\">\n",
              "      <div>\n",
              "<style scoped>\n",
              "    .dataframe tbody tr th:only-of-type {\n",
              "        vertical-align: middle;\n",
              "    }\n",
              "\n",
              "    .dataframe tbody tr th {\n",
              "        vertical-align: top;\n",
              "    }\n",
              "\n",
              "    .dataframe thead th {\n",
              "        text-align: right;\n",
              "    }\n",
              "</style>\n",
              "<table border=\"1\" class=\"dataframe\">\n",
              "  <thead>\n",
              "    <tr style=\"text-align: right;\">\n",
              "      <th></th>\n",
              "      <th>id</th>\n",
              "      <th>uri</th>\n",
              "      <th>nome</th>\n",
              "      <th>siglaPartido</th>\n",
              "      <th>uriPartido</th>\n",
              "      <th>siglaUf</th>\n",
              "      <th>idLegislatura</th>\n",
              "      <th>urlFoto</th>\n",
              "      <th>email</th>\n",
              "    </tr>\n",
              "  </thead>\n",
              "  <tbody>\n",
              "    <tr>\n",
              "      <th>0</th>\n",
              "      <td>204554</td>\n",
              "      <td>https://dadosabertos.camara.leg.br/api/v2/depu...</td>\n",
              "      <td>Abílio Santana</td>\n",
              "      <td>PSC</td>\n",
              "      <td>https://dadosabertos.camara.leg.br/api/v2/part...</td>\n",
              "      <td>BA</td>\n",
              "      <td>56</td>\n",
              "      <td>https://www.camara.leg.br/internet/deputado/ba...</td>\n",
              "      <td>None</td>\n",
              "    </tr>\n",
              "    <tr>\n",
              "      <th>1</th>\n",
              "      <td>204521</td>\n",
              "      <td>https://dadosabertos.camara.leg.br/api/v2/depu...</td>\n",
              "      <td>Abou Anni</td>\n",
              "      <td>UNIÃO</td>\n",
              "      <td>https://dadosabertos.camara.leg.br/api/v2/part...</td>\n",
              "      <td>SP</td>\n",
              "      <td>56</td>\n",
              "      <td>https://www.camara.leg.br/internet/deputado/ba...</td>\n",
              "      <td>None</td>\n",
              "    </tr>\n",
              "    <tr>\n",
              "      <th>2</th>\n",
              "      <td>204379</td>\n",
              "      <td>https://dadosabertos.camara.leg.br/api/v2/depu...</td>\n",
              "      <td>Acácio Favacho</td>\n",
              "      <td>MDB</td>\n",
              "      <td>https://dadosabertos.camara.leg.br/api/v2/part...</td>\n",
              "      <td>AP</td>\n",
              "      <td>56</td>\n",
              "      <td>https://www.camara.leg.br/internet/deputado/ba...</td>\n",
              "      <td>dep.acaciofavacho@camara.leg.br</td>\n",
              "    </tr>\n",
              "    <tr>\n",
              "      <th>3</th>\n",
              "      <td>204560</td>\n",
              "      <td>https://dadosabertos.camara.leg.br/api/v2/depu...</td>\n",
              "      <td>Adolfo Viana</td>\n",
              "      <td>PSDB</td>\n",
              "      <td>https://dadosabertos.camara.leg.br/api/v2/part...</td>\n",
              "      <td>BA</td>\n",
              "      <td>56</td>\n",
              "      <td>https://www.camara.leg.br/internet/deputado/ba...</td>\n",
              "      <td>dep.adolfoviana@camara.leg.br</td>\n",
              "    </tr>\n",
              "    <tr>\n",
              "      <th>4</th>\n",
              "      <td>204528</td>\n",
              "      <td>https://dadosabertos.camara.leg.br/api/v2/depu...</td>\n",
              "      <td>Adriana Ventura</td>\n",
              "      <td>NOVO</td>\n",
              "      <td>https://dadosabertos.camara.leg.br/api/v2/part...</td>\n",
              "      <td>SP</td>\n",
              "      <td>56</td>\n",
              "      <td>https://www.camara.leg.br/internet/deputado/ba...</td>\n",
              "      <td>dep.adrianaventura@camara.leg.br</td>\n",
              "    </tr>\n",
              "    <tr>\n",
              "      <th>...</th>\n",
              "      <td>...</td>\n",
              "      <td>...</td>\n",
              "      <td>...</td>\n",
              "      <td>...</td>\n",
              "      <td>...</td>\n",
              "      <td>...</td>\n",
              "      <td>...</td>\n",
              "      <td>...</td>\n",
              "      <td>...</td>\n",
              "    </tr>\n",
              "    <tr>\n",
              "      <th>621</th>\n",
              "      <td>204559</td>\n",
              "      <td>https://dadosabertos.camara.leg.br/api/v2/depu...</td>\n",
              "      <td>Zé Neto</td>\n",
              "      <td>PT</td>\n",
              "      <td>https://dadosabertos.camara.leg.br/api/v2/part...</td>\n",
              "      <td>BA</td>\n",
              "      <td>56</td>\n",
              "      <td>https://www.camara.leg.br/internet/deputado/ba...</td>\n",
              "      <td>dep.zeneto@camara.leg.br</td>\n",
              "    </tr>\n",
              "    <tr>\n",
              "      <th>622</th>\n",
              "      <td>160632</td>\n",
              "      <td>https://dadosabertos.camara.leg.br/api/v2/depu...</td>\n",
              "      <td>Zé Silva</td>\n",
              "      <td>SOLIDARIEDADE</td>\n",
              "      <td>https://dadosabertos.camara.leg.br/api/v2/part...</td>\n",
              "      <td>MG</td>\n",
              "      <td>56</td>\n",
              "      <td>https://www.camara.leg.br/internet/deputado/ba...</td>\n",
              "      <td>dep.zesilva@camara.leg.br</td>\n",
              "    </tr>\n",
              "    <tr>\n",
              "      <th>623</th>\n",
              "      <td>204517</td>\n",
              "      <td>https://dadosabertos.camara.leg.br/api/v2/depu...</td>\n",
              "      <td>Zé Vitor</td>\n",
              "      <td>PL</td>\n",
              "      <td>https://dadosabertos.camara.leg.br/api/v2/part...</td>\n",
              "      <td>MG</td>\n",
              "      <td>56</td>\n",
              "      <td>https://www.camara.leg.br/internet/deputado/ba...</td>\n",
              "      <td>dep.zevitor@camara.leg.br</td>\n",
              "    </tr>\n",
              "    <tr>\n",
              "      <th>624</th>\n",
              "      <td>178923</td>\n",
              "      <td>https://dadosabertos.camara.leg.br/api/v2/depu...</td>\n",
              "      <td>Zeca Cavalcanti</td>\n",
              "      <td>PTB</td>\n",
              "      <td>https://dadosabertos.camara.leg.br/api/v2/part...</td>\n",
              "      <td>PE</td>\n",
              "      <td>56</td>\n",
              "      <td>https://www.camara.leg.br/internet/deputado/ba...</td>\n",
              "      <td>None</td>\n",
              "    </tr>\n",
              "    <tr>\n",
              "      <th>625</th>\n",
              "      <td>160592</td>\n",
              "      <td>https://dadosabertos.camara.leg.br/api/v2/depu...</td>\n",
              "      <td>Zeca Dirceu</td>\n",
              "      <td>PT</td>\n",
              "      <td>https://dadosabertos.camara.leg.br/api/v2/part...</td>\n",
              "      <td>PR</td>\n",
              "      <td>56</td>\n",
              "      <td>https://www.camara.leg.br/internet/deputado/ba...</td>\n",
              "      <td>dep.zecadirceu@camara.leg.br</td>\n",
              "    </tr>\n",
              "  </tbody>\n",
              "</table>\n",
              "<p>626 rows × 9 columns</p>\n",
              "</div>\n",
              "      <button class=\"colab-df-convert\" onclick=\"convertToInteractive('df-d35c4cce-fe9a-42a3-bc7c-7d687cc2f8f4')\"\n",
              "              title=\"Convert this dataframe to an interactive table.\"\n",
              "              style=\"display:none;\">\n",
              "        \n",
              "  <svg xmlns=\"http://www.w3.org/2000/svg\" height=\"24px\"viewBox=\"0 0 24 24\"\n",
              "       width=\"24px\">\n",
              "    <path d=\"M0 0h24v24H0V0z\" fill=\"none\"/>\n",
              "    <path d=\"M18.56 5.44l.94 2.06.94-2.06 2.06-.94-2.06-.94-.94-2.06-.94 2.06-2.06.94zm-11 1L8.5 8.5l.94-2.06 2.06-.94-2.06-.94L8.5 2.5l-.94 2.06-2.06.94zm10 10l.94 2.06.94-2.06 2.06-.94-2.06-.94-.94-2.06-.94 2.06-2.06.94z\"/><path d=\"M17.41 7.96l-1.37-1.37c-.4-.4-.92-.59-1.43-.59-.52 0-1.04.2-1.43.59L10.3 9.45l-7.72 7.72c-.78.78-.78 2.05 0 2.83L4 21.41c.39.39.9.59 1.41.59.51 0 1.02-.2 1.41-.59l7.78-7.78 2.81-2.81c.8-.78.8-2.07 0-2.86zM5.41 20L4 18.59l7.72-7.72 1.47 1.35L5.41 20z\"/>\n",
              "  </svg>\n",
              "      </button>\n",
              "      \n",
              "  <style>\n",
              "    .colab-df-container {\n",
              "      display:flex;\n",
              "      flex-wrap:wrap;\n",
              "      gap: 12px;\n",
              "    }\n",
              "\n",
              "    .colab-df-convert {\n",
              "      background-color: #E8F0FE;\n",
              "      border: none;\n",
              "      border-radius: 50%;\n",
              "      cursor: pointer;\n",
              "      display: none;\n",
              "      fill: #1967D2;\n",
              "      height: 32px;\n",
              "      padding: 0 0 0 0;\n",
              "      width: 32px;\n",
              "    }\n",
              "\n",
              "    .colab-df-convert:hover {\n",
              "      background-color: #E2EBFA;\n",
              "      box-shadow: 0px 1px 2px rgba(60, 64, 67, 0.3), 0px 1px 3px 1px rgba(60, 64, 67, 0.15);\n",
              "      fill: #174EA6;\n",
              "    }\n",
              "\n",
              "    [theme=dark] .colab-df-convert {\n",
              "      background-color: #3B4455;\n",
              "      fill: #D2E3FC;\n",
              "    }\n",
              "\n",
              "    [theme=dark] .colab-df-convert:hover {\n",
              "      background-color: #434B5C;\n",
              "      box-shadow: 0px 1px 3px 1px rgba(0, 0, 0, 0.15);\n",
              "      filter: drop-shadow(0px 1px 2px rgba(0, 0, 0, 0.3));\n",
              "      fill: #FFFFFF;\n",
              "    }\n",
              "  </style>\n",
              "\n",
              "      <script>\n",
              "        const buttonEl =\n",
              "          document.querySelector('#df-d35c4cce-fe9a-42a3-bc7c-7d687cc2f8f4 button.colab-df-convert');\n",
              "        buttonEl.style.display =\n",
              "          google.colab.kernel.accessAllowed ? 'block' : 'none';\n",
              "\n",
              "        async function convertToInteractive(key) {\n",
              "          const element = document.querySelector('#df-d35c4cce-fe9a-42a3-bc7c-7d687cc2f8f4');\n",
              "          const dataTable =\n",
              "            await google.colab.kernel.invokeFunction('convertToInteractive',\n",
              "                                                     [key], {});\n",
              "          if (!dataTable) return;\n",
              "\n",
              "          const docLinkHtml = 'Like what you see? Visit the ' +\n",
              "            '<a target=\"_blank\" href=https://colab.research.google.com/notebooks/data_table.ipynb>data table notebook</a>'\n",
              "            + ' to learn more about interactive tables.';\n",
              "          element.innerHTML = '';\n",
              "          dataTable['output_type'] = 'display_data';\n",
              "          await google.colab.output.renderOutput(dataTable, element);\n",
              "          const docLink = document.createElement('div');\n",
              "          docLink.innerHTML = docLinkHtml;\n",
              "          element.appendChild(docLink);\n",
              "        }\n",
              "      </script>\n",
              "    </div>\n",
              "  </div>\n",
              "  "
            ],
            "text/plain": [
              "         id                                                uri  \\\n",
              "0    204554  https://dadosabertos.camara.leg.br/api/v2/depu...   \n",
              "1    204521  https://dadosabertos.camara.leg.br/api/v2/depu...   \n",
              "2    204379  https://dadosabertos.camara.leg.br/api/v2/depu...   \n",
              "3    204560  https://dadosabertos.camara.leg.br/api/v2/depu...   \n",
              "4    204528  https://dadosabertos.camara.leg.br/api/v2/depu...   \n",
              "..      ...                                                ...   \n",
              "621  204559  https://dadosabertos.camara.leg.br/api/v2/depu...   \n",
              "622  160632  https://dadosabertos.camara.leg.br/api/v2/depu...   \n",
              "623  204517  https://dadosabertos.camara.leg.br/api/v2/depu...   \n",
              "624  178923  https://dadosabertos.camara.leg.br/api/v2/depu...   \n",
              "625  160592  https://dadosabertos.camara.leg.br/api/v2/depu...   \n",
              "\n",
              "                nome   siglaPartido  \\\n",
              "0     Abílio Santana            PSC   \n",
              "1          Abou Anni          UNIÃO   \n",
              "2     Acácio Favacho            MDB   \n",
              "3       Adolfo Viana           PSDB   \n",
              "4    Adriana Ventura           NOVO   \n",
              "..               ...            ...   \n",
              "621          Zé Neto             PT   \n",
              "622         Zé Silva  SOLIDARIEDADE   \n",
              "623         Zé Vitor             PL   \n",
              "624  Zeca Cavalcanti            PTB   \n",
              "625      Zeca Dirceu             PT   \n",
              "\n",
              "                                            uriPartido siglaUf  idLegislatura  \\\n",
              "0    https://dadosabertos.camara.leg.br/api/v2/part...      BA             56   \n",
              "1    https://dadosabertos.camara.leg.br/api/v2/part...      SP             56   \n",
              "2    https://dadosabertos.camara.leg.br/api/v2/part...      AP             56   \n",
              "3    https://dadosabertos.camara.leg.br/api/v2/part...      BA             56   \n",
              "4    https://dadosabertos.camara.leg.br/api/v2/part...      SP             56   \n",
              "..                                                 ...     ...            ...   \n",
              "621  https://dadosabertos.camara.leg.br/api/v2/part...      BA             56   \n",
              "622  https://dadosabertos.camara.leg.br/api/v2/part...      MG             56   \n",
              "623  https://dadosabertos.camara.leg.br/api/v2/part...      MG             56   \n",
              "624  https://dadosabertos.camara.leg.br/api/v2/part...      PE             56   \n",
              "625  https://dadosabertos.camara.leg.br/api/v2/part...      PR             56   \n",
              "\n",
              "                                               urlFoto  \\\n",
              "0    https://www.camara.leg.br/internet/deputado/ba...   \n",
              "1    https://www.camara.leg.br/internet/deputado/ba...   \n",
              "2    https://www.camara.leg.br/internet/deputado/ba...   \n",
              "3    https://www.camara.leg.br/internet/deputado/ba...   \n",
              "4    https://www.camara.leg.br/internet/deputado/ba...   \n",
              "..                                                 ...   \n",
              "621  https://www.camara.leg.br/internet/deputado/ba...   \n",
              "622  https://www.camara.leg.br/internet/deputado/ba...   \n",
              "623  https://www.camara.leg.br/internet/deputado/ba...   \n",
              "624  https://www.camara.leg.br/internet/deputado/ba...   \n",
              "625  https://www.camara.leg.br/internet/deputado/ba...   \n",
              "\n",
              "                                email  \n",
              "0                                None  \n",
              "1                                None  \n",
              "2     dep.acaciofavacho@camara.leg.br  \n",
              "3       dep.adolfoviana@camara.leg.br  \n",
              "4    dep.adrianaventura@camara.leg.br  \n",
              "..                                ...  \n",
              "621          dep.zeneto@camara.leg.br  \n",
              "622         dep.zesilva@camara.leg.br  \n",
              "623         dep.zevitor@camara.leg.br  \n",
              "624                              None  \n",
              "625      dep.zecadirceu@camara.leg.br  \n",
              "\n",
              "[626 rows x 9 columns]"
            ]
          },
          "execution_count": 21,
          "metadata": {},
          "output_type": "execute_result"
        }
      ],
      "source": [
        "df"
      ]
    },
    {
      "cell_type": "code",
      "execution_count": null,
      "metadata": {
        "colab": {
          "base_uri": "https://localhost:8080/"
        },
        "id": "MPNSgGJOVekJ",
        "outputId": "b3eb32ca-9835-4960-8baa-eab793ccbec5"
      },
      "outputs": [
        {
          "data": {
            "text/plain": [
              "27"
            ]
          },
          "execution_count": 16,
          "metadata": {},
          "output_type": "execute_result"
        }
      ],
      "source": [
        "len(d0)"
      ]
    },
    {
      "cell_type": "code",
      "execution_count": null,
      "metadata": {
        "id": "MFGUtu9VWOXK"
      },
      "outputs": [],
      "source": [
        "d1 = list(d1)\n",
        "d0 = list(d0)"
      ]
    },
    {
      "cell_type": "code",
      "execution_count": null,
      "metadata": {
        "colab": {
          "base_uri": "https://localhost:8080/"
        },
        "id": "De-ebl8-WmrA",
        "outputId": "80b4bc0c-ef3f-4cbf-8920-4a59d74fb454"
      },
      "outputs": [
        {
          "data": {
            "text/plain": [
              "83"
            ]
          },
          "execution_count": 18,
          "metadata": {},
          "output_type": "execute_result"
        }
      ],
      "source": [
        "d0[0]"
      ]
    },
    {
      "cell_type": "code",
      "execution_count": null,
      "metadata": {
        "colab": {
          "base_uri": "https://localhost:8080/"
        },
        "id": "tXqvNazXU8xO",
        "outputId": "54ab2f33-b70b-4ea4-8d27-980220a7733c"
      },
      "outputs": [
        {
          "name": "stdout",
          "output_type": "stream",
          "text": [
            "0\n",
            "1\n",
            "2\n",
            "3\n",
            "4\n",
            "5\n",
            "6\n",
            "7\n",
            "8\n",
            "9\n",
            "10\n",
            "11\n",
            "12\n",
            "13\n",
            "14\n",
            "15\n",
            "16\n",
            "17\n",
            "18\n",
            "19\n",
            "20\n",
            "21\n",
            "22\n",
            "23\n",
            "24\n",
            "25\n",
            "26\n"
          ]
        }
      ],
      "source": [
        "for i in range(len(d1)):\n",
        "  print(i)"
      ]
    },
    {
      "cell_type": "markdown",
      "metadata": {
        "id": "XOd90w-C6c8U"
      },
      "source": [
        "# Trabalho 1 - Valendo nota\n",
        "Monte um grupo com até 3 membros e responda as perguntas listadas abaixo. A sua resposta deve estar embasada com dados e fatos, demonstrando com formulas, equações e explicações detalhadas como o grupo chegou a conclusão.\n",
        "\n",
        "O Trabalho deverá ser desenvolvido no Google Colab. Ao final o grupo deverá gerar um unico PDF e disponibilizar no Teams, que será utilizado para avaliação.\n",
        "O trabalho deverá ser apresentado para toda a turma, na data escolhida pelo professor.\n",
        "\n",
        "* Utilizando python monte uma lista dos 10 deputados que mais gastaram no ano de 2020.\n",
        "\n",
        "* Identifique qual o grupo de despesas onde os 10 deputados mais gastaram\n",
        "* Qual a UF onde os deputados mais gastaram? Qual a unidade federativa onde os deputados gastaram menos?\n",
        "* Qual o Estado onde os deputados mais gastam com passagens? Qual Estado da Federação com maior gasto em combustível?\n",
        "* Analise os dados de 2019 a 2020 e identifique quais deputados reduziram os gastos ao longo do período. Qual deputado teve o aumento mais expressivo?\n",
        "* O volume total de despesas está relacionado ao partido ao qual o deputado pertence?\n",
        "* Quantos deputados nasceram em uma UF diferente da que foram eleitos?\n",
        "* Há diferença entre gastos de deputados homens e mulheres? Faça um boxplot para demonstrar\n",
        "* Identifique quais os deputados mais participaram de eventos na casa.\n",
        "* Há correlação entre os deputados que mais participaram de eventos com as suas ocupações anteriores?\n",
        "* Utilizando informações de gasto publico, monte grupos de deputados de acordo com os tipos de gastos.\n",
        "\n"
      ]
    },
    {
      "cell_type": "markdown",
      "metadata": {
        "id": "tGxQgkGk-ww_"
      },
      "source": [
        "A Biblioteca BS4 permite capturar informações a partir de campos especificos da página HTML. Com isso é possivel fazer pesquisas em partes especificas de sites Web."
      ]
    },
    {
      "cell_type": "code",
      "execution_count": null,
      "metadata": {
        "id": "Pl3kKton-V9H"
      },
      "outputs": [],
      "source": [
        "#cria um objeto a partir de um get http da pagina do google\n",
        "r = requests.get('http://www.google.com')"
      ]
    },
    {
      "cell_type": "code",
      "execution_count": null,
      "metadata": {
        "colab": {
          "base_uri": "https://localhost:8080/",
          "height": 146
        },
        "id": "lXrKwQq9cv8n",
        "outputId": "951f3e57-fbe4-4e02-83a5-04dc34c82315"
      },
      "outputs": [
        {
          "data": {
            "application/vnd.google.colaboratory.intrinsic+json": {
              "type": "string"
            },
            "text/plain": [
              "'<!doctype html><html itemscope=\"\" itemtype=\"http://schema.org/WebPage\" lang=\"en\"><head><meta content=\"Search the world\\'s information, including webpages, images, videos and more. Google has many special features to help you find exactly what you\\'re looking for.\" name=\"description\"><meta content=\"noodp\" name=\"robots\"><meta content=\"text/html; charset=UTF-8\" http-equiv=\"Content-Type\"><meta content=\"/images/branding/googleg/1x/googleg_standard_color_128dp.png\" itemprop=\"image\"><title>Google</title><script nonce=\"WEYuu6ZP0JimKnwhhN0UyQ==\">(function(){window.google={kEI:\\'O8M7YYGoDsbQ-wT1qLkQ\\',kEXPI:\\'0,772215,1,530320,56873,954,5105,206,2414,2390,2316,383,246,5,1354,4936,314,1122516,1197705,578,328984,51224,16114,17444,11240,893,16679,4858,1362,9291,3025,17583,4020,978,13228,3847,4192,6430,1142,6290,11612,2780,917,5081,1593,1279,2212,530,149,1103,842,1981,4314,109,3405,606,2023,1777,522,14668,3227,2845,9,5597,6755,5096,14396,1924,908,2,941,2614,12710,432,3,1590,1,5445,148,11323,2652,4,1528,2304,1238,5801,74,1983,2626,2015,11501,2110,1714,3050,2658,4243,3114,30,5663,7965,2305,638,37,7043,3772,5993,1435,5824,2533,4094,3138,6,908,3,3541,1,5349,9361,1,1813,283,912,5992,1160,13518,742,35,1,1272,1715,2,3057,6163,619,4,41,4,5378,4,683,442,342,255,55,4,2811,123,1557,744,5852,2051,8412,1160,1269,5139,291,2381,2719,3708,2,835,3,125,5348,360,3788,487,1213,678,1685,10,1,8,7771,1933,2635,1596,982,372,2752,554,2471,2106,311,483,1264,52,645,1,198,40,2,4,2255,668,3,534,930,50,2,4195,214,1654,318,429,35,415,260,1,189,714,1482,439,18,252,174,2,899,150,620,22,2,523,138,98,1600,246,432,412,177,53,197,549,1079,40,84,411,838,2,663,78,101,2,146,1298,111,723,7,167,71,1842,817,5575445,3905,101,89,256,73,88,118,5996070,520,205,2800491,882,444,1,2,80,1,1796,1,9,2553,1,748,141,795,563,1,4265,1,1,2,1331,4142,2609,155,17,13,72,139,4,2,20,2,169,13,19,46,5,39,96,548,29,2,2,1,2,1,2,2,7,4,1,2,2,2,2,2,2,353,513,186,1,1,158,3,2,2,2,2,2,4,2,3,3,269,364,99,10,5,23,7,2,1,3,6,24,3,7,23654304,299865,4041351,338,3,2414,448,2,463,172,406,9,3235,1278,264,923\\',kBL:\\'kAEu\\'};google.sn=\\'webhp\\';google.kHL=\\'en\\';})();(function(){\\nvar f=this||self;var h,k=[];function l(a){for(var b;a&&(!a.getAttribute||!(b=a.getAttribute(\"eid\")));)a=a.parentNode;return b||h}function m(a){for(var b=null;a&&(!a.getAttribute||!(b=a.getAttribute(\"leid\")));)a=a.parentNode;return b}\\nfunction n(a,b,c,d,g){var e=\"\";c||-1!==b.search(\"&ei=\")||(e=\"&ei=\"+l(d),-1===b.search(\"&lei=\")&&(d=m(d))&&(e+=\"&lei=\"+d));d=\"\";!c&&f._cshid&&-1===b.search(\"&cshid=\")&&\"slh\"!==a&&(d=\"&cshid=\"+f._cshid);c=c||\"/\"+(g||\"gen_204\")+\"?atyp=i&ct=\"+a+\"&cad=\"+b+e+\"&zx=\"+Date.now()+d;/^http:/i.test(c)&&\"https:\"===window.location.protocol&&(google.ml&&google.ml(Error(\"a\"),!1,{src:c,glmm:1}),c=\"\");return c};h=google.kEI;google.getEI=l;google.getLEI=m;google.ml=function(){return null};google.log=function(a,b,c,d,g){if(c=n(a,b,c,d,g)){a=new Image;var e=k.length;k[e]=a;a.onerror=a.onload=a.onabort=function(){delete k[e]};a.src=c}};google.logUrl=n;}).call(this);(function(){\\ngoogle.y={};google.sy=[];google.x=function(a,b){if(a)var c=a.id;else{do c=Math.random();while(google.y[c])}google.y[c]=[a,b];return!1};google.sx=function(a){google.sy.push(a)};google.lm=[];google.plm=function(a){google.lm.push.apply(google.lm,a)};google.lq=[];google.load=function(a,b,c){google.lq.push([[a],b,c])};google.loadAll=function(a,b){google.lq.push([a,b])};google.bx=!1;google.lx=function(){};}).call(this);google.f={};(function(){\\ndocument.documentElement.addEventListener(\"submit\",function(b){var a;if(a=b.target){var c=a.getAttribute(\"data-submitfalse\");a=\"1\"===c||\"q\"===c&&!a.elements.q.value?!0:!1}else a=!1;a&&(b.preventDefault(),b.stopPropagation())},!0);document.documentElement.addEventListener(\"click\",function(b){var a;a:{for(a=b.target;a&&a!==document.documentElement;a=a.parentElement)if(\"A\"===a.tagName){a=\"1\"===a.getAttribute(\"data-nohref\");break a}a=!1}a&&b.preventDefault()},!0);}).call(this);</script><style>#gbar,#guser{font-size:13px;padding-top:1px !important;}#gbar{height:22px}#guser{padding-bottom:7px !important;text-align:right}.gbh,.gbd{border-top:1px solid #c9d7f1;font-size:1px}.gbh{height:0;position:absolute;top:24px;width:100%}@media all{.gb1{height:22px;margin-right:.5em;vertical-align:top}#gbar{float:left}}a.gb1,a.gb4{text-decoration:underline !important}a.gb1,a.gb4{color:#00c !important}.gbi .gb4{color:#dd8e27 !important}.gbf .gb4{color:#900 !important}\\n</style><style>body,td,a,p,.h{font-family:arial,sans-serif}body{margin:0;overflow-y:scroll}#gog{padding:3px 8px 0}td{line-height:.8em}.gac_m td{line-height:17px}form{margin-bottom:20px}.h{color:#1558d6}em{font-weight:bold;font-style:normal}.lst{height:25px;width:496px}.gsfi,.lst{font:18px arial,sans-serif}.gsfs{font:17px arial,sans-serif}.ds{display:inline-box;display:inline-block;margin:3px 0 4px;margin-left:4px}input{font-family:inherit}body{background:#fff;color:#000}a{color:#4b11a8;text-decoration:none}a:hover,a:active{text-decoration:underline}.fl a{color:#1558d6}a:visited{color:#4b11a8}.sblc{padding-top:5px}.sblc a{display:block;margin:2px 0;margin-left:13px;font-size:11px}.lsbb{background:#f8f9fa;border:solid 1px;border-color:#dadce0 #70757a #70757a #dadce0;height:30px}.lsbb{display:block}#WqQANb a{display:inline-block;margin:0 12px}.lsb{background:url(/images/nav_logo229.png) 0 -261px repeat-x;border:none;color:#000;cursor:pointer;height:30px;margin:0;outline:0;font:15px arial,sans-serif;vertical-align:top}.lsb:active{background:#dadce0}.lst:focus{outline:none}</style><script nonce=\"WEYuu6ZP0JimKnwhhN0UyQ==\">(function(){window.google.erd={sp:\\'hp\\',jsr:0,bv:10};\\nvar f=this||self;var g,h,k=null!==(g=f.mei)&&void 0!==g?g:1,l=null!==(h=f.sdo)&&void 0!==h?h:!0,n=0,p,q=google.erd,t=q.jsr;google.ml=function(a,b,e,m,d){d=void 0===d?2:d;b&&(p=a&&a.message);if(google.dl)return google.dl(a,d,e),null;if(0>t){window.console&&console.error(a,e);if(-2===t)throw a;b=!1}else b=!a||!a.message||\"Error loading script\"===a.message||n>=k&&!m?!1:!0;if(!b)return null;n++;e=e||{};b=encodeURIComponent;var c=\"/gen_204?atyp=i&ei=\"+b(google.kEI);google.kEXPI&&(c+=\"&jexpid=\"+b(google.kEXPI));c+=\"&srcpg=\"+b(q.sp)+\"&jsr=\"+b(q.jsr)+\"&bver=\"+b(q.bv)+(\"&jsel=\"+d);c+=\"&sn=\"+b(google.sn);for(var r in e)c+=\"&\",c+=b(r),c+=\"=\",c+=b(e[r]);c=c+\"&emsg=\"+b(a.name+\": \"+a.message);c=c+\"&jsst=\"+b(a.stack||\"N/A\");12288<=c.length&&(c=c.substr(0,12288));a=c;m||google.log(0,\"\",a);return a};window.onerror=function(a,b,e,m,d){p!==a&&google.ml(d instanceof Error?d:Error(a),!1,void 0,!1,google.dl?0:2);p=null;l&&n>=k&&(window.onerror=null)};})();</script></head><body bgcolor=\"#fff\"><script nonce=\"WEYuu6ZP0JimKnwhhN0UyQ==\">(function(){var src=\\'/images/nav_logo229.png\\';var iesg=false;document.body.onload = function(){window.n && window.n();if (document.images){new Image().src=src;}\\nif (!iesg){document.f&&document.f.q.focus();document.gbqf&&document.gbqf.q.focus();}\\n}\\n})();</script><div id=\"mngb\"><div id=gbar><nobr><b class=gb1>Search</b> <a class=gb1 href=\"http://www.google.com/imghp?hl=en&tab=wi\">Images</a> <a class=gb1 href=\"http://maps.google.com/maps?hl=en&tab=wl\">Maps</a> <a class=gb1 href=\"https://play.google.com/?hl=en&tab=w8\">Play</a> <a class=gb1 href=\"http://www.youtube.com/?gl=US&tab=w1\">YouTube</a> <a class=gb1 href=\"https://news.google.com/?tab=wn\">News</a> <a class=gb1 href=\"https://mail.google.com/mail/?tab=wm\">Gmail</a> <a class=gb1 href=\"https://drive.google.com/?tab=wo\">Drive</a> <a class=gb1 style=\"text-decoration:none\" href=\"https://www.google.com/intl/en/about/products?tab=wh\"><u>More</u> &raquo;</a></nobr></div><div id=guser width=100%><nobr><span id=gbn class=gbi></span><span id=gbf class=gbf></span><span id=gbe></span><a href=\"http://www.google.com/history/optout?hl=en\" class=gb4>Web History</a> | <a  href=\"/preferences?hl=en\" class=gb4>Settings</a> | <a target=_top id=gb_70 href=\"https://accounts.google.com/ServiceLogin?hl=en&passive=true&continue=http://www.google.com/&ec=GAZAAQ\" class=gb4>Sign in</a></nobr></div><div class=gbh style=left:0></div><div class=gbh style=right:0></div></div><center><br clear=\"all\" id=\"lgpd\"><div id=\"lga\"><img alt=\"Google\" height=\"92\" src=\"/images/branding/googlelogo/1x/googlelogo_white_background_color_272x92dp.png\" style=\"padding:28px 0 14px\" width=\"272\" id=\"hplogo\"><br><br></div><form action=\"/search\" name=\"f\"><table cellpadding=\"0\" cellspacing=\"0\"><tr valign=\"top\"><td width=\"25%\">&nbsp;</td><td align=\"center\" nowrap=\"\"><input name=\"ie\" value=\"ISO-8859-1\" type=\"hidden\"><input value=\"en\" name=\"hl\" type=\"hidden\"><input name=\"source\" type=\"hidden\" value=\"hp\"><input name=\"biw\" type=\"hidden\"><input name=\"bih\" type=\"hidden\"><div class=\"ds\" style=\"height:32px;margin:4px 0\"><input class=\"lst\" style=\"margin:0;padding:5px 8px 0 6px;vertical-align:top;color:#000\" autocomplete=\"off\" value=\"\" title=\"Google Search\" maxlength=\"2048\" name=\"q\" size=\"57\"></div><br style=\"line-height:0\"><span class=\"ds\"><span class=\"lsbb\"><input class=\"lsb\" value=\"Google Search\" name=\"btnG\" type=\"submit\"></span></span><span class=\"ds\"><span class=\"lsbb\"><input class=\"lsb\" id=\"tsuid1\" value=\"I\\'m Feeling Lucky\" name=\"btnI\" type=\"submit\"><script nonce=\"WEYuu6ZP0JimKnwhhN0UyQ==\">(function(){var id=\\'tsuid1\\';document.getElementById(id).onclick = function(){if (this.form.q.value){this.checked = 1;if (this.form.iflsig)this.form.iflsig.disabled = false;}\\nelse top.location=\\'/doodles/\\';};})();</script><input value=\"ALs-wAMAAAAAYTvRS6MbgSpicJ5tW_vVVyJxdU1V1D9J\" name=\"iflsig\" type=\"hidden\"></span></span></td><td class=\"fl sblc\" align=\"left\" nowrap=\"\" width=\"25%\"><a href=\"/advanced_search?hl=en&amp;authuser=0\">Advanced search</a></td></tr></table><input id=\"gbv\" name=\"gbv\" type=\"hidden\" value=\"1\"><script nonce=\"WEYuu6ZP0JimKnwhhN0UyQ==\">(function(){\\nvar a,b=\"1\";if(document&&document.getElementById)if(\"undefined\"!=typeof XMLHttpRequest)b=\"2\";else if(\"undefined\"!=typeof ActiveXObject){var c,d,e=[\"MSXML2.XMLHTTP.6.0\",\"MSXML2.XMLHTTP.3.0\",\"MSXML2.XMLHTTP\",\"Microsoft.XMLHTTP\"];for(c=0;d=e[c++];)try{new ActiveXObject(d),b=\"2\"}catch(h){}}a=b;if(\"2\"==a&&-1==location.search.indexOf(\"&gbv=2\")){var f=google.gbvu,g=document.getElementById(\"gbv\");g&&(g.value=a);f&&window.setTimeout(function(){location.href=f},0)};}).call(this);</script></form><div id=\"gac_scont\"></div><div style=\"font-size:83%;min-height:3.5em\"><br></div><span id=\"footer\"><div style=\"font-size:10pt\"><div style=\"margin:19px auto;text-align:center\" id=\"WqQANb\"><a href=\"/intl/en/ads/\">Advertising\\xa0Programs</a><a href=\"/services/\">Business Solutions</a><a href=\"/intl/en/about.html\">About Google</a></div></div><p style=\"font-size:8pt;color:#70757a\">&copy; 2021 - <a href=\"/intl/en/policies/privacy/\">Privacy</a> - <a href=\"/intl/en/policies/terms/\">Terms</a></p></span></center><script nonce=\"WEYuu6ZP0JimKnwhhN0UyQ==\">(function(){window.google.cdo={height:757,width:1440};(function(){\\nvar a=window.innerWidth,b=window.innerHeight;if(!a||!b){var c=window.document,d=\"CSS1Compat\"==c.compatMode?c.documentElement:c.body;a=d.clientWidth;b=d.clientHeight}a&&b&&(a!=google.cdo.width||b!=google.cdo.height)&&google.log(\"\",\"\",\"/client_204?&atyp=i&biw=\"+a+\"&bih=\"+b+\"&ei=\"+google.kEI);}).call(this);})();</script> <script nonce=\"WEYuu6ZP0JimKnwhhN0UyQ==\">(function(){google.xjs={ck:\\'\\',cs:\\'\\',excm:[]};})();</script>  <script nonce=\"WEYuu6ZP0JimKnwhhN0UyQ==\">(function(){var u=\\'/xjs/_/js/k\\\\x3dxjs.hp.en_US.p12-WFKRNdE.O/am\\\\x3dAPgEWA/d\\\\x3d1/ed\\\\x3d1/rs\\\\x3dACT90oEz-9zP8oxuqSBGqJ_cxCEzNAUt-w/m\\\\x3dsb_he,d\\';\\nvar e=this||self,f=function(a){return a};var g;var l=function(a,b){this.g=b===h?a:\"\"};l.prototype.toString=function(){return this.g+\"\"};var h={};function m(){var a=u;google.lx=function(){n(a);google.lx=function(){}};google.bx||google.lx()}\\nfunction n(a){google.timers&&google.timers.load&&google.tick&&google.tick(\"load\",\"xjsls\");var b=document;var c=\"SCRIPT\";\"application/xhtml+xml\"===b.contentType&&(c=c.toLowerCase());c=b.createElement(c);if(void 0===g){b=null;var k=e.trustedTypes;if(k&&k.createPolicy){try{b=k.createPolicy(\"goog#html\",{createHTML:f,createScript:f,createScriptURL:f})}catch(p){e.console&&e.console.error(p.message)}g=b}else g=b}a=(b=g)?b.createScriptURL(a):a;a=new l(a,h);c.src=a instanceof l&&a.constructor===l?a.g:\"type_error:TrustedResourceUrl\";var d;a=(c.ownerDocument&&c.ownerDocument.defaultView||window).document;(d=(b=null===(d=a.querySelector)||void 0===d?void 0:d.call(a,\"script[nonce]\"))?b.nonce||b.getAttribute(\"nonce\")||\"\":\"\")&&c.setAttribute(\"nonce\",d);document.body.appendChild(c);google.psa=!0};setTimeout(function(){m()},0);})();(function(){window.google.xjsu=\\'/xjs/_/js/k\\\\x3dxjs.hp.en_US.p12-WFKRNdE.O/am\\\\x3dAPgEWA/d\\\\x3d1/ed\\\\x3d1/rs\\\\x3dACT90oEz-9zP8oxuqSBGqJ_cxCEzNAUt-w/m\\\\x3dsb_he,d\\';})();function _DumpException(e){throw e;}\\nfunction _F_installCss(c){}\\n(function(){google.jl={attn:false,blt:\\'none\\',chnk:0,dw:false,emtn:0,end:0,ine:false,lls:\\'default\\',pdt:0,rep:0,sif:true,snet:true,strt:0,ubm:false,uwp:true};})();(function(){var pmc=\\'{\\\\x22d\\\\x22:{},\\\\x22sb_he\\\\x22:{\\\\x22agen\\\\x22:true,\\\\x22cgen\\\\x22:true,\\\\x22client\\\\x22:\\\\x22heirloom-hp\\\\x22,\\\\x22dh\\\\x22:true,\\\\x22dhqt\\\\x22:true,\\\\x22ds\\\\x22:\\\\x22\\\\x22,\\\\x22ffql\\\\x22:\\\\x22en\\\\x22,\\\\x22fl\\\\x22:true,\\\\x22host\\\\x22:\\\\x22google.com\\\\x22,\\\\x22isbh\\\\x22:28,\\\\x22jsonp\\\\x22:true,\\\\x22msgs\\\\x22:{\\\\x22cibl\\\\x22:\\\\x22Clear Search\\\\x22,\\\\x22dym\\\\x22:\\\\x22Did you mean:\\\\x22,\\\\x22lcky\\\\x22:\\\\x22I\\\\\\\\u0026#39;m Feeling Lucky\\\\x22,\\\\x22lml\\\\x22:\\\\x22Learn more\\\\x22,\\\\x22oskt\\\\x22:\\\\x22Input tools\\\\x22,\\\\x22psrc\\\\x22:\\\\x22This search was removed from your \\\\\\\\u003Ca href\\\\x3d\\\\\\\\\\\\x22/history\\\\\\\\\\\\x22\\\\\\\\u003EWeb History\\\\\\\\u003C/a\\\\\\\\u003E\\\\x22,\\\\x22psrl\\\\x22:\\\\x22Remove\\\\x22,\\\\x22sbit\\\\x22:\\\\x22Search by image\\\\x22,\\\\x22srch\\\\x22:\\\\x22Google Search\\\\x22},\\\\x22ovr\\\\x22:{},\\\\x22pq\\\\x22:\\\\x22\\\\x22,\\\\x22refpd\\\\x22:true,\\\\x22rfs\\\\x22:[],\\\\x22sbas\\\\x22:\\\\x220 3px 8px 0 rgba(0,0,0,0.2),0 0 0 1px rgba(0,0,0,0.08)\\\\x22,\\\\x22sbpl\\\\x22:16,\\\\x22sbpr\\\\x22:16,\\\\x22scd\\\\x22:10,\\\\x22stok\\\\x22:\\\\x22ydnKfqsoMF0wLPhfjF_Sg8-Elcc\\\\x22,\\\\x22uhde\\\\x22:false}}\\';google.pmc=JSON.parse(pmc);})();</script>        </body></html>'"
            ]
          },
          "execution_count": 123,
          "metadata": {},
          "output_type": "execute_result"
        }
      ],
      "source": [
        "r.text"
      ]
    },
    {
      "cell_type": "code",
      "execution_count": null,
      "metadata": {
        "id": "S35FM9Dw-WHe"
      },
      "outputs": [],
      "source": [
        "#realiza o parsing utilizando o padrao xml\n",
        "soup = BeautifulSoup(r.text, 'lxml')"
      ]
    },
    {
      "cell_type": "code",
      "execution_count": null,
      "metadata": {
        "colab": {
          "base_uri": "https://localhost:8080/"
        },
        "id": "i6IH3x04-WMz",
        "outputId": "4ac85f07-2695-404c-a3ad-ac3b4bf6a2b5"
      },
      "outputs": [
        {
          "name": "stdout",
          "output_type": "stream",
          "text": [
            "<!DOCTYPE html>\n",
            "<html itemscope=\"\" itemtype=\"http://schema.org/WebPage\" lang=\"en\"><head><meta content=\"Search the world's information, including webpages, images, videos and more. Google has many special features to help you find exactly what you're looking for.\" name=\"description\"/><meta content=\"noodp\" name=\"robots\"/><meta content=\"text/html; charset=utf-8\" http-equiv=\"Content-Type\"/><meta content=\"/images/branding/googleg/1x/googleg_standard_color_128dp.png\" itemprop=\"image\"/><title>Google</title><script nonce=\"WEYuu6ZP0JimKnwhhN0UyQ==\">(function(){window.google={kEI:'O8M7YYGoDsbQ-wT1qLkQ',kEXPI:'0,772215,1,530320,56873,954,5105,206,2414,2390,2316,383,246,5,1354,4936,314,1122516,1197705,578,328984,51224,16114,17444,11240,893,16679,4858,1362,9291,3025,17583,4020,978,13228,3847,4192,6430,1142,6290,11612,2780,917,5081,1593,1279,2212,530,149,1103,842,1981,4314,109,3405,606,2023,1777,522,14668,3227,2845,9,5597,6755,5096,14396,1924,908,2,941,2614,12710,432,3,1590,1,5445,148,11323,2652,4,1528,2304,1238,5801,74,1983,2626,2015,11501,2110,1714,3050,2658,4243,3114,30,5663,7965,2305,638,37,7043,3772,5993,1435,5824,2533,4094,3138,6,908,3,3541,1,5349,9361,1,1813,283,912,5992,1160,13518,742,35,1,1272,1715,2,3057,6163,619,4,41,4,5378,4,683,442,342,255,55,4,2811,123,1557,744,5852,2051,8412,1160,1269,5139,291,2381,2719,3708,2,835,3,125,5348,360,3788,487,1213,678,1685,10,1,8,7771,1933,2635,1596,982,372,2752,554,2471,2106,311,483,1264,52,645,1,198,40,2,4,2255,668,3,534,930,50,2,4195,214,1654,318,429,35,415,260,1,189,714,1482,439,18,252,174,2,899,150,620,22,2,523,138,98,1600,246,432,412,177,53,197,549,1079,40,84,411,838,2,663,78,101,2,146,1298,111,723,7,167,71,1842,817,5575445,3905,101,89,256,73,88,118,5996070,520,205,2800491,882,444,1,2,80,1,1796,1,9,2553,1,748,141,795,563,1,4265,1,1,2,1331,4142,2609,155,17,13,72,139,4,2,20,2,169,13,19,46,5,39,96,548,29,2,2,1,2,1,2,2,7,4,1,2,2,2,2,2,2,353,513,186,1,1,158,3,2,2,2,2,2,4,2,3,3,269,364,99,10,5,23,7,2,1,3,6,24,3,7,23654304,299865,4041351,338,3,2414,448,2,463,172,406,9,3235,1278,264,923',kBL:'kAEu'};google.sn='webhp';google.kHL='en';})();(function(){\n",
            "var f=this||self;var h,k=[];function l(a){for(var b;a&&(!a.getAttribute||!(b=a.getAttribute(\"eid\")));)a=a.parentNode;return b||h}function m(a){for(var b=null;a&&(!a.getAttribute||!(b=a.getAttribute(\"leid\")));)a=a.parentNode;return b}\n",
            "function n(a,b,c,d,g){var e=\"\";c||-1!==b.search(\"&ei=\")||(e=\"&ei=\"+l(d),-1===b.search(\"&lei=\")&&(d=m(d))&&(e+=\"&lei=\"+d));d=\"\";!c&&f._cshid&&-1===b.search(\"&cshid=\")&&\"slh\"!==a&&(d=\"&cshid=\"+f._cshid);c=c||\"/\"+(g||\"gen_204\")+\"?atyp=i&ct=\"+a+\"&cad=\"+b+e+\"&zx=\"+Date.now()+d;/^http:/i.test(c)&&\"https:\"===window.location.protocol&&(google.ml&&google.ml(Error(\"a\"),!1,{src:c,glmm:1}),c=\"\");return c};h=google.kEI;google.getEI=l;google.getLEI=m;google.ml=function(){return null};google.log=function(a,b,c,d,g){if(c=n(a,b,c,d,g)){a=new Image;var e=k.length;k[e]=a;a.onerror=a.onload=a.onabort=function(){delete k[e]};a.src=c}};google.logUrl=n;}).call(this);(function(){\n",
            "google.y={};google.sy=[];google.x=function(a,b){if(a)var c=a.id;else{do c=Math.random();while(google.y[c])}google.y[c]=[a,b];return!1};google.sx=function(a){google.sy.push(a)};google.lm=[];google.plm=function(a){google.lm.push.apply(google.lm,a)};google.lq=[];google.load=function(a,b,c){google.lq.push([[a],b,c])};google.loadAll=function(a,b){google.lq.push([a,b])};google.bx=!1;google.lx=function(){};}).call(this);google.f={};(function(){\n",
            "document.documentElement.addEventListener(\"submit\",function(b){var a;if(a=b.target){var c=a.getAttribute(\"data-submitfalse\");a=\"1\"===c||\"q\"===c&&!a.elements.q.value?!0:!1}else a=!1;a&&(b.preventDefault(),b.stopPropagation())},!0);document.documentElement.addEventListener(\"click\",function(b){var a;a:{for(a=b.target;a&&a!==document.documentElement;a=a.parentElement)if(\"A\"===a.tagName){a=\"1\"===a.getAttribute(\"data-nohref\");break a}a=!1}a&&b.preventDefault()},!0);}).call(this);</script><style>#gbar,#guser{font-size:13px;padding-top:1px !important;}#gbar{height:22px}#guser{padding-bottom:7px !important;text-align:right}.gbh,.gbd{border-top:1px solid #c9d7f1;font-size:1px}.gbh{height:0;position:absolute;top:24px;width:100%}@media all{.gb1{height:22px;margin-right:.5em;vertical-align:top}#gbar{float:left}}a.gb1,a.gb4{text-decoration:underline !important}a.gb1,a.gb4{color:#00c !important}.gbi .gb4{color:#dd8e27 !important}.gbf .gb4{color:#900 !important}\n",
            "</style><style>body,td,a,p,.h{font-family:arial,sans-serif}body{margin:0;overflow-y:scroll}#gog{padding:3px 8px 0}td{line-height:.8em}.gac_m td{line-height:17px}form{margin-bottom:20px}.h{color:#1558d6}em{font-weight:bold;font-style:normal}.lst{height:25px;width:496px}.gsfi,.lst{font:18px arial,sans-serif}.gsfs{font:17px arial,sans-serif}.ds{display:inline-box;display:inline-block;margin:3px 0 4px;margin-left:4px}input{font-family:inherit}body{background:#fff;color:#000}a{color:#4b11a8;text-decoration:none}a:hover,a:active{text-decoration:underline}.fl a{color:#1558d6}a:visited{color:#4b11a8}.sblc{padding-top:5px}.sblc a{display:block;margin:2px 0;margin-left:13px;font-size:11px}.lsbb{background:#f8f9fa;border:solid 1px;border-color:#dadce0 #70757a #70757a #dadce0;height:30px}.lsbb{display:block}#WqQANb a{display:inline-block;margin:0 12px}.lsb{background:url(/images/nav_logo229.png) 0 -261px repeat-x;border:none;color:#000;cursor:pointer;height:30px;margin:0;outline:0;font:15px arial,sans-serif;vertical-align:top}.lsb:active{background:#dadce0}.lst:focus{outline:none}</style><script nonce=\"WEYuu6ZP0JimKnwhhN0UyQ==\">(function(){window.google.erd={sp:'hp',jsr:0,bv:10};\n",
            "var f=this||self;var g,h,k=null!==(g=f.mei)&&void 0!==g?g:1,l=null!==(h=f.sdo)&&void 0!==h?h:!0,n=0,p,q=google.erd,t=q.jsr;google.ml=function(a,b,e,m,d){d=void 0===d?2:d;b&&(p=a&&a.message);if(google.dl)return google.dl(a,d,e),null;if(0>t){window.console&&console.error(a,e);if(-2===t)throw a;b=!1}else b=!a||!a.message||\"Error loading script\"===a.message||n>=k&&!m?!1:!0;if(!b)return null;n++;e=e||{};b=encodeURIComponent;var c=\"/gen_204?atyp=i&ei=\"+b(google.kEI);google.kEXPI&&(c+=\"&jexpid=\"+b(google.kEXPI));c+=\"&srcpg=\"+b(q.sp)+\"&jsr=\"+b(q.jsr)+\"&bver=\"+b(q.bv)+(\"&jsel=\"+d);c+=\"&sn=\"+b(google.sn);for(var r in e)c+=\"&\",c+=b(r),c+=\"=\",c+=b(e[r]);c=c+\"&emsg=\"+b(a.name+\": \"+a.message);c=c+\"&jsst=\"+b(a.stack||\"N/A\");12288<=c.length&&(c=c.substr(0,12288));a=c;m||google.log(0,\"\",a);return a};window.onerror=function(a,b,e,m,d){p!==a&&google.ml(d instanceof Error?d:Error(a),!1,void 0,!1,google.dl?0:2);p=null;l&&n>=k&&(window.onerror=null)};})();</script></head><body bgcolor=\"#fff\"><script nonce=\"WEYuu6ZP0JimKnwhhN0UyQ==\">(function(){var src='/images/nav_logo229.png';var iesg=false;document.body.onload = function(){window.n && window.n();if (document.images){new Image().src=src;}\n",
            "if (!iesg){document.f&&document.f.q.focus();document.gbqf&&document.gbqf.q.focus();}\n",
            "}\n",
            "})();</script><div id=\"mngb\"><div id=\"gbar\"><nobr><b class=\"gb1\">Search</b> <a class=\"gb1\" href=\"http://www.google.com/imghp?hl=en&amp;tab=wi\">Images</a> <a class=\"gb1\" href=\"http://maps.google.com/maps?hl=en&amp;tab=wl\">Maps</a> <a class=\"gb1\" href=\"https://play.google.com/?hl=en&amp;tab=w8\">Play</a> <a class=\"gb1\" href=\"http://www.youtube.com/?gl=US&amp;tab=w1\">YouTube</a> <a class=\"gb1\" href=\"https://news.google.com/?tab=wn\">News</a> <a class=\"gb1\" href=\"https://mail.google.com/mail/?tab=wm\">Gmail</a> <a class=\"gb1\" href=\"https://drive.google.com/?tab=wo\">Drive</a> <a class=\"gb1\" href=\"https://www.google.com/intl/en/about/products?tab=wh\" style=\"text-decoration:none\"><u>More</u> »</a></nobr></div><div id=\"guser\" width=\"100%\"><nobr><span class=\"gbi\" id=\"gbn\"></span><span class=\"gbf\" id=\"gbf\"></span><span id=\"gbe\"></span><a class=\"gb4\" href=\"http://www.google.com/history/optout?hl=en\">Web History</a> | <a class=\"gb4\" href=\"/preferences?hl=en\">Settings</a> | <a class=\"gb4\" href=\"https://accounts.google.com/ServiceLogin?hl=en&amp;passive=true&amp;continue=http://www.google.com/&amp;ec=GAZAAQ\" id=\"gb_70\" target=\"_top\">Sign in</a></nobr></div><div class=\"gbh\" style=\"left:0\"></div><div class=\"gbh\" style=\"right:0\"></div></div><center><br clear=\"all\" id=\"lgpd\"/><div id=\"lga\"><img alt=\"Google\" height=\"92\" id=\"hplogo\" src=\"/images/branding/googlelogo/1x/googlelogo_white_background_color_272x92dp.png\" style=\"padding:28px 0 14px\" width=\"272\"/><br/><br/></div><form action=\"/search\" name=\"f\"><table cellpadding=\"0\" cellspacing=\"0\"><tr valign=\"top\"><td width=\"25%\"> </td><td align=\"center\" nowrap=\"\"><input name=\"ie\" type=\"hidden\" value=\"ISO-8859-1\"/><input name=\"hl\" type=\"hidden\" value=\"en\"/><input name=\"source\" type=\"hidden\" value=\"hp\"/><input name=\"biw\" type=\"hidden\"/><input name=\"bih\" type=\"hidden\"/><div class=\"ds\" style=\"height:32px;margin:4px 0\"><input autocomplete=\"off\" class=\"lst\" maxlength=\"2048\" name=\"q\" size=\"57\" style=\"margin:0;padding:5px 8px 0 6px;vertical-align:top;color:#000\" title=\"Google Search\" value=\"\"/></div><br style=\"line-height:0\"/><span class=\"ds\"><span class=\"lsbb\"><input class=\"lsb\" name=\"btnG\" type=\"submit\" value=\"Google Search\"/></span></span><span class=\"ds\"><span class=\"lsbb\"><input class=\"lsb\" id=\"tsuid1\" name=\"btnI\" type=\"submit\" value=\"I'm Feeling Lucky\"/><script nonce=\"WEYuu6ZP0JimKnwhhN0UyQ==\">(function(){var id='tsuid1';document.getElementById(id).onclick = function(){if (this.form.q.value){this.checked = 1;if (this.form.iflsig)this.form.iflsig.disabled = false;}\n",
            "else top.location='/doodles/';};})();</script><input name=\"iflsig\" type=\"hidden\" value=\"ALs-wAMAAAAAYTvRS6MbgSpicJ5tW_vVVyJxdU1V1D9J\"/></span></span></td><td align=\"left\" class=\"fl sblc\" nowrap=\"\" width=\"25%\"><a href=\"/advanced_search?hl=en&amp;authuser=0\">Advanced search</a></td></tr></table><input id=\"gbv\" name=\"gbv\" type=\"hidden\" value=\"1\"/><script nonce=\"WEYuu6ZP0JimKnwhhN0UyQ==\">(function(){\n",
            "var a,b=\"1\";if(document&&document.getElementById)if(\"undefined\"!=typeof XMLHttpRequest)b=\"2\";else if(\"undefined\"!=typeof ActiveXObject){var c,d,e=[\"MSXML2.XMLHTTP.6.0\",\"MSXML2.XMLHTTP.3.0\",\"MSXML2.XMLHTTP\",\"Microsoft.XMLHTTP\"];for(c=0;d=e[c++];)try{new ActiveXObject(d),b=\"2\"}catch(h){}}a=b;if(\"2\"==a&&-1==location.search.indexOf(\"&gbv=2\")){var f=google.gbvu,g=document.getElementById(\"gbv\");g&&(g.value=a);f&&window.setTimeout(function(){location.href=f},0)};}).call(this);</script></form><div id=\"gac_scont\"></div><div style=\"font-size:83%;min-height:3.5em\"><br/></div><span id=\"footer\"><div style=\"font-size:10pt\"><div id=\"WqQANb\" style=\"margin:19px auto;text-align:center\"><a href=\"/intl/en/ads/\">Advertising Programs</a><a href=\"/services/\">Business Solutions</a><a href=\"/intl/en/about.html\">About Google</a></div></div><p style=\"font-size:8pt;color:#70757a\">© 2021 - <a href=\"/intl/en/policies/privacy/\">Privacy</a> - <a href=\"/intl/en/policies/terms/\">Terms</a></p></span></center><script nonce=\"WEYuu6ZP0JimKnwhhN0UyQ==\">(function(){window.google.cdo={height:757,width:1440};(function(){\n",
            "var a=window.innerWidth,b=window.innerHeight;if(!a||!b){var c=window.document,d=\"CSS1Compat\"==c.compatMode?c.documentElement:c.body;a=d.clientWidth;b=d.clientHeight}a&&b&&(a!=google.cdo.width||b!=google.cdo.height)&&google.log(\"\",\"\",\"/client_204?&atyp=i&biw=\"+a+\"&bih=\"+b+\"&ei=\"+google.kEI);}).call(this);})();</script> <script nonce=\"WEYuu6ZP0JimKnwhhN0UyQ==\">(function(){google.xjs={ck:'',cs:'',excm:[]};})();</script> <script nonce=\"WEYuu6ZP0JimKnwhhN0UyQ==\">(function(){var u='/xjs/_/js/k\\x3dxjs.hp.en_US.p12-WFKRNdE.O/am\\x3dAPgEWA/d\\x3d1/ed\\x3d1/rs\\x3dACT90oEz-9zP8oxuqSBGqJ_cxCEzNAUt-w/m\\x3dsb_he,d';\n",
            "var e=this||self,f=function(a){return a};var g;var l=function(a,b){this.g=b===h?a:\"\"};l.prototype.toString=function(){return this.g+\"\"};var h={};function m(){var a=u;google.lx=function(){n(a);google.lx=function(){}};google.bx||google.lx()}\n",
            "function n(a){google.timers&&google.timers.load&&google.tick&&google.tick(\"load\",\"xjsls\");var b=document;var c=\"SCRIPT\";\"application/xhtml+xml\"===b.contentType&&(c=c.toLowerCase());c=b.createElement(c);if(void 0===g){b=null;var k=e.trustedTypes;if(k&&k.createPolicy){try{b=k.createPolicy(\"goog#html\",{createHTML:f,createScript:f,createScriptURL:f})}catch(p){e.console&&e.console.error(p.message)}g=b}else g=b}a=(b=g)?b.createScriptURL(a):a;a=new l(a,h);c.src=a instanceof l&&a.constructor===l?a.g:\"type_error:TrustedResourceUrl\";var d;a=(c.ownerDocument&&c.ownerDocument.defaultView||window).document;(d=(b=null===(d=a.querySelector)||void 0===d?void 0:d.call(a,\"script[nonce]\"))?b.nonce||b.getAttribute(\"nonce\")||\"\":\"\")&&c.setAttribute(\"nonce\",d);document.body.appendChild(c);google.psa=!0};setTimeout(function(){m()},0);})();(function(){window.google.xjsu='/xjs/_/js/k\\x3dxjs.hp.en_US.p12-WFKRNdE.O/am\\x3dAPgEWA/d\\x3d1/ed\\x3d1/rs\\x3dACT90oEz-9zP8oxuqSBGqJ_cxCEzNAUt-w/m\\x3dsb_he,d';})();function _DumpException(e){throw e;}\n",
            "function _F_installCss(c){}\n",
            "(function(){google.jl={attn:false,blt:'none',chnk:0,dw:false,emtn:0,end:0,ine:false,lls:'default',pdt:0,rep:0,sif:true,snet:true,strt:0,ubm:false,uwp:true};})();(function(){var pmc='{\\x22d\\x22:{},\\x22sb_he\\x22:{\\x22agen\\x22:true,\\x22cgen\\x22:true,\\x22client\\x22:\\x22heirloom-hp\\x22,\\x22dh\\x22:true,\\x22dhqt\\x22:true,\\x22ds\\x22:\\x22\\x22,\\x22ffql\\x22:\\x22en\\x22,\\x22fl\\x22:true,\\x22host\\x22:\\x22google.com\\x22,\\x22isbh\\x22:28,\\x22jsonp\\x22:true,\\x22msgs\\x22:{\\x22cibl\\x22:\\x22Clear Search\\x22,\\x22dym\\x22:\\x22Did you mean:\\x22,\\x22lcky\\x22:\\x22I\\\\u0026#39;m Feeling Lucky\\x22,\\x22lml\\x22:\\x22Learn more\\x22,\\x22oskt\\x22:\\x22Input tools\\x22,\\x22psrc\\x22:\\x22This search was removed from your \\\\u003Ca href\\x3d\\\\\\x22/history\\\\\\x22\\\\u003EWeb History\\\\u003C/a\\\\u003E\\x22,\\x22psrl\\x22:\\x22Remove\\x22,\\x22sbit\\x22:\\x22Search by image\\x22,\\x22srch\\x22:\\x22Google Search\\x22},\\x22ovr\\x22:{},\\x22pq\\x22:\\x22\\x22,\\x22refpd\\x22:true,\\x22rfs\\x22:[],\\x22sbas\\x22:\\x220 3px 8px 0 rgba(0,0,0,0.2),0 0 0 1px rgba(0,0,0,0.08)\\x22,\\x22sbpl\\x22:16,\\x22sbpr\\x22:16,\\x22scd\\x22:10,\\x22stok\\x22:\\x22ydnKfqsoMF0wLPhfjF_Sg8-Elcc\\x22,\\x22uhde\\x22:false}}';google.pmc=JSON.parse(pmc);})();</script> </body></html>\n"
          ]
        }
      ],
      "source": [
        "print(soup)"
      ]
    },
    {
      "cell_type": "code",
      "execution_count": null,
      "metadata": {
        "colab": {
          "base_uri": "https://localhost:8080/"
        },
        "id": "ut1dZaQ0-WRK",
        "outputId": "834bba50-a25b-4a89-8cfe-96061a8d4269"
      },
      "outputs": [
        {
          "name": "stdout",
          "output_type": "stream",
          "text": [
            "<title>Google</title>\n"
          ]
        }
      ],
      "source": [
        "#cria objeto tag com informacoes do titulo\n",
        "tag = soup.title\n",
        "print(tag)"
      ]
    },
    {
      "cell_type": "code",
      "execution_count": null,
      "metadata": {
        "colab": {
          "base_uri": "https://localhost:8080/"
        },
        "id": "_PCmZXQi1aBH",
        "outputId": "77f288d0-5c0c-4d16-9b46-8839d545c1a4"
      },
      "outputs": [
        {
          "name": "stdout",
          "output_type": "stream",
          "text": [
            "http://www.google.com.tw/imghp?hl=zh-TW&tab=wi\n"
          ]
        }
      ],
      "source": [
        "#imprime o link html do atributo\n",
        "print(soup.a['href'])"
      ]
    },
    {
      "cell_type": "code",
      "execution_count": null,
      "metadata": {
        "colab": {
          "base_uri": "https://localhost:8080/"
        },
        "id": "DH5op1xJEnfD",
        "outputId": "dd68f1d0-ba11-4536-ee1c-1a3f0e3e07d2"
      },
      "outputs": [
        {
          "name": "stdout",
          "output_type": "stream",
          "text": [
            "<title>Google</title>\n"
          ]
        }
      ],
      "source": [
        "print(soup.title)"
      ]
    },
    {
      "cell_type": "code",
      "execution_count": null,
      "metadata": {
        "colab": {
          "base_uri": "https://localhost:8080/"
        },
        "id": "ort7kcW0_mnH",
        "outputId": "1d90663e-42fc-43fa-a230-ecfce6112b28"
      },
      "outputs": [
        {
          "name": "stdout",
          "output_type": "stream",
          "text": [
            "<!DOCTYPE html>\n",
            "<html itemscope=\"\" itemtype=\"http://schema.org/WebPage\" lang=\"en\">\n",
            " <head>\n",
            "  <meta content=\"Search the world's information, including webpages, images, videos and more. Google has many special features to help you find exactly what you're looking for.\" name=\"description\"/>\n",
            "  <meta content=\"noodp\" name=\"robots\"/>\n",
            "  <meta content=\"text/html; charset=utf-8\" http-equiv=\"Content-Type\"/>\n",
            "  <meta content=\"/images/branding/googleg/1x/googleg_standard_color_128dp.png\" itemprop=\"image\"/>\n",
            "  <title>\n",
            "   Google\n",
            "  </title>\n",
            "  <script nonce=\"WEYuu6ZP0JimKnwhhN0UyQ==\">\n",
            "   (function(){window.google={kEI:'O8M7YYGoDsbQ-wT1qLkQ',kEXPI:'0,772215,1,530320,56873,954,5105,206,2414,2390,2316,383,246,5,1354,4936,314,1122516,1197705,578,328984,51224,16114,17444,11240,893,16679,4858,1362,9291,3025,17583,4020,978,13228,3847,4192,6430,1142,6290,11612,2780,917,5081,1593,1279,2212,530,149,1103,842,1981,4314,109,3405,606,2023,1777,522,14668,3227,2845,9,5597,6755,5096,14396,1924,908,2,941,2614,12710,432,3,1590,1,5445,148,11323,2652,4,1528,2304,1238,5801,74,1983,2626,2015,11501,2110,1714,3050,2658,4243,3114,30,5663,7965,2305,638,37,7043,3772,5993,1435,5824,2533,4094,3138,6,908,3,3541,1,5349,9361,1,1813,283,912,5992,1160,13518,742,35,1,1272,1715,2,3057,6163,619,4,41,4,5378,4,683,442,342,255,55,4,2811,123,1557,744,5852,2051,8412,1160,1269,5139,291,2381,2719,3708,2,835,3,125,5348,360,3788,487,1213,678,1685,10,1,8,7771,1933,2635,1596,982,372,2752,554,2471,2106,311,483,1264,52,645,1,198,40,2,4,2255,668,3,534,930,50,2,4195,214,1654,318,429,35,415,260,1,189,714,1482,439,18,252,174,2,899,150,620,22,2,523,138,98,1600,246,432,412,177,53,197,549,1079,40,84,411,838,2,663,78,101,2,146,1298,111,723,7,167,71,1842,817,5575445,3905,101,89,256,73,88,118,5996070,520,205,2800491,882,444,1,2,80,1,1796,1,9,2553,1,748,141,795,563,1,4265,1,1,2,1331,4142,2609,155,17,13,72,139,4,2,20,2,169,13,19,46,5,39,96,548,29,2,2,1,2,1,2,2,7,4,1,2,2,2,2,2,2,353,513,186,1,1,158,3,2,2,2,2,2,4,2,3,3,269,364,99,10,5,23,7,2,1,3,6,24,3,7,23654304,299865,4041351,338,3,2414,448,2,463,172,406,9,3235,1278,264,923',kBL:'kAEu'};google.sn='webhp';google.kHL='en';})();(function(){\n",
            "var f=this||self;var h,k=[];function l(a){for(var b;a&&(!a.getAttribute||!(b=a.getAttribute(\"eid\")));)a=a.parentNode;return b||h}function m(a){for(var b=null;a&&(!a.getAttribute||!(b=a.getAttribute(\"leid\")));)a=a.parentNode;return b}\n",
            "function n(a,b,c,d,g){var e=\"\";c||-1!==b.search(\"&ei=\")||(e=\"&ei=\"+l(d),-1===b.search(\"&lei=\")&&(d=m(d))&&(e+=\"&lei=\"+d));d=\"\";!c&&f._cshid&&-1===b.search(\"&cshid=\")&&\"slh\"!==a&&(d=\"&cshid=\"+f._cshid);c=c||\"/\"+(g||\"gen_204\")+\"?atyp=i&ct=\"+a+\"&cad=\"+b+e+\"&zx=\"+Date.now()+d;/^http:/i.test(c)&&\"https:\"===window.location.protocol&&(google.ml&&google.ml(Error(\"a\"),!1,{src:c,glmm:1}),c=\"\");return c};h=google.kEI;google.getEI=l;google.getLEI=m;google.ml=function(){return null};google.log=function(a,b,c,d,g){if(c=n(a,b,c,d,g)){a=new Image;var e=k.length;k[e]=a;a.onerror=a.onload=a.onabort=function(){delete k[e]};a.src=c}};google.logUrl=n;}).call(this);(function(){\n",
            "google.y={};google.sy=[];google.x=function(a,b){if(a)var c=a.id;else{do c=Math.random();while(google.y[c])}google.y[c]=[a,b];return!1};google.sx=function(a){google.sy.push(a)};google.lm=[];google.plm=function(a){google.lm.push.apply(google.lm,a)};google.lq=[];google.load=function(a,b,c){google.lq.push([[a],b,c])};google.loadAll=function(a,b){google.lq.push([a,b])};google.bx=!1;google.lx=function(){};}).call(this);google.f={};(function(){\n",
            "document.documentElement.addEventListener(\"submit\",function(b){var a;if(a=b.target){var c=a.getAttribute(\"data-submitfalse\");a=\"1\"===c||\"q\"===c&&!a.elements.q.value?!0:!1}else a=!1;a&&(b.preventDefault(),b.stopPropagation())},!0);document.documentElement.addEventListener(\"click\",function(b){var a;a:{for(a=b.target;a&&a!==document.documentElement;a=a.parentElement)if(\"A\"===a.tagName){a=\"1\"===a.getAttribute(\"data-nohref\");break a}a=!1}a&&b.preventDefault()},!0);}).call(this);\n",
            "  </script>\n",
            "  <style>\n",
            "   #gbar,#guser{font-size:13px;padding-top:1px !important;}#gbar{height:22px}#guser{padding-bottom:7px !important;text-align:right}.gbh,.gbd{border-top:1px solid #c9d7f1;font-size:1px}.gbh{height:0;position:absolute;top:24px;width:100%}@media all{.gb1{height:22px;margin-right:.5em;vertical-align:top}#gbar{float:left}}a.gb1,a.gb4{text-decoration:underline !important}a.gb1,a.gb4{color:#00c !important}.gbi .gb4{color:#dd8e27 !important}.gbf .gb4{color:#900 !important}\n",
            "  </style>\n",
            "  <style>\n",
            "   body,td,a,p,.h{font-family:arial,sans-serif}body{margin:0;overflow-y:scroll}#gog{padding:3px 8px 0}td{line-height:.8em}.gac_m td{line-height:17px}form{margin-bottom:20px}.h{color:#1558d6}em{font-weight:bold;font-style:normal}.lst{height:25px;width:496px}.gsfi,.lst{font:18px arial,sans-serif}.gsfs{font:17px arial,sans-serif}.ds{display:inline-box;display:inline-block;margin:3px 0 4px;margin-left:4px}input{font-family:inherit}body{background:#fff;color:#000}a{color:#4b11a8;text-decoration:none}a:hover,a:active{text-decoration:underline}.fl a{color:#1558d6}a:visited{color:#4b11a8}.sblc{padding-top:5px}.sblc a{display:block;margin:2px 0;margin-left:13px;font-size:11px}.lsbb{background:#f8f9fa;border:solid 1px;border-color:#dadce0 #70757a #70757a #dadce0;height:30px}.lsbb{display:block}#WqQANb a{display:inline-block;margin:0 12px}.lsb{background:url(/images/nav_logo229.png) 0 -261px repeat-x;border:none;color:#000;cursor:pointer;height:30px;margin:0;outline:0;font:15px arial,sans-serif;vertical-align:top}.lsb:active{background:#dadce0}.lst:focus{outline:none}\n",
            "  </style>\n",
            "  <script nonce=\"WEYuu6ZP0JimKnwhhN0UyQ==\">\n",
            "   (function(){window.google.erd={sp:'hp',jsr:0,bv:10};\n",
            "var f=this||self;var g,h,k=null!==(g=f.mei)&&void 0!==g?g:1,l=null!==(h=f.sdo)&&void 0!==h?h:!0,n=0,p,q=google.erd,t=q.jsr;google.ml=function(a,b,e,m,d){d=void 0===d?2:d;b&&(p=a&&a.message);if(google.dl)return google.dl(a,d,e),null;if(0>t){window.console&&console.error(a,e);if(-2===t)throw a;b=!1}else b=!a||!a.message||\"Error loading script\"===a.message||n>=k&&!m?!1:!0;if(!b)return null;n++;e=e||{};b=encodeURIComponent;var c=\"/gen_204?atyp=i&ei=\"+b(google.kEI);google.kEXPI&&(c+=\"&jexpid=\"+b(google.kEXPI));c+=\"&srcpg=\"+b(q.sp)+\"&jsr=\"+b(q.jsr)+\"&bver=\"+b(q.bv)+(\"&jsel=\"+d);c+=\"&sn=\"+b(google.sn);for(var r in e)c+=\"&\",c+=b(r),c+=\"=\",c+=b(e[r]);c=c+\"&emsg=\"+b(a.name+\": \"+a.message);c=c+\"&jsst=\"+b(a.stack||\"N/A\");12288<=c.length&&(c=c.substr(0,12288));a=c;m||google.log(0,\"\",a);return a};window.onerror=function(a,b,e,m,d){p!==a&&google.ml(d instanceof Error?d:Error(a),!1,void 0,!1,google.dl?0:2);p=null;l&&n>=k&&(window.onerror=null)};})();\n",
            "  </script>\n",
            " </head>\n",
            " <body bgcolor=\"#fff\">\n",
            "  <script nonce=\"WEYuu6ZP0JimKnwhhN0UyQ==\">\n",
            "   (function(){var src='/images/nav_logo229.png';var iesg=false;document.body.onload = function(){window.n && window.n();if (document.images){new Image().src=src;}\n",
            "if (!iesg){document.f&&document.f.q.focus();document.gbqf&&document.gbqf.q.focus();}\n",
            "}\n",
            "})();\n",
            "  </script>\n",
            "  <div id=\"mngb\">\n",
            "   <div id=\"gbar\">\n",
            "    <nobr>\n",
            "     <b class=\"gb1\">\n",
            "      Search\n",
            "     </b>\n",
            "     <a class=\"gb1\" href=\"http://www.google.com/imghp?hl=en&amp;tab=wi\">\n",
            "      Images\n",
            "     </a>\n",
            "     <a class=\"gb1\" href=\"http://maps.google.com/maps?hl=en&amp;tab=wl\">\n",
            "      Maps\n",
            "     </a>\n",
            "     <a class=\"gb1\" href=\"https://play.google.com/?hl=en&amp;tab=w8\">\n",
            "      Play\n",
            "     </a>\n",
            "     <a class=\"gb1\" href=\"http://www.youtube.com/?gl=US&amp;tab=w1\">\n",
            "      YouTube\n",
            "     </a>\n",
            "     <a class=\"gb1\" href=\"https://news.google.com/?tab=wn\">\n",
            "      News\n",
            "     </a>\n",
            "     <a class=\"gb1\" href=\"https://mail.google.com/mail/?tab=wm\">\n",
            "      Gmail\n",
            "     </a>\n",
            "     <a class=\"gb1\" href=\"https://drive.google.com/?tab=wo\">\n",
            "      Drive\n",
            "     </a>\n",
            "     <a class=\"gb1\" href=\"https://www.google.com/intl/en/about/products?tab=wh\" style=\"text-decoration:none\">\n",
            "      <u>\n",
            "       More\n",
            "      </u>\n",
            "      »\n",
            "     </a>\n",
            "    </nobr>\n",
            "   </div>\n",
            "   <div id=\"guser\" width=\"100%\">\n",
            "    <nobr>\n",
            "     <span class=\"gbi\" id=\"gbn\">\n",
            "     </span>\n",
            "     <span class=\"gbf\" id=\"gbf\">\n",
            "     </span>\n",
            "     <span id=\"gbe\">\n",
            "     </span>\n",
            "     <a class=\"gb4\" href=\"http://www.google.com/history/optout?hl=en\">\n",
            "      Web History\n",
            "     </a>\n",
            "     |\n",
            "     <a class=\"gb4\" href=\"/preferences?hl=en\">\n",
            "      Settings\n",
            "     </a>\n",
            "     |\n",
            "     <a class=\"gb4\" href=\"https://accounts.google.com/ServiceLogin?hl=en&amp;passive=true&amp;continue=http://www.google.com/&amp;ec=GAZAAQ\" id=\"gb_70\" target=\"_top\">\n",
            "      Sign in\n",
            "     </a>\n",
            "    </nobr>\n",
            "   </div>\n",
            "   <div class=\"gbh\" style=\"left:0\">\n",
            "   </div>\n",
            "   <div class=\"gbh\" style=\"right:0\">\n",
            "   </div>\n",
            "  </div>\n",
            "  <center>\n",
            "   <br clear=\"all\" id=\"lgpd\"/>\n",
            "   <div id=\"lga\">\n",
            "    <img alt=\"Google\" height=\"92\" id=\"hplogo\" src=\"/images/branding/googlelogo/1x/googlelogo_white_background_color_272x92dp.png\" style=\"padding:28px 0 14px\" width=\"272\"/>\n",
            "    <br/>\n",
            "    <br/>\n",
            "   </div>\n",
            "   <form action=\"/search\" name=\"f\">\n",
            "    <table cellpadding=\"0\" cellspacing=\"0\">\n",
            "     <tr valign=\"top\">\n",
            "      <td width=\"25%\">\n",
            "      </td>\n",
            "      <td align=\"center\" nowrap=\"\">\n",
            "       <input name=\"ie\" type=\"hidden\" value=\"ISO-8859-1\"/>\n",
            "       <input name=\"hl\" type=\"hidden\" value=\"en\"/>\n",
            "       <input name=\"source\" type=\"hidden\" value=\"hp\"/>\n",
            "       <input name=\"biw\" type=\"hidden\"/>\n",
            "       <input name=\"bih\" type=\"hidden\"/>\n",
            "       <div class=\"ds\" style=\"height:32px;margin:4px 0\">\n",
            "        <input autocomplete=\"off\" class=\"lst\" maxlength=\"2048\" name=\"q\" size=\"57\" style=\"margin:0;padding:5px 8px 0 6px;vertical-align:top;color:#000\" title=\"Google Search\" value=\"\"/>\n",
            "       </div>\n",
            "       <br style=\"line-height:0\"/>\n",
            "       <span class=\"ds\">\n",
            "        <span class=\"lsbb\">\n",
            "         <input class=\"lsb\" name=\"btnG\" type=\"submit\" value=\"Google Search\"/>\n",
            "        </span>\n",
            "       </span>\n",
            "       <span class=\"ds\">\n",
            "        <span class=\"lsbb\">\n",
            "         <input class=\"lsb\" id=\"tsuid1\" name=\"btnI\" type=\"submit\" value=\"I'm Feeling Lucky\"/>\n",
            "         <script nonce=\"WEYuu6ZP0JimKnwhhN0UyQ==\">\n",
            "          (function(){var id='tsuid1';document.getElementById(id).onclick = function(){if (this.form.q.value){this.checked = 1;if (this.form.iflsig)this.form.iflsig.disabled = false;}\n",
            "else top.location='/doodles/';};})();\n",
            "         </script>\n",
            "         <input name=\"iflsig\" type=\"hidden\" value=\"ALs-wAMAAAAAYTvRS6MbgSpicJ5tW_vVVyJxdU1V1D9J\"/>\n",
            "        </span>\n",
            "       </span>\n",
            "      </td>\n",
            "      <td align=\"left\" class=\"fl sblc\" nowrap=\"\" width=\"25%\">\n",
            "       <a href=\"/advanced_search?hl=en&amp;authuser=0\">\n",
            "        Advanced search\n",
            "       </a>\n",
            "      </td>\n",
            "     </tr>\n",
            "    </table>\n",
            "    <input id=\"gbv\" name=\"gbv\" type=\"hidden\" value=\"1\"/>\n",
            "    <script nonce=\"WEYuu6ZP0JimKnwhhN0UyQ==\">\n",
            "     (function(){\n",
            "var a,b=\"1\";if(document&&document.getElementById)if(\"undefined\"!=typeof XMLHttpRequest)b=\"2\";else if(\"undefined\"!=typeof ActiveXObject){var c,d,e=[\"MSXML2.XMLHTTP.6.0\",\"MSXML2.XMLHTTP.3.0\",\"MSXML2.XMLHTTP\",\"Microsoft.XMLHTTP\"];for(c=0;d=e[c++];)try{new ActiveXObject(d),b=\"2\"}catch(h){}}a=b;if(\"2\"==a&&-1==location.search.indexOf(\"&gbv=2\")){var f=google.gbvu,g=document.getElementById(\"gbv\");g&&(g.value=a);f&&window.setTimeout(function(){location.href=f},0)};}).call(this);\n",
            "    </script>\n",
            "   </form>\n",
            "   <div id=\"gac_scont\">\n",
            "   </div>\n",
            "   <div style=\"font-size:83%;min-height:3.5em\">\n",
            "    <br/>\n",
            "   </div>\n",
            "   <span id=\"footer\">\n",
            "    <div style=\"font-size:10pt\">\n",
            "     <div id=\"WqQANb\" style=\"margin:19px auto;text-align:center\">\n",
            "      <a href=\"/intl/en/ads/\">\n",
            "       Advertising Programs\n",
            "      </a>\n",
            "      <a href=\"/services/\">\n",
            "       Business Solutions\n",
            "      </a>\n",
            "      <a href=\"/intl/en/about.html\">\n",
            "       About Google\n",
            "      </a>\n",
            "     </div>\n",
            "    </div>\n",
            "    <p style=\"font-size:8pt;color:#70757a\">\n",
            "     © 2021 -\n",
            "     <a href=\"/intl/en/policies/privacy/\">\n",
            "      Privacy\n",
            "     </a>\n",
            "     -\n",
            "     <a href=\"/intl/en/policies/terms/\">\n",
            "      Terms\n",
            "     </a>\n",
            "    </p>\n",
            "   </span>\n",
            "  </center>\n",
            "  <script nonce=\"WEYuu6ZP0JimKnwhhN0UyQ==\">\n",
            "   (function(){window.google.cdo={height:757,width:1440};(function(){\n",
            "var a=window.innerWidth,b=window.innerHeight;if(!a||!b){var c=window.document,d=\"CSS1Compat\"==c.compatMode?c.documentElement:c.body;a=d.clientWidth;b=d.clientHeight}a&&b&&(a!=google.cdo.width||b!=google.cdo.height)&&google.log(\"\",\"\",\"/client_204?&atyp=i&biw=\"+a+\"&bih=\"+b+\"&ei=\"+google.kEI);}).call(this);})();\n",
            "  </script>\n",
            "  <script nonce=\"WEYuu6ZP0JimKnwhhN0UyQ==\">\n",
            "   (function(){google.xjs={ck:'',cs:'',excm:[]};})();\n",
            "  </script>\n",
            "  <script nonce=\"WEYuu6ZP0JimKnwhhN0UyQ==\">\n",
            "   (function(){var u='/xjs/_/js/k\\x3dxjs.hp.en_US.p12-WFKRNdE.O/am\\x3dAPgEWA/d\\x3d1/ed\\x3d1/rs\\x3dACT90oEz-9zP8oxuqSBGqJ_cxCEzNAUt-w/m\\x3dsb_he,d';\n",
            "var e=this||self,f=function(a){return a};var g;var l=function(a,b){this.g=b===h?a:\"\"};l.prototype.toString=function(){return this.g+\"\"};var h={};function m(){var a=u;google.lx=function(){n(a);google.lx=function(){}};google.bx||google.lx()}\n",
            "function n(a){google.timers&&google.timers.load&&google.tick&&google.tick(\"load\",\"xjsls\");var b=document;var c=\"SCRIPT\";\"application/xhtml+xml\"===b.contentType&&(c=c.toLowerCase());c=b.createElement(c);if(void 0===g){b=null;var k=e.trustedTypes;if(k&&k.createPolicy){try{b=k.createPolicy(\"goog#html\",{createHTML:f,createScript:f,createScriptURL:f})}catch(p){e.console&&e.console.error(p.message)}g=b}else g=b}a=(b=g)?b.createScriptURL(a):a;a=new l(a,h);c.src=a instanceof l&&a.constructor===l?a.g:\"type_error:TrustedResourceUrl\";var d;a=(c.ownerDocument&&c.ownerDocument.defaultView||window).document;(d=(b=null===(d=a.querySelector)||void 0===d?void 0:d.call(a,\"script[nonce]\"))?b.nonce||b.getAttribute(\"nonce\")||\"\":\"\")&&c.setAttribute(\"nonce\",d);document.body.appendChild(c);google.psa=!0};setTimeout(function(){m()},0);})();(function(){window.google.xjsu='/xjs/_/js/k\\x3dxjs.hp.en_US.p12-WFKRNdE.O/am\\x3dAPgEWA/d\\x3d1/ed\\x3d1/rs\\x3dACT90oEz-9zP8oxuqSBGqJ_cxCEzNAUt-w/m\\x3dsb_he,d';})();function _DumpException(e){throw e;}\n",
            "function _F_installCss(c){}\n",
            "(function(){google.jl={attn:false,blt:'none',chnk:0,dw:false,emtn:0,end:0,ine:false,lls:'default',pdt:0,rep:0,sif:true,snet:true,strt:0,ubm:false,uwp:true};})();(function(){var pmc='{\\x22d\\x22:{},\\x22sb_he\\x22:{\\x22agen\\x22:true,\\x22cgen\\x22:true,\\x22client\\x22:\\x22heirloom-hp\\x22,\\x22dh\\x22:true,\\x22dhqt\\x22:true,\\x22ds\\x22:\\x22\\x22,\\x22ffql\\x22:\\x22en\\x22,\\x22fl\\x22:true,\\x22host\\x22:\\x22google.com\\x22,\\x22isbh\\x22:28,\\x22jsonp\\x22:true,\\x22msgs\\x22:{\\x22cibl\\x22:\\x22Clear Search\\x22,\\x22dym\\x22:\\x22Did you mean:\\x22,\\x22lcky\\x22:\\x22I\\\\u0026#39;m Feeling Lucky\\x22,\\x22lml\\x22:\\x22Learn more\\x22,\\x22oskt\\x22:\\x22Input tools\\x22,\\x22psrc\\x22:\\x22This search was removed from your \\\\u003Ca href\\x3d\\\\\\x22/history\\\\\\x22\\\\u003EWeb History\\\\u003C/a\\\\u003E\\x22,\\x22psrl\\x22:\\x22Remove\\x22,\\x22sbit\\x22:\\x22Search by image\\x22,\\x22srch\\x22:\\x22Google Search\\x22},\\x22ovr\\x22:{},\\x22pq\\x22:\\x22\\x22,\\x22refpd\\x22:true,\\x22rfs\\x22:[],\\x22sbas\\x22:\\x220 3px 8px 0 rgba(0,0,0,0.2),0 0 0 1px rgba(0,0,0,0.08)\\x22,\\x22sbpl\\x22:16,\\x22sbpr\\x22:16,\\x22scd\\x22:10,\\x22stok\\x22:\\x22ydnKfqsoMF0wLPhfjF_Sg8-Elcc\\x22,\\x22uhde\\x22:false}}';google.pmc=JSON.parse(pmc);})();\n",
            "  </script>\n",
            " </body>\n",
            "</html>\n"
          ]
        }
      ],
      "source": [
        "#Visualizando o HTML da página de forma visual\n",
        "print(soup.prettify())"
      ]
    },
    {
      "cell_type": "code",
      "execution_count": null,
      "metadata": {
        "id": "MCP8BLMsA9MK"
      },
      "outputs": [],
      "source": [
        "\n",
        "r = requests.get('http://dataquestio.github.io/web-scraping-pages/simple.html')\n",
        "soup = BeautifulSoup(r.text, 'html.parser')"
      ]
    },
    {
      "cell_type": "code",
      "execution_count": null,
      "metadata": {
        "colab": {
          "base_uri": "https://localhost:8080/"
        },
        "id": "gxnEPqCWA9Qx",
        "outputId": "12ad1047-a3d5-4e0f-bb0c-9d8c74ecec26"
      },
      "outputs": [
        {
          "name": "stdout",
          "output_type": "stream",
          "text": [
            "<!DOCTYPE html>\n",
            "<html>\n",
            " <head>\n",
            "  <title>\n",
            "   A simple example page\n",
            "  </title>\n",
            " </head>\n",
            " <body>\n",
            "  <p>\n",
            "   Here is some simple content for this page.\n",
            "  </p>\n",
            " </body>\n",
            "</html>\n"
          ]
        }
      ],
      "source": [
        "#Visualizando todas as tags\n",
        "print(soup.prettify())"
      ]
    },
    {
      "cell_type": "code",
      "execution_count": null,
      "metadata": {
        "colab": {
          "base_uri": "https://localhost:8080/"
        },
        "id": "J4uBytU6A9VJ",
        "outputId": "03d4edef-95cb-47fb-efc4-49ff3dcdc3c0"
      },
      "outputs": [
        {
          "data": {
            "text/plain": [
              "<title>A simple example page</title>"
            ]
          },
          "execution_count": 141,
          "metadata": {},
          "output_type": "execute_result"
        }
      ],
      "source": [
        "#Obtendo informações do titulo\n",
        "soup.title"
      ]
    },
    {
      "cell_type": "code",
      "execution_count": null,
      "metadata": {
        "colab": {
          "base_uri": "https://localhost:8080/"
        },
        "id": "88MVsxmzA9YP",
        "outputId": "3401c78d-2668-43fb-db6e-4d881c6296fd"
      },
      "outputs": [
        {
          "data": {
            "text/plain": [
              "<body>\n",
              "<p>Here is some simple content for this page.</p>\n",
              "</body>"
            ]
          },
          "execution_count": 142,
          "metadata": {},
          "output_type": "execute_result"
        }
      ],
      "source": [
        "#Obtendo informações do corpo da pagina\n",
        "soup.body"
      ]
    },
    {
      "cell_type": "code",
      "execution_count": null,
      "metadata": {
        "colab": {
          "base_uri": "https://localhost:8080/"
        },
        "id": "f62aqRBTA9bG",
        "outputId": "88eb5f8b-6655-4c3b-81cf-d73d73786efe"
      },
      "outputs": [
        {
          "data": {
            "text/plain": [
              "<p>Here is some simple content for this page.</p>"
            ]
          },
          "execution_count": 145,
          "metadata": {},
          "output_type": "execute_result"
        }
      ],
      "source": [
        "#Obtendo informações do paragrafo\n",
        "soup.body.p"
      ]
    },
    {
      "cell_type": "code",
      "execution_count": null,
      "metadata": {
        "colab": {
          "base_uri": "https://localhost:8080/"
        },
        "id": "qhhYw2B2A9d9",
        "outputId": "96bfb29f-60b6-4872-aee0-c6ca43947dec"
      },
      "outputs": [
        {
          "data": {
            "text/plain": [
              "['html', '\\n', <html>\n",
              " <head>\n",
              " <title>A simple example page</title>\n",
              " </head>\n",
              " <body>\n",
              " <p>Here is some simple content for this page.</p>\n",
              " </body>\n",
              " </html>]"
            ]
          },
          "execution_count": 144,
          "metadata": {},
          "output_type": "execute_result"
        }
      ],
      "source": [
        "#Visualizando todas as tags disponiveis na pagina\n",
        "list(soup.children)"
      ]
    },
    {
      "cell_type": "code",
      "execution_count": null,
      "metadata": {
        "colab": {
          "base_uri": "https://localhost:8080/"
        },
        "id": "f-R9rPfrHw_e",
        "outputId": "c99f20b5-2ff1-426f-ead9-6d7bdd5fb3b1"
      },
      "outputs": [
        {
          "name": "stdout",
          "output_type": "stream",
          "text": [
            "Here is some simple content for this page.\n"
          ]
        }
      ],
      "source": [
        "#Extraindo o texto das tags\n",
        "texto = soup.body.p.get_text()\n",
        "print(texto)"
      ]
    },
    {
      "cell_type": "code",
      "execution_count": null,
      "metadata": {
        "colab": {
          "base_uri": "https://localhost:8080/"
        },
        "id": "5ttGa5onHxCF",
        "outputId": "f5cae9e8-27ff-48e3-bf24-6b27612b5f6b"
      },
      "outputs": [
        {
          "data": {
            "text/plain": [
              "[<p>Here is some simple content for this page.</p>]"
            ]
          },
          "execution_count": 149,
          "metadata": {},
          "output_type": "execute_result"
        }
      ],
      "source": [
        "#Podemos pesquisar por tags na pagina. O método find_all realiza uma busca trazendo todas as instancias\n",
        "soup.find_all('p')"
      ]
    },
    {
      "cell_type": "code",
      "execution_count": null,
      "metadata": {
        "colab": {
          "base_uri": "https://localhost:8080/"
        },
        "id": "Q79RnTkxHxJE",
        "outputId": "3d7a905d-8acb-47c9-a1aa-d6e3867ca4cb"
      },
      "outputs": [
        {
          "data": {
            "text/plain": [
              "<p>Here is some simple content for this page.</p>"
            ]
          },
          "execution_count": 150,
          "metadata": {},
          "output_type": "execute_result"
        }
      ],
      "source": [
        "#Podemos pesquisar por tags na pagina. O método find realiza uma busca trazendo a primeira instancia\n",
        "soup.find('p')"
      ]
    },
    {
      "cell_type": "code",
      "execution_count": null,
      "metadata": {
        "colab": {
          "base_uri": "https://localhost:8080/"
        },
        "id": "4hrhEaQ7HxMN",
        "outputId": "21523e65-0d57-4f2e-a130-2eb1ec80971f"
      },
      "outputs": [
        {
          "data": {
            "text/plain": [
              "<html>\n",
              "<head>\n",
              "<title>A simple example page</title>\n",
              "</head>\n",
              "<body>\n",
              "<div>\n",
              "<p class=\"inner-text first-item\" id=\"first\">\n",
              "                First paragraph.\n",
              "            </p>\n",
              "<p class=\"inner-text\">\n",
              "                Second paragraph.\n",
              "            </p>\n",
              "</div>\n",
              "<p class=\"outer-text first-item\" id=\"second\">\n",
              "<b>\n",
              "                First outer paragraph.\n",
              "            </b>\n",
              "</p>\n",
              "<p class=\"outer-text\">\n",
              "<b>\n",
              "                Second outer paragraph.\n",
              "            </b>\n",
              "</p>\n",
              "</body>\n",
              "</html>"
            ]
          },
          "execution_count": 152,
          "metadata": {},
          "output_type": "execute_result"
        }
      ],
      "source": [
        "#Buscando dados por classes e id\n",
        "page = requests.get(\"http://dataquestio.github.io/web-scraping-pages/ids_and_classes.html\")\n",
        "soup = BeautifulSoup(page.content, 'html.parser')\n",
        "soup"
      ]
    },
    {
      "cell_type": "code",
      "execution_count": null,
      "metadata": {
        "colab": {
          "base_uri": "https://localhost:8080/"
        },
        "id": "i8jy12emHxPE",
        "outputId": "d5a60dce-2124-4e0f-b9e6-ae421d6486a4"
      },
      "outputs": [
        {
          "data": {
            "text/plain": [
              "[<p class=\"outer-text first-item\" id=\"second\">\n",
              " <b>\n",
              "                 First outer paragraph.\n",
              "             </b>\n",
              " </p>, <p class=\"outer-text\">\n",
              " <b>\n",
              "                 Second outer paragraph.\n",
              "             </b>\n",
              " </p>]"
            ]
          },
          "execution_count": 153,
          "metadata": {},
          "output_type": "execute_result"
        }
      ],
      "source": [
        "soup.find_all('p', class_=\"outer-text\")"
      ]
    },
    {
      "cell_type": "code",
      "execution_count": null,
      "metadata": {
        "colab": {
          "base_uri": "https://localhost:8080/"
        },
        "id": "VEfvEf2OK9C5",
        "outputId": "85cd2dc2-e3d5-45ff-8582-2aebad05c4cb"
      },
      "outputs": [
        {
          "data": {
            "text/plain": [
              "[<p class=\"outer-text first-item\" id=\"second\">\n",
              " <b>\n",
              "                 First outer paragraph.\n",
              "             </b>\n",
              " </p>]"
            ]
          },
          "execution_count": 154,
          "metadata": {},
          "output_type": "execute_result"
        }
      ],
      "source": [
        "#Fazendo a busca por id\n",
        "soup.find_all(id=\"second\")"
      ]
    },
    {
      "cell_type": "markdown",
      "metadata": {
        "id": "lIXkjHEg9c8F"
      },
      "source": [
        "# Continuação do Trabalho 1\n",
        "Utilizando informações do Deputado que apresentou maior gasta publico, realize as seguintes pesquisas:\n",
        "\n",
        "* Utilizando o bs4 desenvolva um script para consultar em sites de preço se os valores pagos pelo produto mais caro está abaixo da média consultada.\n",
        "* Verifique se o deputado com maior volume de gasto contratou alguma empresa inscrita na divida ativa da União."
      ]
    }
  ],
  "metadata": {
    "colab": {
      "provenance": [],
      "toc_visible": true
    },
    "kernelspec": {
      "display_name": "Python 3",
      "name": "python3"
    },
    "language_info": {
      "codemirror_mode": {
        "name": "ipython",
        "version": 3
      },
      "file_extension": ".py",
      "mimetype": "text/x-python",
      "name": "python",
      "nbconvert_exporter": "python",
      "pygments_lexer": "ipython3",
      "version": "3.11.4"
    }
  },
  "nbformat": 4,
  "nbformat_minor": 0
}
