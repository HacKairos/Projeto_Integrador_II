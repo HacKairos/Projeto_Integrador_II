{
  "cells": [
    {
      "cell_type": "code",
      "execution_count": null,
      "metadata": {
        "id": "DkZorvH2rTjM"
      },
      "outputs": [],
      "source": [
        "#importa a biblioteca beautifulsoup e a biblioteca requests para fazer requisicoes http\n",
        "\n",
        "import requests\n",
        "from bs4 import BeautifulSoup\n",
        "import pandas as pd\n",
        "import json"
      ]
    },
    {
      "cell_type": "markdown",
      "metadata": {
        "id": "G4EfTZFVtcmS"
      },
      "source": [
        "# Utilizando dados abertos da Camara Legislativa\n",
        "\n",
        "https://dadosabertos.camara.leg.br/swagger/api.html\n"
      ]
    },
    {
      "cell_type": "markdown",
      "metadata": {
        "id": "5vtbRNkHuVts"
      },
      "source": [
        "Obtendo informações sobre blocos partidários via link\n",
        "\n",
        "https://dadosabertos.camara.leg.br/api/v2/blocos?ordem=ASC&ordenarPor=nome"
      ]
    },
    {
      "cell_type": "code",
      "execution_count": null,
      "metadata": {
        "id": "88hUHtdauUq5"
      },
      "outputs": [],
      "source": [
        "#Convertendo a chamada informada no swagger para utilizar a biblioteca requests\n",
        "url = 'https://dadosabertos.camara.leg.br/api/v2/blocos'\n",
        "params = {'ordem':'ASC','ordenarPor':'nome'}"
      ]
    },
    {
      "cell_type": "code",
      "execution_count": null,
      "metadata": {
        "colab": {
          "base_uri": "https://localhost:8080/"
        },
        "id": "ImgaSwvjvqSq",
        "outputId": "5c79ea98-d440-447c-8f83-eb9870bda887"
      },
      "outputs": [],
      "source": [
        "#Gerando a consulta utilizando python\n",
        "resultado = requests.get(url,params=params)\n",
        "print(resultado)"
      ]
    },
    {
      "cell_type": "code",
      "execution_count": null,
      "metadata": {
        "id": "QKPWZYVmv_DQ"
      },
      "outputs": [],
      "source": [
        "#Visualizando a URL utilizada\n",
        "resultado.url"
      ]
    },
    {
      "cell_type": "code",
      "execution_count": null,
      "metadata": {
        "id": "3ccmWXiyxKHq"
      },
      "outputs": [],
      "source": [
        "#Visualizando o resultado da consulta em JSON\n",
        "resultado.json()"
      ]
    },
    {
      "cell_type": "code",
      "execution_count": null,
      "metadata": {
        "colab": {
          "base_uri": "https://localhost:8080/"
        },
        "id": "vaGRNR2staVj",
        "outputId": "dddd6948-38de-4b41-9ff5-ff69db0bb52d"
      },
      "outputs": [],
      "source": [
        "#Aplicando filtros de acordo com os campos JSON\n",
        "params = {'ordem':'ASC','ordenarPor':'nome','idLegislatura':'56'}\n",
        "resultado = requests.get(url,params=params)\n",
        "print(resultado)\n"
      ]
    },
    {
      "cell_type": "code",
      "execution_count": null,
      "metadata": {},
      "outputs": [],
      "source": [
        "url = 'https://dadosabertos.camara.leg.br/api/v2/legislaturas'\n",
        "params = {'dataInicio':'2019-02-01'}\n",
        "resultado = requests.get(url,params=params)\n",
        "resultado.url\n"
      ]
    },
    {
      "cell_type": "code",
      "execution_count": null,
      "metadata": {
        "colab": {
          "base_uri": "https://localhost:8080/",
          "height": 35
        },
        "id": "SPyQfzVxKmZI",
        "outputId": "5f4853e1-1610-4e22-d736-658f0ac767a3"
      },
      "outputs": [],
      "source": [
        "resultado.url"
      ]
    },
    {
      "cell_type": "code",
      "execution_count": null,
      "metadata": {
        "id": "81E7eETEzMVT"
      },
      "outputs": [],
      "source": [
        "resultado.json()"
      ]
    },
    {
      "cell_type": "code",
      "execution_count": null,
      "metadata": {
        "colab": {
          "base_uri": "https://localhost:8080/"
        },
        "id": "tOSpXzxk7dyT",
        "outputId": "10699a5c-2566-4a43-9e90-216d1ecff8a8"
      },
      "outputs": [],
      "source": [
        "#Fazendo uma busca por deputados do DF\n",
        "url = 'https://dadosabertos.camara.leg.br/api/v2/deputados'\n",
        "\n",
        "params = {'idLegislatura':'56','ordenarPor':'id'}\n",
        "resultado = requests.get(url,params=params)\n",
        "print(resultado)\n",
        "resultado.url\n"
      ]
    },
    {
      "cell_type": "code",
      "execution_count": null,
      "metadata": {
        "colab": {
          "base_uri": "https://localhost:8080/"
        },
        "id": "QFkm9iVGLczZ",
        "outputId": "fe2a5a9f-5c6b-43d7-8beb-1d837f817b12"
      },
      "outputs": [],
      "source": [
        "#Fazendo uma busca por Partido PSL\n",
        "url = f'https://dadosabertos.camara.leg.br/api/v2/deputados/41204/despesas'\n",
        "params = {'ano':'2020'}\n",
        "resultado = requests.get(url,params=params)\n",
        "print(resultado)\n",
        "resultado.url"
      ]
    },
    {
      "cell_type": "code",
      "execution_count": null,
      "metadata": {
        "id": "8K3K-spqMBJT"
      },
      "outputs": [],
      "source": []
    },
    {
      "cell_type": "code",
      "execution_count": null,
      "metadata": {
        "colab": {
          "base_uri": "https://localhost:8080/"
        },
        "id": "Ebd8lUzczy6e",
        "outputId": "df33eac7-a0c0-4ce6-c49e-ff7bbad38374"
      },
      "outputs": [],
      "source": [
        "resultado.json()"
      ]
    },
    {
      "cell_type": "code",
      "execution_count": null,
      "metadata": {
        "id": "CUbO-ixtz7HI"
      },
      "outputs": [],
      "source": [
        "#Convertendo JSON para Dataframe Pandas\n",
        "from pandas import json_normalize\n",
        "response = requests.get(url,params=params)\n"
      ]
    },
    {
      "cell_type": "code",
      "execution_count": null,
      "metadata": {
        "colab": {
          "base_uri": "https://localhost:8080/"
        },
        "id": "5gLQUB1U2Zjf",
        "outputId": "1e5bc962-617f-464d-a813-1fbf6e4a6cbf"
      },
      "outputs": [],
      "source": [
        "#Salvando o resultados do JSON em um dicionario\n",
        "dictr = response.json()\n",
        "#Verificando as chaves disponiveis no dicionario\n",
        "print(dictr.keys())\n",
        "#Utilizando a chave dados para obter as informações\n",
        "recs = dictr['dados']\n",
        "#Convertendo os dados em Dataframe Pandas\n",
        "df = json_normalize(recs)\n",
        "print(df)"
      ]
    },
    {
      "cell_type": "code",
      "execution_count": null,
      "metadata": {
        "id": "wFgnW2cu058H"
      },
      "outputs": [],
      "source": [
        "df.head()"
      ]
    },
    {
      "cell_type": "code",
      "execution_count": null,
      "metadata": {
        "id": "1hrTj9eLNZJY"
      },
      "outputs": [],
      "source": [
        "df['siglaUf'].value_counts()"
      ]
    },
    {
      "cell_type": "markdown",
      "metadata": {
        "id": "mTW0NNTi3C6y"
      },
      "source": [
        "Com os conhecimentos obtidos até aqui faça as seguintes tarefas:\n",
        "\n",
        "* Identifique qual Estado da Federação possui um maior numero de Deputados\n",
        "* Monte um gráfico de barras com a quantidade de deputados por partido"
      ]
    },
    {
      "cell_type": "code",
      "execution_count": null,
      "metadata": {
        "id": "Yr_C5-tRSgo9"
      },
      "outputs": [],
      "source": [
        "url = 'https://dadosabertos.camara.leg.br/api/v2/deputados?dataInicio=2020-01-01&dataFim=2020-12-31'\n",
        "resultado1 = requests.get(url)\n",
        "resultado1.json()"
      ]
    },
    {
      "cell_type": "code",
      "execution_count": null,
      "metadata": {
        "id": "khf2bah0UDEs"
      },
      "outputs": [],
      "source": [
        "url = 'https://dadosabertos.camara.leg.br/api/v2/deputados'\n",
        "params = {'dataInicio':'2021-09-09','dataFim':'2021-09-10'}\n",
        "resultado2 = requests.get(url,params=params)\n",
        "resultado2.url\n"
      ]
    },
    {
      "cell_type": "code",
      "execution_count": null,
      "metadata": {
        "id": "BkYuIMd7S1JK"
      },
      "outputs": [],
      "source": [
        "df = json_normalize(resultado1.json()['dados'])\n",
        "d0 = df['siglaUf'].value_counts()"
      ]
    },
    {
      "cell_type": "code",
      "execution_count": null,
      "metadata": {
        "id": "Y8hz5hMXUngh"
      },
      "outputs": [],
      "source": [
        "df2 = json_normalize(resultado2.json()['dados'])\n",
        "d1 = df2['siglaUf'].value_counts()"
      ]
    },
    {
      "cell_type": "code",
      "execution_count": null,
      "metadata": {
        "colab": {
          "base_uri": "https://localhost:8080/",
          "height": 661
        },
        "id": "V4vAxC7QiEDQ",
        "outputId": "625dd4f3-871a-459d-d984-9d6c677a551c"
      },
      "outputs": [],
      "source": [
        "df"
      ]
    },
    {
      "cell_type": "code",
      "execution_count": null,
      "metadata": {
        "colab": {
          "base_uri": "https://localhost:8080/"
        },
        "id": "MPNSgGJOVekJ",
        "outputId": "b3eb32ca-9835-4960-8baa-eab793ccbec5"
      },
      "outputs": [],
      "source": [
        "len(d0)"
      ]
    },
    {
      "cell_type": "code",
      "execution_count": null,
      "metadata": {
        "id": "MFGUtu9VWOXK"
      },
      "outputs": [],
      "source": [
        "d1 = list(d1)\n",
        "d0 = list(d0)"
      ]
    },
    {
      "cell_type": "code",
      "execution_count": null,
      "metadata": {
        "colab": {
          "base_uri": "https://localhost:8080/"
        },
        "id": "De-ebl8-WmrA",
        "outputId": "80b4bc0c-ef3f-4cbf-8920-4a59d74fb454"
      },
      "outputs": [],
      "source": [
        "d0[0]"
      ]
    },
    {
      "cell_type": "code",
      "execution_count": null,
      "metadata": {
        "colab": {
          "base_uri": "https://localhost:8080/"
        },
        "id": "tXqvNazXU8xO",
        "outputId": "54ab2f33-b70b-4ea4-8d27-980220a7733c"
      },
      "outputs": [],
      "source": [
        "for i in range(len(d1)):\n",
        "  print(i)"
      ]
    },
    {
      "cell_type": "markdown",
      "metadata": {
        "id": "XOd90w-C6c8U"
      },
      "source": [
        "# Trabalho 1 - Valendo nota\n",
        "Monte um grupo com até 3 membros e responda as perguntas listadas abaixo. A sua resposta deve estar embasada com dados e fatos, demonstrando com formulas, equações e explicações detalhadas como o grupo chegou a conclusão.\n",
        "\n",
        "O Trabalho deverá ser desenvolvido no Google Colab. Ao final o grupo deverá gerar um unico PDF e disponibilizar no Teams, que será utilizado para avaliação.\n",
        "O trabalho deverá ser apresentado para toda a turma, na data escolhida pelo professor.\n",
        "\n",
        "* Utilizando python monte uma lista dos 10 deputados que mais gastaram no ano de 2020.\n",
        "\n",
        "* Identifique qual o grupo de despesas onde os 10 deputados mais gastaram\n",
        "* Qual a UF onde os deputados mais gastaram? Qual a unidade federativa onde os deputados gastaram menos?\n",
        "* Qual o Estado onde os deputados mais gastam com passagens? Qual Estado da Federação com maior gasto em combustível?\n",
        "* Analise os dados de 2019 a 2020 e identifique quais deputados reduziram os gastos ao longo do período. Qual deputado teve o aumento mais expressivo?\n",
        "* O volume total de despesas está relacionado ao partido ao qual o deputado pertence?\n",
        "* Quantos deputados nasceram em uma UF diferente da que foram eleitos?\n",
        "* Há diferença entre gastos de deputados homens e mulheres? Faça um boxplot para demonstrar\n",
        "* Identifique quais os deputados mais participaram de eventos na casa.\n",
        "* Há correlação entre os deputados que mais participaram de eventos com as suas ocupações anteriores?\n",
        "* Utilizando informações de gasto publico, monte grupos de deputados de acordo com os tipos de gastos.\n",
        "\n"
      ]
    },
    {
      "cell_type": "markdown",
      "metadata": {
        "id": "tGxQgkGk-ww_"
      },
      "source": [
        "A Biblioteca BS4 permite capturar informações a partir de campos especificos da página HTML. Com isso é possivel fazer pesquisas em partes especificas de sites Web."
      ]
    },
    {
      "cell_type": "code",
      "execution_count": null,
      "metadata": {
        "id": "Pl3kKton-V9H"
      },
      "outputs": [],
      "source": [
        "#cria um objeto a partir de um get http da pagina do google\n",
        "r = requests.get('http://www.google.com')"
      ]
    },
    {
      "cell_type": "code",
      "execution_count": null,
      "metadata": {
        "colab": {
          "base_uri": "https://localhost:8080/",
          "height": 146
        },
        "id": "lXrKwQq9cv8n",
        "outputId": "951f3e57-fbe4-4e02-83a5-04dc34c82315"
      },
      "outputs": [],
      "source": [
        "r.text"
      ]
    },
    {
      "cell_type": "code",
      "execution_count": null,
      "metadata": {
        "id": "S35FM9Dw-WHe"
      },
      "outputs": [],
      "source": [
        "#realiza o parsing utilizando o padrao xml\n",
        "soup = BeautifulSoup(r.text, 'lxml')"
      ]
    },
    {
      "cell_type": "code",
      "execution_count": null,
      "metadata": {
        "colab": {
          "base_uri": "https://localhost:8080/"
        },
        "id": "i6IH3x04-WMz",
        "outputId": "4ac85f07-2695-404c-a3ad-ac3b4bf6a2b5"
      },
      "outputs": [],
      "source": [
        "print(soup)"
      ]
    },
    {
      "cell_type": "code",
      "execution_count": null,
      "metadata": {
        "colab": {
          "base_uri": "https://localhost:8080/"
        },
        "id": "ut1dZaQ0-WRK",
        "outputId": "834bba50-a25b-4a89-8cfe-96061a8d4269"
      },
      "outputs": [],
      "source": [
        "#cria objeto tag com informacoes do titulo\n",
        "tag = soup.title\n",
        "print(tag)"
      ]
    },
    {
      "cell_type": "code",
      "execution_count": null,
      "metadata": {
        "colab": {
          "base_uri": "https://localhost:8080/"
        },
        "id": "_PCmZXQi1aBH",
        "outputId": "77f288d0-5c0c-4d16-9b46-8839d545c1a4"
      },
      "outputs": [],
      "source": [
        "#imprime o link html do atributo\n",
        "print(soup.a['href'])"
      ]
    },
    {
      "cell_type": "code",
      "execution_count": null,
      "metadata": {
        "colab": {
          "base_uri": "https://localhost:8080/"
        },
        "id": "DH5op1xJEnfD",
        "outputId": "dd68f1d0-ba11-4536-ee1c-1a3f0e3e07d2"
      },
      "outputs": [],
      "source": [
        "print(soup.title)"
      ]
    },
    {
      "cell_type": "code",
      "execution_count": null,
      "metadata": {
        "colab": {
          "base_uri": "https://localhost:8080/"
        },
        "id": "ort7kcW0_mnH",
        "outputId": "1d90663e-42fc-43fa-a230-ecfce6112b28"
      },
      "outputs": [],
      "source": [
        "#Visualizando o HTML da página de forma visual\n",
        "print(soup.prettify())"
      ]
    },
    {
      "cell_type": "code",
      "execution_count": null,
      "metadata": {
        "id": "MCP8BLMsA9MK"
      },
      "outputs": [],
      "source": [
        "\n",
        "r = requests.get('http://dataquestio.github.io/web-scraping-pages/simple.html')\n",
        "soup = BeautifulSoup(r.text, 'html.parser')"
      ]
    },
    {
      "cell_type": "code",
      "execution_count": null,
      "metadata": {
        "colab": {
          "base_uri": "https://localhost:8080/"
        },
        "id": "gxnEPqCWA9Qx",
        "outputId": "12ad1047-a3d5-4e0f-bb0c-9d8c74ecec26"
      },
      "outputs": [],
      "source": [
        "#Visualizando todas as tags\n",
        "print(soup.prettify())"
      ]
    },
    {
      "cell_type": "code",
      "execution_count": null,
      "metadata": {
        "colab": {
          "base_uri": "https://localhost:8080/"
        },
        "id": "J4uBytU6A9VJ",
        "outputId": "03d4edef-95cb-47fb-efc4-49ff3dcdc3c0"
      },
      "outputs": [],
      "source": [
        "#Obtendo informações do titulo\n",
        "soup.title"
      ]
    },
    {
      "cell_type": "code",
      "execution_count": null,
      "metadata": {
        "colab": {
          "base_uri": "https://localhost:8080/"
        },
        "id": "88MVsxmzA9YP",
        "outputId": "3401c78d-2668-43fb-db6e-4d881c6296fd"
      },
      "outputs": [],
      "source": [
        "#Obtendo informações do corpo da pagina\n",
        "soup.body"
      ]
    },
    {
      "cell_type": "code",
      "execution_count": null,
      "metadata": {
        "colab": {
          "base_uri": "https://localhost:8080/"
        },
        "id": "f62aqRBTA9bG",
        "outputId": "88eb5f8b-6655-4c3b-81cf-d73d73786efe"
      },
      "outputs": [],
      "source": [
        "#Obtendo informações do paragrafo\n",
        "soup.body.p"
      ]
    },
    {
      "cell_type": "code",
      "execution_count": null,
      "metadata": {
        "colab": {
          "base_uri": "https://localhost:8080/"
        },
        "id": "qhhYw2B2A9d9",
        "outputId": "96bfb29f-60b6-4872-aee0-c6ca43947dec"
      },
      "outputs": [],
      "source": [
        "#Visualizando todas as tags disponiveis na pagina\n",
        "list(soup.children)"
      ]
    },
    {
      "cell_type": "code",
      "execution_count": null,
      "metadata": {
        "colab": {
          "base_uri": "https://localhost:8080/"
        },
        "id": "f-R9rPfrHw_e",
        "outputId": "c99f20b5-2ff1-426f-ead9-6d7bdd5fb3b1"
      },
      "outputs": [],
      "source": [
        "#Extraindo o texto das tags\n",
        "texto = soup.body.p.get_text()\n",
        "print(texto)"
      ]
    },
    {
      "cell_type": "code",
      "execution_count": null,
      "metadata": {
        "colab": {
          "base_uri": "https://localhost:8080/"
        },
        "id": "5ttGa5onHxCF",
        "outputId": "f5cae9e8-27ff-48e3-bf24-6b27612b5f6b"
      },
      "outputs": [],
      "source": [
        "#Podemos pesquisar por tags na pagina. O método find_all realiza uma busca trazendo todas as instancias\n",
        "soup.find_all('p')"
      ]
    },
    {
      "cell_type": "code",
      "execution_count": null,
      "metadata": {
        "colab": {
          "base_uri": "https://localhost:8080/"
        },
        "id": "Q79RnTkxHxJE",
        "outputId": "3d7a905d-8acb-47c9-a1aa-d6e3867ca4cb"
      },
      "outputs": [],
      "source": [
        "#Podemos pesquisar por tags na pagina. O método find realiza uma busca trazendo a primeira instancia\n",
        "soup.find('p')"
      ]
    },
    {
      "cell_type": "code",
      "execution_count": null,
      "metadata": {
        "colab": {
          "base_uri": "https://localhost:8080/"
        },
        "id": "4hrhEaQ7HxMN",
        "outputId": "21523e65-0d57-4f2e-a130-2eb1ec80971f"
      },
      "outputs": [],
      "source": [
        "#Buscando dados por classes e id\n",
        "page = requests.get(\"http://dataquestio.github.io/web-scraping-pages/ids_and_classes.html\")\n",
        "soup = BeautifulSoup(page.content, 'html.parser')\n",
        "soup"
      ]
    },
    {
      "cell_type": "code",
      "execution_count": null,
      "metadata": {
        "colab": {
          "base_uri": "https://localhost:8080/"
        },
        "id": "i8jy12emHxPE",
        "outputId": "d5a60dce-2124-4e0f-b9e6-ae421d6486a4"
      },
      "outputs": [],
      "source": [
        "soup.find_all('p', class_=\"outer-text\")"
      ]
    },
    {
      "cell_type": "code",
      "execution_count": null,
      "metadata": {
        "colab": {
          "base_uri": "https://localhost:8080/"
        },
        "id": "VEfvEf2OK9C5",
        "outputId": "85cd2dc2-e3d5-45ff-8582-2aebad05c4cb"
      },
      "outputs": [],
      "source": [
        "#Fazendo a busca por id\n",
        "soup.find_all(id=\"second\")"
      ]
    },
    {
      "cell_type": "markdown",
      "metadata": {
        "id": "lIXkjHEg9c8F"
      },
      "source": [
        "# Continuação do Trabalho 1\n",
        "Utilizando informações do Deputado que apresentou maior gasta publico, realize as seguintes pesquisas:\n",
        "\n",
        "* Utilizando o bs4 desenvolva um script para consultar em sites de preço se os valores pagos pelo produto mais caro está abaixo da média consultada.\n",
        "* Verifique se o deputado com maior volume de gasto contratou alguma empresa inscrita na divida ativa da União."
      ]
    }
  ],
  "metadata": {
    "colab": {
      "provenance": [],
      "toc_visible": true
    },
    "kernelspec": {
      "display_name": "Python 3",
      "name": "python3"
    },
    "language_info": {
      "codemirror_mode": {
        "name": "ipython",
        "version": 3
      },
      "file_extension": ".py",
      "mimetype": "text/x-python",
      "name": "python",
      "nbconvert_exporter": "python",
      "pygments_lexer": "ipython3",
      "version": "3.11.6"
    }
  },
  "nbformat": 4,
  "nbformat_minor": 0
}
